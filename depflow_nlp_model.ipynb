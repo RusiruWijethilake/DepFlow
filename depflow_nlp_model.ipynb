{
  "cells": [
    {
      "cell_type": "markdown",
      "metadata": {
        "id": "view-in-github",
        "colab_type": "text"
      },
      "source": [
        "<a href=\"https://colab.research.google.com/github/RusiruWijethilake/DepFlow/blob/main/depflow_nlp_model.ipynb\" target=\"_parent\"><img src=\"https://colab.research.google.com/assets/colab-badge.svg\" alt=\"Open In Colab\"/></a>"
      ]
    },
    {
      "cell_type": "code",
      "execution_count": null,
      "metadata": {
        "id": "8CA_GIfeB-Iz"
      },
      "outputs": [],
      "source": [
        "!pip install emoji\n",
        "!pip install fasttext\n",
        "\n",
        "import json\n",
        "import tensorflow as tf\n",
        "import pandas as pd\n",
        "import numpy as np\n",
        "import matplotlib.pyplot as plt\n",
        "import io\n",
        "import tarfile\n",
        "\n",
        "from tensorflow.keras.preprocessing.text import Tokenizer\n",
        "from tensorflow.keras.preprocessing.sequence import pad_sequences\n",
        "from sklearn.metrics import classification_report"
      ]
    },
    {
      "cell_type": "code",
      "execution_count": null,
      "metadata": {
        "id": "Iu_Zd80bCO9j"
      },
      "outputs": [],
      "source": [
        "vocab_size = 2957\n",
        "embedding_dim = 300\n",
        "max_length = 20\n",
        "trunc_type='post'\n",
        "padding_type='post'\n",
        "oov_tok = \"<OOV>\"\n",
        "training_size = 800\n",
        "num_epochs = 15"
      ]
    },
    {
      "cell_type": "code",
      "execution_count": null,
      "metadata": {
        "id": "zAe5qv5cClLq"
      },
      "outputs": [],
      "source": [
        "sentences = []\n",
        "labels = []\n",
        "\n",
        "# Load the dataset\n",
        "url = \"https://raw.githubusercontent.com/RusiruWijethilake/DepFlow/main/new_dataset.csv\"\n",
        "df = pd.read_csv(url)\n",
        "\n",
        "labels = df['class']\n",
        "\n",
        "for sent in df['text']:\n",
        "  sentences.append(sent)"
      ]
    },
    {
      "cell_type": "code",
      "execution_count": null,
      "metadata": {
        "id": "CdiTus6YCnYj"
      },
      "outputs": [],
      "source": [
        "training_sentences = sentences[0:training_size]\n",
        "testing_sentences = sentences[training_size:]\n",
        "training_labels = labels[0:training_size]\n",
        "testing_labels = labels[training_size:]"
      ]
    },
    {
      "cell_type": "code",
      "execution_count": 1,
      "metadata": {
        "id": "k4taRCU4DSM0",
        "colab": {
          "base_uri": "https://localhost:8080/",
          "height": 240
        },
        "outputId": "5799635a-c786-447c-a58f-cbc98910adf9"
      },
      "outputs": [
        {
          "output_type": "error",
          "ename": "NameError",
          "evalue": "ignored",
          "traceback": [
            "\u001b[0;31m---------------------------------------------------------------------------\u001b[0m",
            "\u001b[0;31mNameError\u001b[0m                                 Traceback (most recent call last)",
            "\u001b[0;32m<ipython-input-1-4296913ed6dc>\u001b[0m in \u001b[0;36m<cell line: 1>\u001b[0;34m()\u001b[0m\n\u001b[0;32m----> 1\u001b[0;31m \u001b[0mtokenizer\u001b[0m \u001b[0;34m=\u001b[0m \u001b[0mTokenizer\u001b[0m\u001b[0;34m(\u001b[0m\u001b[0mnum_words\u001b[0m\u001b[0;34m=\u001b[0m\u001b[0mvocab_size\u001b[0m\u001b[0;34m,\u001b[0m \u001b[0moov_token\u001b[0m\u001b[0;34m=\u001b[0m\u001b[0moov_tok\u001b[0m\u001b[0;34m)\u001b[0m\u001b[0;34m\u001b[0m\u001b[0;34m\u001b[0m\u001b[0m\n\u001b[0m\u001b[1;32m      2\u001b[0m \u001b[0mtokenizer\u001b[0m\u001b[0;34m.\u001b[0m\u001b[0mfit_on_texts\u001b[0m\u001b[0;34m(\u001b[0m\u001b[0mtraining_sentences\u001b[0m\u001b[0;34m)\u001b[0m\u001b[0;34m\u001b[0m\u001b[0;34m\u001b[0m\u001b[0m\n\u001b[1;32m      3\u001b[0m \u001b[0;34m\u001b[0m\u001b[0m\n\u001b[1;32m      4\u001b[0m \u001b[0mword_index\u001b[0m \u001b[0;34m=\u001b[0m \u001b[0mtokenizer\u001b[0m\u001b[0;34m.\u001b[0m\u001b[0mword_index\u001b[0m\u001b[0;34m\u001b[0m\u001b[0;34m\u001b[0m\u001b[0m\n\u001b[1;32m      5\u001b[0m \u001b[0mvocab_size\u001b[0m \u001b[0;34m=\u001b[0m \u001b[0mlen\u001b[0m\u001b[0;34m(\u001b[0m\u001b[0mword_index\u001b[0m\u001b[0;34m)\u001b[0m\u001b[0;34m\u001b[0m\u001b[0;34m\u001b[0m\u001b[0m\n",
            "\u001b[0;31mNameError\u001b[0m: name 'Tokenizer' is not defined"
          ]
        }
      ],
      "source": [
        "tokenizer = Tokenizer(num_words=vocab_size, oov_token=oov_tok)\n",
        "tokenizer.fit_on_texts(training_sentences)\n",
        "\n",
        "word_index = tokenizer.word_index\n",
        "vocab_size = len(word_index)\n",
        "print(len(word_index))\n",
        "\n",
        "pyperclip.copy(list_string)\n",
        "\n",
        "training_sequences = tokenizer.texts_to_sequences(training_sentences)\n",
        "training_padded = pad_sequences(training_sequences, maxlen=max_length, padding=padding_type, truncating=trunc_type)\n",
        "\n",
        "testing_sequences = tokenizer.texts_to_sequences(testing_sentences)\n",
        "testing_padded = pad_sequences(testing_sequences, maxlen=max_length, padding=padding_type, truncating=trunc_type)"
      ]
    },
    {
      "cell_type": "code",
      "execution_count": null,
      "metadata": {
        "id": "c2urRUCZDUUy"
      },
      "outputs": [],
      "source": [
        "training_padded = np.array(training_padded)\n",
        "training_labels = np.array(training_labels)\n",
        "testing_padded = np.array(testing_padded)\n",
        "testing_labels = np.array(testing_labels)"
      ]
    },
    {
      "cell_type": "code",
      "source": [
        "!wget https://dl.fbaipublicfiles.com/fasttext/vectors-crawl/cc.si.300.bin.gz\n",
        "!gzip -d cc.si.300.bin.gz"
      ],
      "metadata": {
        "colab": {
          "base_uri": "https://localhost:8080/"
        },
        "id": "Z96gOidFg-rE",
        "outputId": "d9d4dfc5-b5bc-4793-feb0-71e4dce2cc1a"
      },
      "execution_count": null,
      "outputs": [
        {
          "output_type": "stream",
          "name": "stdout",
          "text": [
            "--2023-04-19 18:07:51--  https://dl.fbaipublicfiles.com/fasttext/vectors-crawl/cc.si.300.bin.gz\n",
            "Resolving dl.fbaipublicfiles.com (dl.fbaipublicfiles.com)... 13.249.141.9, 13.249.141.108, 13.249.141.13, ...\n",
            "Connecting to dl.fbaipublicfiles.com (dl.fbaipublicfiles.com)|13.249.141.9|:443... connected.\n",
            "HTTP request sent, awaiting response... 200 OK\n",
            "Length: 3181346570 (3.0G) [application/octet-stream]\n",
            "Saving to: ‘cc.si.300.bin.gz.1’\n",
            "\n",
            "cc.si.300.bin.gz.1  100%[===================>]   2.96G  98.3MB/s    in 19s     \n",
            "\n",
            "2023-04-19 18:08:11 (159 MB/s) - ‘cc.si.300.bin.gz.1’ saved [3181346570/3181346570]\n",
            "\n",
            "gzip: cc.si.300.bin already exists; do you wish to overwrite (y or n)? n\n",
            "\tnot overwritten\n"
          ]
        }
      ]
    },
    {
      "cell_type": "code",
      "source": [
        "import fasttext\n",
        "import fasttext.util\n",
        "\n",
        "ft = fasttext.load_model(\"cc.si.300.bin\")\n",
        "ft.get_dimension()\n",
        "\n",
        "# Mapping FastText word vectors with word in the dataset \n",
        "embedding_dim = ft.get_dimension()\n",
        "embeddings_matrix = np.zeros((vocab_size+1, embedding_dim))\n",
        "for word, i in word_index.items():\n",
        "    embedding_vector = ft.get_word_vector(word)\n",
        "    if embedding_vector is not None:\n",
        "        embeddings_matrix[i] = embedding_vector"
      ],
      "metadata": {
        "colab": {
          "base_uri": "https://localhost:8080/"
        },
        "id": "SqC2RxLwR00Y",
        "outputId": "591c81d9-53e7-4963-842d-1686326004ba"
      },
      "execution_count": null,
      "outputs": [
        {
          "output_type": "stream",
          "name": "stderr",
          "text": [
            "Warning : `load_model` does not return WordVectorModel or SupervisedModel any more, but a `FastText` object which is very similar.\n"
          ]
        }
      ]
    },
    {
      "cell_type": "code",
      "execution_count": null,
      "metadata": {
        "colab": {
          "base_uri": "https://localhost:8080/"
        },
        "id": "fWt8hpjQDbrV",
        "outputId": "837122f8-e76c-42be-ba45-89c586f6d682"
      },
      "outputs": [
        {
          "output_type": "stream",
          "name": "stdout",
          "text": [
            "Model: \"sequential_6\"\n",
            "_________________________________________________________________\n",
            " Layer (type)                Output Shape              Param #   \n",
            "=================================================================\n",
            " embedding_6 (Embedding)     (None, 20, 300)           1106100   \n",
            "                                                                 \n",
            " lstm_5 (LSTM)               (None, 128)               219648    \n",
            "                                                                 \n",
            " dense_7 (Dense)             (None, 1)                 129       \n",
            "                                                                 \n",
            "=================================================================\n",
            "Total params: 1,325,877\n",
            "Trainable params: 219,777\n",
            "Non-trainable params: 1,106,100\n",
            "_________________________________________________________________\n"
          ]
        }
      ],
      "source": [
        "model = tf.keras.Sequential([\n",
        "    tf.keras.layers.Embedding(vocab_size+1, embedding_dim, input_length=max_length, weights=[embeddings_matrix], trainable=False),\n",
        "    tf.keras.layers.LSTM(128),\n",
        "    tf.keras.layers.Dense(1, activation='sigmoid')\n",
        "])\n",
        "model.compile(loss='binary_crossentropy',optimizer='adam',metrics=['accuracy'])\n",
        "model.summary()"
      ]
    },
    {
      "cell_type": "code",
      "execution_count": null,
      "metadata": {
        "colab": {
          "base_uri": "https://localhost:8080/"
        },
        "id": "fC8dmLHZDhKZ",
        "outputId": "a830cf97-6820-4cc0-faca-c6ccffac9548"
      },
      "outputs": [
        {
          "output_type": "stream",
          "name": "stdout",
          "text": [
            "Epoch 1/15\n",
            "25/25 - 11s - loss: 0.6632 - accuracy: 0.6187 - val_loss: 0.5879 - val_accuracy: 0.7171 - 11s/epoch - 447ms/step\n",
            "Epoch 2/15\n",
            "25/25 - 0s - loss: 0.5701 - accuracy: 0.7188 - val_loss: 0.5053 - val_accuracy: 0.7220 - 136ms/epoch - 5ms/step\n",
            "Epoch 3/15\n",
            "25/25 - 0s - loss: 0.4998 - accuracy: 0.7538 - val_loss: 0.5136 - val_accuracy: 0.7268 - 176ms/epoch - 7ms/step\n",
            "Epoch 4/15\n",
            "25/25 - 0s - loss: 0.4518 - accuracy: 0.7875 - val_loss: 0.5304 - val_accuracy: 0.7268 - 159ms/epoch - 6ms/step\n",
            "Epoch 5/15\n",
            "25/25 - 0s - loss: 0.4316 - accuracy: 0.7975 - val_loss: 0.6548 - val_accuracy: 0.7317 - 151ms/epoch - 6ms/step\n",
            "Epoch 6/15\n",
            "25/25 - 0s - loss: 0.4075 - accuracy: 0.8112 - val_loss: 0.5354 - val_accuracy: 0.7122 - 153ms/epoch - 6ms/step\n",
            "Epoch 7/15\n",
            "25/25 - 0s - loss: 0.4071 - accuracy: 0.8200 - val_loss: 0.8643 - val_accuracy: 0.7317 - 201ms/epoch - 8ms/step\n",
            "Epoch 8/15\n",
            "25/25 - 0s - loss: 0.3716 - accuracy: 0.8363 - val_loss: 0.6088 - val_accuracy: 0.7317 - 142ms/epoch - 6ms/step\n",
            "Epoch 9/15\n",
            "25/25 - 0s - loss: 0.3518 - accuracy: 0.8537 - val_loss: 0.6664 - val_accuracy: 0.7220 - 176ms/epoch - 7ms/step\n",
            "Epoch 10/15\n",
            "25/25 - 0s - loss: 0.3195 - accuracy: 0.8725 - val_loss: 0.7826 - val_accuracy: 0.7024 - 138ms/epoch - 6ms/step\n",
            "Epoch 11/15\n",
            "25/25 - 0s - loss: 0.3116 - accuracy: 0.8737 - val_loss: 0.7576 - val_accuracy: 0.7268 - 137ms/epoch - 5ms/step\n",
            "Epoch 12/15\n",
            "25/25 - 0s - loss: 0.2852 - accuracy: 0.8825 - val_loss: 1.2154 - val_accuracy: 0.7220 - 142ms/epoch - 6ms/step\n",
            "Epoch 13/15\n",
            "25/25 - 0s - loss: 0.2766 - accuracy: 0.8888 - val_loss: 0.9641 - val_accuracy: 0.6927 - 154ms/epoch - 6ms/step\n",
            "Epoch 14/15\n",
            "25/25 - 0s - loss: 0.2260 - accuracy: 0.9150 - val_loss: 0.9637 - val_accuracy: 0.6683 - 141ms/epoch - 6ms/step\n",
            "Epoch 15/15\n",
            "25/25 - 0s - loss: 0.2302 - accuracy: 0.9162 - val_loss: 0.9322 - val_accuracy: 0.6634 - 179ms/epoch - 7ms/step\n"
          ]
        }
      ],
      "source": [
        "history = model.fit(training_padded, training_labels, epochs=num_epochs, validation_data=(testing_padded, testing_labels), verbose=2)"
      ]
    },
    {
      "cell_type": "code",
      "execution_count": null,
      "metadata": {
        "colab": {
          "base_uri": "https://localhost:8080/",
          "height": 881
        },
        "id": "QJBx95cdDpHh",
        "outputId": "d1e73a30-cdda-4263-8b6b-cec1f83cecbc"
      },
      "outputs": [
        {
          "output_type": "display_data",
          "data": {
            "text/plain": [
              "<Figure size 640x480 with 1 Axes>"
            ],
            "image/png": "[encoded data removed]"
          },
          "metadata": {}
        },
        {
          "output_type": "display_data",
          "data": {
            "text/plain": [
              "<Figure size 640x480 with 1 Axes>"
            ],
            "image/png": "[encoded data removed]"
          },
          "metadata": {}
        }
      ],
      "source": [
        "def plot_graphs(history, string):\n",
        "  plt.plot(history.history[string])\n",
        "  plt.plot(history.history['val_'+string])\n",
        "  plt.xlabel(\"Epochs\")\n",
        "  plt.ylabel(string)\n",
        "  plt.legend([string, 'val_'+string])\n",
        "  plt.show()\n",
        "  \n",
        "plot_graphs(history, \"accuracy\")\n",
        "plot_graphs(history, \"loss\")"
      ]
    },
    {
      "cell_type": "code",
      "source": [
        "# Model Evaluation\n",
        "eval_sequences = tokenizer.texts_to_sequences(testing_sentences)\n",
        "eval_padded = pad_sequences(eval_sequences, maxlen=max_length, padding=padding_type, truncating=trunc_type)\n",
        "pred = model.predict(eval_padded)\n",
        "predicted_labels = []\n",
        "for x in pred:\n",
        "  predicted_labels.append(int(x.round().item()))\n",
        "\n",
        "predicted_labels = tf.convert_to_tensor(predicted_labels)\n",
        "print(classification_report(testing_labels, predicted_labels))"
      ],
      "metadata": {
        "colab": {
          "base_uri": "https://localhost:8080/"
        },
        "id": "hPj4Tk58Vq5t",
        "outputId": "76bdc703-8c17-4160-d71e-966e605f1b5c"
      },
      "execution_count": null,
      "outputs": [
        {
          "output_type": "stream",
          "name": "stdout",
          "text": [
            "7/7 [==============================] - 0s 4ms/step\n",
            "              precision    recall  f1-score   support\n",
            "\n",
            "           0       0.74      0.82      0.78       148\n",
            "           1       0.35      0.25      0.29        57\n",
            "\n",
            "    accuracy                           0.66       205\n",
            "   macro avg       0.54      0.53      0.53       205\n",
            "weighted avg       0.63      0.66      0.64       205\n",
            "\n"
          ]
        }
      ]
    },
    {
      "cell_type": "code",
      "execution_count": null,
      "metadata": {
        "colab": {
          "base_uri": "https://localhost:8080/"
        },
        "id": "Ynoe9i43Dsud",
        "outputId": "5bedbdac-81e6-494f-dea0-196468fbf508"
      },
      "outputs": [
        {
          "output_type": "stream",
          "name": "stdout",
          "text": [
            "නැති බැරි කම් අග හිග කම් මැද ජීවත් වෙනවට වඩා හොදයි මියදුනා නම් දෙයියනේ ? ? ? ? ? ?\n",
            "හැමදේම අත හැර ගියා නම් හරි වගේ \n",
            "1\n"
          ]
        }
      ],
      "source": [
        "reverse_word_index = dict([(value, key) for (key, value) in word_index.items()])\n",
        "\n",
        "def decode_sentence(text):\n",
        "    return ' '.join([reverse_word_index.get(i, '?') for i in text])\n",
        "\n",
        "print(decode_sentence(training_padded[0]))\n",
        "print(training_sentences[2])\n",
        "print(labels[2])"
      ]
    },
    {
      "cell_type": "code",
      "execution_count": null,
      "metadata": {
        "colab": {
          "base_uri": "https://localhost:8080/"
        },
        "id": "YXAnfVYdDuyg",
        "outputId": "25954afc-76b3-42ef-900e-2b11f963eec7"
      },
      "outputs": [
        {
          "output_type": "stream",
          "name": "stdout",
          "text": [
            "(3687, 300)\n"
          ]
        }
      ],
      "source": [
        "e = model.layers[0]\n",
        "weights = e.get_weights()[0]\n",
        "print(weights.shape) # shape: (vocab_size, embedding_dim)"
      ]
    },
    {
      "cell_type": "code",
      "execution_count": null,
      "metadata": {
        "id": "gZost6BTDw5X"
      },
      "outputs": [],
      "source": [
        "out_v = io.open('vecs.tsv', 'w', encoding='utf-8')\n",
        "out_m = io.open('meta.tsv', 'w', encoding='utf-8')\n",
        "for word_num in range(1, vocab_size):\n",
        "  word = reverse_word_index[word_num]\n",
        "  embeddings = weights[word_num]\n",
        "  out_m.write(word + \"\\n\")\n",
        "  out_v.write('\\t'.join([str(x) for x in embeddings]) + \"\\n\")\n",
        "out_v.close()\n",
        "out_m.close()"
      ]
    },
    {
      "cell_type": "code",
      "execution_count": null,
      "metadata": {
        "id": "obfCloMDD1oA"
      },
      "outputs": [],
      "source": [
        "try:\n",
        "  from google.colab import files\n",
        "except ImportError:\n",
        "  pass\n",
        "else:\n",
        "  files.download('vecs.tsv')\n",
        "  files.download('meta.tsv')"
      ]
    },
    {
      "cell_type": "code",
      "source": [
        "!mkdir -p saved_model\n",
        "model.save('saved_model/depflow_model_trained')\n",
        "model.save('depflow_trained_model.h5')"
      ],
      "metadata": {
        "colab": {
          "base_uri": "https://localhost:8080/"
        },
        "id": "Iu2b0LxhZtQm",
        "outputId": "7ee505d3-a584-4665-8c95-87369639d000"
      },
      "execution_count": null,
      "outputs": [
        {
          "output_type": "stream",
          "name": "stderr",
          "text": [
            "WARNING:absl:Found untraced functions such as lstm_cell_5_layer_call_fn, lstm_cell_5_layer_call_and_return_conditional_losses while saving (showing 2 of 2). These functions will not be directly callable after loading.\n"
          ]
        }
      ]
    },
    {
      "cell_type": "code",
      "execution_count": null,
      "metadata": {
        "colab": {
          "base_uri": "https://localhost:8080/"
        },
        "id": "795Kb4N-D3Qa",
        "outputId": "b4dc0637-d79a-4e10-ef09-28decfaa2033"
      },
      "outputs": [
        {
          "output_type": "stream",
          "name": "stdout",
          "text": [
            "1/1 [==============================] - 0s 25ms/step\n",
            "[[0.9117801]\n",
            " [0.1867858]]\n"
          ]
        }
      ],
      "source": [
        "sentence = [simplifySinhala(\"මට ඇති මේ දුක දරන් හිටියා.\"), simplifySinhala(\"මට සතුටුයි හොදටම\")]\n",
        "sequences = tokenizer.texts_to_sequences(sentence)\n",
        "padded = pad_sequences(sequences, maxlen=max_length, padding=padding_type, truncating=trunc_type)\n",
        "print(model.predict(padded))"
      ]
    },
    {
      "cell_type": "code",
      "execution_count": null,
      "metadata": {
        "colab": {
          "base_uri": "https://localhost:8080/"
        },
        "id": "ItmrbW56JTQJ",
        "outputId": "528fa0f5-a8c9-4f7d-a114-31d1e39753b4"
      },
      "outputs": [
        {
          "output_type": "stream",
          "name": "stdout",
          "text": [
            "1/1 [==============================] - 0s 34ms/step\n",
            "1.0\n",
            "මට ඇති මේ දුක දරන් හිටියා.  : is a depressive post -  [[0.7680453]]\n",
            "1/1 [==============================] - 0s 39ms/step\n",
            "0.0\n",
            "මම මැරිලම යන්නම්  : is not a depressive post -  [[0.20818467]]\n",
            "1/1 [==============================] - 0s 30ms/step\n",
            "1.0\n",
            "මම මරිලා ගියාම හැමොටම හොදයි.  : is a depressive post -  [[0.8051447]]\n",
            "1/1 [==============================] - 0s 29ms/step\n",
            "0.0\n",
            "දුක කියන්නෙ හෙට වැඩට යන්න තිබීමයි  : is not a depressive post -  [[0.15808511]]\n",
            "1/1 [==============================] - 0s 32ms/step\n",
            "0.0\n",
            "අපි හෙට උදේට මොනවද කන්නේ?  : is not a depressive post -  [[8.353172e-05]]\n",
            "1/1 [==============================] - 0s 40ms/step\n",
            "1.0\n",
            "ඇයි මට මෙච්චර දුකක් දෙන්නේ දෙවියනේ  : is a depressive post -  [[0.83801836]]\n",
            "1/1 [==============================] - 0s 30ms/step\n",
            "0.0\n",
            "ඔයාටනම් ඉතින් හිනා  : is not a depressive post -  [[0.0642387]]\n",
            "1/1 [==============================] - 0s 34ms/step\n",
            "1.0\n",
            "මම හිතන්නේ මට තනිකම දැනෙනවා වැඩී  : is a depressive post -  [[0.61499274]]\n",
            "1/1 [==============================] - 0s 123ms/step\n",
            "0.0\n",
            "මට හොදටම depression  : is not a depressive post -  [[0.24695593]]\n",
            "1/1 [==============================] - 0s 102ms/step\n",
            "0.0\n",
            "I feel like I want to cry  : is not a depressive post -  [[0.01129981]]\n",
            "1/1 [==============================] - 0s 69ms/step\n",
            "1.0\n",
            "මම මේ දවස් ටිකේම දුක දරාගන්න බැරුව හොදටම ඇඩුවා  : is a depressive post -  [[0.9368531]]\n"
          ]
        }
      ],
      "source": [
        "def check_depressive(post: str):\n",
        "  sentence = [post]\n",
        "  sequences = tokenizer.texts_to_sequences(sentence)\n",
        "  padded = pad_sequences(sequences, maxlen=max_length, padding=padding_type, truncating=trunc_type)\n",
        "  post_prediction = model.predict(padded)\n",
        "  label = post_prediction.round().item()\n",
        "  if label == 1 :\n",
        "    print(post, \" : is a depressive post - \", post_prediction)\n",
        "  else:\n",
        "    print(post, \" : is not a depressive post - \", post_prediction)\n",
        "\n",
        "check_depressive(\"මට ඇති මේ දුක දරන් හිටියා.\")\n",
        "check_depressive(\"මම මැරිලම යන්නම්\")\n",
        "check_depressive(\"මම මරිලා ගියාම හැමොටම හොදයි.\")\n",
        "check_depressive(\"දුක කියන්නෙ හෙට වැඩට යන්න තිබීමයි\")\n",
        "check_depressive(\"අපි හෙට උදේට මොනවද කන්නේ?\")\n",
        "check_depressive('ඇයි මට මෙච්චර දුකක් දෙන්නේ දෙවියනේ')\n",
        "check_depressive('ඔයාටනම් ඉතින් හිනා')\n",
        "check_depressive('මම හිතන්නේ මට තනිකම දැනෙනවා වැඩී')\n",
        "check_depressive('මට හොදටම depression')\n",
        "check_depressive('I feel like I want to cry')\n",
        "check_depressive('මම මේ දවස් ටිකේම දුක දරාගන්න බැරුව හොදටම ඇඩුවා')"
      ]
    }
  ],
  "metadata": {
    "colab": {
      "provenance": [],
      "gpuType": "T4",
      "authorship_tag": "ABX9TyMZuM2K71UKROoQIteLcSq9",
      "include_colab_link": true
    },
    "kernelspec": {
      "display_name": "Python 3",
      "name": "python3"
    },
    "language_info": {
      "name": "python"
    },
    "accelerator": "GPU",
    "gpuClass": "standard"
  },
  "nbformat": 4,
  "nbformat_minor": 0
}
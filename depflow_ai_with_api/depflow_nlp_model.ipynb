{
 "cells": [
  {
   "cell_type": "code",
   "execution_count": 202,
   "outputs": [
    {
     "name": "stdout",
     "output_type": "stream",
     "text": [
      "Requirement already satisfied: emoji in /Users/rusiruwijethilake/opt/anaconda3/envs/depflow_ai_with_api/lib/python3.10/site-packages (2.2.0)\r\n",
      "Requirement already satisfied: fasttext in /Users/rusiruwijethilake/opt/anaconda3/envs/depflow_ai_with_api/lib/python3.10/site-packages (0.9.2)\r\n",
      "Requirement already satisfied: pybind11>=2.2 in /Users/rusiruwijethilake/opt/anaconda3/envs/depflow_ai_with_api/lib/python3.10/site-packages (from fasttext) (2.10.4)\r\n",
      "Requirement already satisfied: setuptools>=0.7.0 in /Users/rusiruwijethilake/opt/anaconda3/envs/depflow_ai_with_api/lib/python3.10/site-packages (from fasttext) (66.0.0)\r\n",
      "Requirement already satisfied: numpy in /Users/rusiruwijethilake/opt/anaconda3/envs/depflow_ai_with_api/lib/python3.10/site-packages (from fasttext) (1.23.5)\r\n",
      "Requirement already satisfied: tensorflow in /Users/rusiruwijethilake/opt/anaconda3/envs/depflow_ai_with_api/lib/python3.10/site-packages (2.12.0)\r\n",
      "Requirement already satisfied: tensorflow-estimator<2.13,>=2.12.0 in /Users/rusiruwijethilake/opt/anaconda3/envs/depflow_ai_with_api/lib/python3.10/site-packages (from tensorflow) (2.12.0)\r\n",
      "Requirement already satisfied: libclang>=13.0.0 in /Users/rusiruwijethilake/opt/anaconda3/envs/depflow_ai_with_api/lib/python3.10/site-packages (from tensorflow) (16.0.0)\r\n",
      "Requirement already satisfied: typing-extensions>=3.6.6 in /Users/rusiruwijethilake/opt/anaconda3/envs/depflow_ai_with_api/lib/python3.10/site-packages (from tensorflow) (4.5.0)\r\n",
      "Requirement already satisfied: termcolor>=1.1.0 in /Users/rusiruwijethilake/opt/anaconda3/envs/depflow_ai_with_api/lib/python3.10/site-packages (from tensorflow) (2.2.0)\r\n",
      "Requirement already satisfied: h5py>=2.9.0 in /Users/rusiruwijethilake/opt/anaconda3/envs/depflow_ai_with_api/lib/python3.10/site-packages (from tensorflow) (3.8.0)\r\n",
      "Requirement already satisfied: setuptools in /Users/rusiruwijethilake/opt/anaconda3/envs/depflow_ai_with_api/lib/python3.10/site-packages (from tensorflow) (66.0.0)\r\n",
      "Requirement already satisfied: gast<=0.4.0,>=0.2.1 in /Users/rusiruwijethilake/opt/anaconda3/envs/depflow_ai_with_api/lib/python3.10/site-packages (from tensorflow) (0.4.0)\r\n",
      "Requirement already satisfied: tensorboard<2.13,>=2.12 in /Users/rusiruwijethilake/opt/anaconda3/envs/depflow_ai_with_api/lib/python3.10/site-packages (from tensorflow) (2.12.2)\r\n",
      "Requirement already satisfied: wrapt<1.15,>=1.11.0 in /Users/rusiruwijethilake/opt/anaconda3/envs/depflow_ai_with_api/lib/python3.10/site-packages (from tensorflow) (1.14.1)\r\n",
      "Requirement already satisfied: google-pasta>=0.1.1 in /Users/rusiruwijethilake/opt/anaconda3/envs/depflow_ai_with_api/lib/python3.10/site-packages (from tensorflow) (0.2.0)\r\n",
      "Requirement already satisfied: grpcio<2.0,>=1.24.3 in /Users/rusiruwijethilake/opt/anaconda3/envs/depflow_ai_with_api/lib/python3.10/site-packages (from tensorflow) (1.54.0)\r\n",
      "Requirement already satisfied: keras<2.13,>=2.12.0 in /Users/rusiruwijethilake/opt/anaconda3/envs/depflow_ai_with_api/lib/python3.10/site-packages (from tensorflow) (2.12.0)\r\n",
      "Requirement already satisfied: absl-py>=1.0.0 in /Users/rusiruwijethilake/opt/anaconda3/envs/depflow_ai_with_api/lib/python3.10/site-packages (from tensorflow) (1.4.0)\r\n",
      "Requirement already satisfied: jax>=0.3.15 in /Users/rusiruwijethilake/opt/anaconda3/envs/depflow_ai_with_api/lib/python3.10/site-packages (from tensorflow) (0.4.8)\r\n",
      "Requirement already satisfied: six>=1.12.0 in /Users/rusiruwijethilake/opt/anaconda3/envs/depflow_ai_with_api/lib/python3.10/site-packages (from tensorflow) (1.16.0)\r\n",
      "Requirement already satisfied: protobuf!=4.21.0,!=4.21.1,!=4.21.2,!=4.21.3,!=4.21.4,!=4.21.5,<5.0.0dev,>=3.20.3 in /Users/rusiruwijethilake/opt/anaconda3/envs/depflow_ai_with_api/lib/python3.10/site-packages (from tensorflow) (4.22.3)\r\n",
      "Requirement already satisfied: packaging in /Users/rusiruwijethilake/opt/anaconda3/envs/depflow_ai_with_api/lib/python3.10/site-packages (from tensorflow) (23.0)\r\n",
      "Requirement already satisfied: numpy<1.24,>=1.22 in /Users/rusiruwijethilake/opt/anaconda3/envs/depflow_ai_with_api/lib/python3.10/site-packages (from tensorflow) (1.23.5)\r\n",
      "Requirement already satisfied: tensorflow-io-gcs-filesystem>=0.23.1 in /Users/rusiruwijethilake/opt/anaconda3/envs/depflow_ai_with_api/lib/python3.10/site-packages (from tensorflow) (0.32.0)\r\n",
      "Requirement already satisfied: astunparse>=1.6.0 in /Users/rusiruwijethilake/opt/anaconda3/envs/depflow_ai_with_api/lib/python3.10/site-packages (from tensorflow) (1.6.3)\r\n",
      "Requirement already satisfied: flatbuffers>=2.0 in /Users/rusiruwijethilake/opt/anaconda3/envs/depflow_ai_with_api/lib/python3.10/site-packages (from tensorflow) (23.3.3)\r\n",
      "Requirement already satisfied: opt-einsum>=2.3.2 in /Users/rusiruwijethilake/opt/anaconda3/envs/depflow_ai_with_api/lib/python3.10/site-packages (from tensorflow) (3.3.0)\r\n",
      "Requirement already satisfied: wheel<1.0,>=0.23.0 in /Users/rusiruwijethilake/opt/anaconda3/envs/depflow_ai_with_api/lib/python3.10/site-packages (from astunparse>=1.6.0->tensorflow) (0.35.1)\r\n",
      "Requirement already satisfied: scipy>=1.7 in /Users/rusiruwijethilake/opt/anaconda3/envs/depflow_ai_with_api/lib/python3.10/site-packages (from jax>=0.3.15->tensorflow) (1.10.1)\r\n",
      "Requirement already satisfied: ml-dtypes>=0.0.3 in /Users/rusiruwijethilake/opt/anaconda3/envs/depflow_ai_with_api/lib/python3.10/site-packages (from jax>=0.3.15->tensorflow) (0.1.0)\r\n",
      "Requirement already satisfied: google-auth-oauthlib<1.1,>=0.5 in /Users/rusiruwijethilake/opt/anaconda3/envs/depflow_ai_with_api/lib/python3.10/site-packages (from tensorboard<2.13,>=2.12->tensorflow) (1.0.0)\r\n",
      "Requirement already satisfied: tensorboard-plugin-wit>=1.6.0 in /Users/rusiruwijethilake/opt/anaconda3/envs/depflow_ai_with_api/lib/python3.10/site-packages (from tensorboard<2.13,>=2.12->tensorflow) (1.8.1)\r\n",
      "Requirement already satisfied: werkzeug>=1.0.1 in /Users/rusiruwijethilake/opt/anaconda3/envs/depflow_ai_with_api/lib/python3.10/site-packages (from tensorboard<2.13,>=2.12->tensorflow) (2.2.3)\r\n",
      "Requirement already satisfied: markdown>=2.6.8 in /Users/rusiruwijethilake/opt/anaconda3/envs/depflow_ai_with_api/lib/python3.10/site-packages (from tensorboard<2.13,>=2.12->tensorflow) (3.4.3)\r\n",
      "Requirement already satisfied: requests<3,>=2.21.0 in /Users/rusiruwijethilake/opt/anaconda3/envs/depflow_ai_with_api/lib/python3.10/site-packages (from tensorboard<2.13,>=2.12->tensorflow) (2.28.1)\r\n",
      "Requirement already satisfied: google-auth<3,>=1.6.3 in /Users/rusiruwijethilake/opt/anaconda3/envs/depflow_ai_with_api/lib/python3.10/site-packages (from tensorboard<2.13,>=2.12->tensorflow) (2.17.3)\r\n",
      "Requirement already satisfied: tensorboard-data-server<0.8.0,>=0.7.0 in /Users/rusiruwijethilake/opt/anaconda3/envs/depflow_ai_with_api/lib/python3.10/site-packages (from tensorboard<2.13,>=2.12->tensorflow) (0.7.0)\r\n",
      "Requirement already satisfied: pyasn1-modules>=0.2.1 in /Users/rusiruwijethilake/opt/anaconda3/envs/depflow_ai_with_api/lib/python3.10/site-packages (from google-auth<3,>=1.6.3->tensorboard<2.13,>=2.12->tensorflow) (0.3.0)\r\n",
      "Requirement already satisfied: cachetools<6.0,>=2.0.0 in /Users/rusiruwijethilake/opt/anaconda3/envs/depflow_ai_with_api/lib/python3.10/site-packages (from google-auth<3,>=1.6.3->tensorboard<2.13,>=2.12->tensorflow) (5.3.0)\r\n",
      "Requirement already satisfied: rsa<5,>=3.1.4 in /Users/rusiruwijethilake/opt/anaconda3/envs/depflow_ai_with_api/lib/python3.10/site-packages (from google-auth<3,>=1.6.3->tensorboard<2.13,>=2.12->tensorflow) (4.9)\r\n",
      "Requirement already satisfied: requests-oauthlib>=0.7.0 in /Users/rusiruwijethilake/opt/anaconda3/envs/depflow_ai_with_api/lib/python3.10/site-packages (from google-auth-oauthlib<1.1,>=0.5->tensorboard<2.13,>=2.12->tensorflow) (1.3.1)\r\n",
      "Requirement already satisfied: charset-normalizer<3,>=2 in /Users/rusiruwijethilake/opt/anaconda3/envs/depflow_ai_with_api/lib/python3.10/site-packages (from requests<3,>=2.21.0->tensorboard<2.13,>=2.12->tensorflow) (2.0.4)\r\n",
      "Requirement already satisfied: idna<4,>=2.5 in /Users/rusiruwijethilake/opt/anaconda3/envs/depflow_ai_with_api/lib/python3.10/site-packages (from requests<3,>=2.21.0->tensorboard<2.13,>=2.12->tensorflow) (3.4)\r\n",
      "Requirement already satisfied: certifi>=2017.4.17 in /Users/rusiruwijethilake/opt/anaconda3/envs/depflow_ai_with_api/lib/python3.10/site-packages (from requests<3,>=2.21.0->tensorboard<2.13,>=2.12->tensorflow) (2022.12.7)\r\n",
      "Requirement already satisfied: urllib3<1.27,>=1.21.1 in /Users/rusiruwijethilake/opt/anaconda3/envs/depflow_ai_with_api/lib/python3.10/site-packages (from requests<3,>=2.21.0->tensorboard<2.13,>=2.12->tensorflow) (1.26.15)\r\n",
      "Requirement already satisfied: MarkupSafe>=2.1.1 in /Users/rusiruwijethilake/opt/anaconda3/envs/depflow_ai_with_api/lib/python3.10/site-packages (from werkzeug>=1.0.1->tensorboard<2.13,>=2.12->tensorflow) (2.1.1)\r\n",
      "Requirement already satisfied: pyasn1<0.6.0,>=0.4.6 in /Users/rusiruwijethilake/opt/anaconda3/envs/depflow_ai_with_api/lib/python3.10/site-packages (from pyasn1-modules>=0.2.1->google-auth<3,>=1.6.3->tensorboard<2.13,>=2.12->tensorflow) (0.5.0)\r\n",
      "Requirement already satisfied: oauthlib>=3.0.0 in /Users/rusiruwijethilake/opt/anaconda3/envs/depflow_ai_with_api/lib/python3.10/site-packages (from requests-oauthlib>=0.7.0->google-auth-oauthlib<1.1,>=0.5->tensorboard<2.13,>=2.12->tensorflow) (3.2.2)\r\n",
      "Requirement already satisfied: pandas in /Users/rusiruwijethilake/opt/anaconda3/envs/depflow_ai_with_api/lib/python3.10/site-packages (2.0.0)\r\n",
      "Requirement already satisfied: python-dateutil>=2.8.2 in /Users/rusiruwijethilake/opt/anaconda3/envs/depflow_ai_with_api/lib/python3.10/site-packages (from pandas) (2.8.2)\r\n",
      "Requirement already satisfied: numpy>=1.21.0 in /Users/rusiruwijethilake/opt/anaconda3/envs/depflow_ai_with_api/lib/python3.10/site-packages (from pandas) (1.23.5)\r\n",
      "Requirement already satisfied: pytz>=2020.1 in /Users/rusiruwijethilake/opt/anaconda3/envs/depflow_ai_with_api/lib/python3.10/site-packages (from pandas) (2022.7)\r\n",
      "Requirement already satisfied: tzdata>=2022.1 in /Users/rusiruwijethilake/opt/anaconda3/envs/depflow_ai_with_api/lib/python3.10/site-packages (from pandas) (2023.3)\r\n",
      "Requirement already satisfied: six>=1.5 in /Users/rusiruwijethilake/opt/anaconda3/envs/depflow_ai_with_api/lib/python3.10/site-packages (from python-dateutil>=2.8.2->pandas) (1.16.0)\r\n",
      "Requirement already satisfied: numpy in /Users/rusiruwijethilake/opt/anaconda3/envs/depflow_ai_with_api/lib/python3.10/site-packages (1.23.5)\r\n",
      "Requirement already satisfied: matplotlib in /Users/rusiruwijethilake/opt/anaconda3/envs/depflow_ai_with_api/lib/python3.10/site-packages (3.7.1)\r\n",
      "Requirement already satisfied: pillow>=6.2.0 in /Users/rusiruwijethilake/opt/anaconda3/envs/depflow_ai_with_api/lib/python3.10/site-packages (from matplotlib) (9.5.0)\r\n",
      "Requirement already satisfied: fonttools>=4.22.0 in /Users/rusiruwijethilake/opt/anaconda3/envs/depflow_ai_with_api/lib/python3.10/site-packages (from matplotlib) (4.39.3)\r\n",
      "Requirement already satisfied: packaging>=20.0 in /Users/rusiruwijethilake/opt/anaconda3/envs/depflow_ai_with_api/lib/python3.10/site-packages (from matplotlib) (23.0)\r\n",
      "Requirement already satisfied: cycler>=0.10 in /Users/rusiruwijethilake/opt/anaconda3/envs/depflow_ai_with_api/lib/python3.10/site-packages (from matplotlib) (0.11.0)\r\n",
      "Requirement already satisfied: kiwisolver>=1.0.1 in /Users/rusiruwijethilake/opt/anaconda3/envs/depflow_ai_with_api/lib/python3.10/site-packages (from matplotlib) (1.4.4)\r\n",
      "Requirement already satisfied: python-dateutil>=2.7 in /Users/rusiruwijethilake/opt/anaconda3/envs/depflow_ai_with_api/lib/python3.10/site-packages (from matplotlib) (2.8.2)\r\n",
      "Requirement already satisfied: numpy>=1.20 in /Users/rusiruwijethilake/opt/anaconda3/envs/depflow_ai_with_api/lib/python3.10/site-packages (from matplotlib) (1.23.5)\r\n",
      "Requirement already satisfied: contourpy>=1.0.1 in /Users/rusiruwijethilake/opt/anaconda3/envs/depflow_ai_with_api/lib/python3.10/site-packages (from matplotlib) (1.0.7)\r\n",
      "Requirement already satisfied: pyparsing>=2.3.1 in /Users/rusiruwijethilake/opt/anaconda3/envs/depflow_ai_with_api/lib/python3.10/site-packages (from matplotlib) (3.0.9)\r\n",
      "Requirement already satisfied: six>=1.5 in /Users/rusiruwijethilake/opt/anaconda3/envs/depflow_ai_with_api/lib/python3.10/site-packages (from python-dateutil>=2.7->matplotlib) (1.16.0)\r\n",
      "Requirement already satisfied: flask in /Users/rusiruwijethilake/opt/anaconda3/envs/depflow_ai_with_api/lib/python3.10/site-packages (2.2.3)\r\n",
      "Requirement already satisfied: Werkzeug>=2.2.2 in /Users/rusiruwijethilake/opt/anaconda3/envs/depflow_ai_with_api/lib/python3.10/site-packages (from flask) (2.2.3)\r\n",
      "Requirement already satisfied: Jinja2>=3.0 in /Users/rusiruwijethilake/opt/anaconda3/envs/depflow_ai_with_api/lib/python3.10/site-packages (from flask) (3.1.2)\r\n",
      "Requirement already satisfied: itsdangerous>=2.0 in /Users/rusiruwijethilake/opt/anaconda3/envs/depflow_ai_with_api/lib/python3.10/site-packages (from flask) (2.1.2)\r\n",
      "Requirement already satisfied: click>=8.0 in /Users/rusiruwijethilake/opt/anaconda3/envs/depflow_ai_with_api/lib/python3.10/site-packages (from flask) (8.1.3)\r\n",
      "Requirement already satisfied: MarkupSafe>=2.0 in /Users/rusiruwijethilake/opt/anaconda3/envs/depflow_ai_with_api/lib/python3.10/site-packages (from Jinja2>=3.0->flask) (2.1.1)\r\n",
      "Requirement already satisfied: scikit-learn in /Users/rusiruwijethilake/opt/anaconda3/envs/depflow_ai_with_api/lib/python3.10/site-packages (1.2.2)\r\n",
      "Requirement already satisfied: joblib>=1.1.1 in /Users/rusiruwijethilake/opt/anaconda3/envs/depflow_ai_with_api/lib/python3.10/site-packages (from scikit-learn) (1.1.1)\r\n",
      "Requirement already satisfied: threadpoolctl>=2.0.0 in /Users/rusiruwijethilake/opt/anaconda3/envs/depflow_ai_with_api/lib/python3.10/site-packages (from scikit-learn) (2.2.0)\r\n",
      "Requirement already satisfied: numpy>=1.17.3 in /Users/rusiruwijethilake/opt/anaconda3/envs/depflow_ai_with_api/lib/python3.10/site-packages (from scikit-learn) (1.23.5)\r\n",
      "Requirement already satisfied: scipy>=1.3.2 in /Users/rusiruwijethilake/opt/anaconda3/envs/depflow_ai_with_api/lib/python3.10/site-packages (from scikit-learn) (1.10.1)\r\n"
     ]
    }
   ],
   "source": [
    "!pip install emoji\n",
    "!pip install fasttext\n",
    "!pip install tensorflow\n",
    "!pip install pandas\n",
    "!pip install numpy\n",
    "!pip install matplotlib\n",
    "!pip install flask\n",
    "!pip install scikit-learn"
   ],
   "metadata": {
    "collapsed": false,
    "ExecuteTime": {
     "start_time": "2023-04-21T22:10:59.845384Z",
     "end_time": "2023-04-21T22:11:09.533861Z"
    }
   }
  },
  {
   "cell_type": "code",
   "execution_count": 203,
   "metadata": {
    "colab": {
     "base_uri": "https://localhost:8080/",
     "height": 0
    },
    "id": "8CA_GIfeB-Iz",
    "outputId": "f94d1540-3a4d-432e-dfcb-8682cb9687c2",
    "ExecuteTime": {
     "start_time": "2023-04-21T22:11:09.539973Z",
     "end_time": "2023-04-21T22:11:09.542015Z"
    }
   },
   "outputs": [],
   "source": [
    "import tensorflow as tf\n",
    "import pandas as pd\n",
    "import numpy as np\n",
    "import matplotlib.pyplot as plt\n",
    "from flask import Flask, request, jsonify\n",
    "import io\n",
    "\n",
    "from tensorflow.keras.preprocessing.text import Tokenizer\n",
    "from tensorflow.keras.preprocessing.sequence import pad_sequences\n",
    "from sklearn.metrics import classification_report"
   ]
  },
  {
   "cell_type": "code",
   "execution_count": 204,
   "metadata": {
    "id": "Iu_Zd80bCO9j",
    "ExecuteTime": {
     "start_time": "2023-04-21T22:11:09.544588Z",
     "end_time": "2023-04-21T22:11:09.546913Z"
    }
   },
   "outputs": [],
   "source": [
    "vocab_size = 2957\n",
    "embedding_dim = 300\n",
    "max_length = 20\n",
    "trunc_type='post'\n",
    "padding_type='post'\n",
    "oov_tok = \"<OOV>\"\n",
    "training_size = 900\n",
    "num_epochs = 20"
   ]
  },
  {
   "cell_type": "code",
   "execution_count": 205,
   "metadata": {
    "id": "zAe5qv5cClLq",
    "ExecuteTime": {
     "start_time": "2023-04-21T22:11:09.554580Z",
     "end_time": "2023-04-21T22:11:10.001974Z"
    }
   },
   "outputs": [],
   "source": [
    "sentences = []\n",
    "labels = []\n",
    "\n",
    "# Load the dataset\n",
    "url = \"https://raw.githubusercontent.com/RusiruWijethilake/DepFlow/main/updated_dataset.csv\"\n",
    "df = pd.read_csv(url)\n",
    "\n",
    "df = df.sample(frac=1).reset_index(drop=True)  # shuffle the dataframe\n",
    "for x in range(len(df)):\n",
    "    sentences.append(df.iloc[x][0])\n",
    "    labels.append(df.iloc[x][1])"
   ]
  },
  {
   "cell_type": "code",
   "execution_count": 206,
   "metadata": {
    "id": "CdiTus6YCnYj",
    "ExecuteTime": {
     "start_time": "2023-04-21T22:11:10.003731Z",
     "end_time": "2023-04-21T22:11:10.006468Z"
    }
   },
   "outputs": [],
   "source": [
    "training_sentences = sentences[0:training_size]\n",
    "testing_sentences = sentences[training_size:]\n",
    "training_labels = labels[0:training_size]\n",
    "testing_labels = labels[training_size:]"
   ]
  },
  {
   "cell_type": "code",
   "execution_count": 207,
   "metadata": {
    "id": "k4taRCU4DSM0",
    "colab": {
     "base_uri": "https://localhost:8080/",
     "height": 0
    },
    "outputId": "2a496012-cb8d-4084-af2d-9b21976ea63b",
    "ExecuteTime": {
     "start_time": "2023-04-21T22:11:10.033466Z",
     "end_time": "2023-04-21T22:11:10.084548Z"
    }
   },
   "outputs": [
    {
     "name": "stdout",
     "output_type": "stream",
     "text": [
      "3981\n",
      "{'<OOV>': 1, 'මට': 2, 'මම': 3, 'නෑ': 4, 'වෙලා': 5, 'කරන්න': 6, 'මේ': 7, 'එපා': 8, 'කියලා': 9, 'ඒ': 10, 'ගොඩක්': 11, 'මන්': 12, 'මගේ': 13, 'එක': 14, 'දැන්': 15, 'නිසා': 16, 'කෙනෙක්': 17, 'මං': 18, 'වගේ': 19, 'ගන්න': 20, 'ඉන්න': 21, 'ගැන': 22, 'හිතෙනවා': 23, 'හරි': 24, 'වෙන්න': 25, 'ඉන්නේ': 26, 'නම්': 27, 'ලොකු': 28, 'එක්ක': 29, 'ඒත්': 30, 'දේවල්': 31, 'ඒක': 32, 'දෙයක්': 33, 'හිත': 34, 'නැති': 35, 'යන්න': 36, 'ආදරේ': 37, 'ජීවිතේ': 38, 'නැ': 39, 'වෙනවා': 40, 'එකක්': 41, 'කරන': 42, 'කතා': 43, 'කියන්න': 44, 'ඔබ': 45, 'එයා': 46, 'ඇති': 47, 'දුක': 48, 'තියෙන්නේ': 49, 'වේදනාව': 50, 'බැරි': 51, 'ඕන': 52, 'බෑ': 53, 'කිසිම': 54, 'හැම': 55, 'මානසික': 56, 'උනා': 57, 'පුලුවන්': 58, 'වෙන': 59, 'නැහැ': 60, 'මාව': 61, 'කියල': 62, 'එහෙම': 63, 'කරලා': 64, 'තියෙනවා': 65, 'මේක': 66, 'කියන': 67, 'දෙන්න': 68, 'අපි': 69, 'උදව්': 70, 'ගෙදර': 71, 'පාඩම්': 72, 'මිනිස්සු': 73, 'ඉන්නෙ': 74, 'ඇයි': 75, 'වඩා': 76, 'වලට': 77, 'වෙයි': 78, 'කරනවා': 79, 'වෙනස්': 80, 'නිතරම': 81, 'යනවා': 82, 'අනේ': 83, 'දේ': 84, 'ගොඩාක්': 85, 'වැඩ': 86, 'හොද': 87, 'අය': 88, 'තමයි': 89, 'කරපු': 90, 'සමහර': 91, 'තරම්': 92, 'කැමති': 93, 'ඔය': 94, 'මෙහෙම': 95, 'මොකද': 96, 'කර': 97, 'දුකක්': 98, 'විදියට': 99, 'තියෙන': 100, 'තනිකම': 101, 'ජිවිතේ': 102, 'ඔයා': 103, 'ඇත්තටම': 104, 'කොච්චර': 105, 'මැරෙන්න': 106, 'අමාරුයි': 107, 'කරගන්න': 108, 'නැතුව': 109, 'කොහොමද': 110, 'විතරයි': 111, 'ඔයාට': 112, 'බය': 113, 'ජීවත්': 114, 'ද': 115, 'ඉන්නවා': 116, 'වෙලාවට': 117, 'මා': 118, 'කවුරුත්': 119, 'බයයි': 120, 'බයෙන්': 121, 'හිතට': 122, 'පොඩි': 123, 'පුළුවන්': 124, 'නින්ද': 125, 'හැමදේම': 126, 'ප්\\u200dරශ්න': 127, 'හිතේ': 128, 'වල': 129, 'දැනෙනවා': 130, 'එයාට': 131, 'අද': 132, 'කියන්නේ': 133, 'මගෙ': 134, 'ආදරය': 135, 'තව': 136, 'මතක': 137, 'වෙලාවකට': 138, 'ට': 139, 'බැ': 140, 'කැම්පස්': 141, 'බලාපොරොත්තු': 142, 'මතක්': 143, 'ගියා': 144, 'තනියම': 145, 'මානසිකව': 146, 'අවුරුදු': 147, 'සහ': 148, 'හැමදාම': 149, 'අයට': 150, 'දරාගන්න': 151, 'වෙන්නෙ': 152, 'වැඩක්': 153, 'ගිහින්': 154, 'අයත්': 155, 'හිතෙන්නෙ': 156, 'අනිත්': 157, 'අපිට': 158, 'බලන්න': 159, 'ඕනි': 160, 'කරත්': 161, 'ඕනේ': 162, 'වෙන්නේ': 163, 'හා': 164, 'ටික': 165, 'මෙච්චර': 166, 'ඉදලා': 167, 'අම්මා': 168, 'කරන්නේ': 169, 'තේරුම්': 170, 'තියෙනව': 171, 'පිරිමි': 172, 'සියදිවි': 173, 'උනේ': 174, 'තාත්තා': 175, 'ඒවා': 176, 'ඉගෙන': 177, 'වදයක්': 178, 'උනත්': 179, 'පුදුම': 180, 'තියෙන්නෙ': 181, 'depression': 182, 'අඩ': 183, 'තවත්': 184, 'කලින්': 185, 'එකට': 186, 'කාලෙ': 187, 'https': 188, 't': 189, 'co': 190, 'කන්න': 191, 'අරන්': 192, 'එකේ': 193, 'ප්\\u200dරතික්ෂේප': 194, 'නේ': 195, 'එන්න': 196, 'මොකක්ද': 197, 'හැබැයි': 198, 'කාලයක්': 199, 'මේකට': 200, 'වෙනුවෙන්': 201, 'වලින්': 202, 'එත්': 203, 'වෙනව': 204, 'අමාරු': 205, 'පවා': 206, 'දවසක්': 207, 'දවසක': 208, 'හිතන්න': 209, 'තියන': 210, 'කලා': 211, 'යන්නේ': 212, 'ටිකක්': 213, 'එනවා': 214, 'මහ': 215, 'හැමෝම': 216, 'එයාව': 217, 'වැඩි': 218, 'තමන්': 219, 'මචං': 220, 'හෝ': 221, 'අමතක': 222, 'දාලා': 223, 'නෙමෙයි': 224, 'දන්න': 225, 'ඉස්සර': 226, 'ආයේ': 227, 'යන': 228, 'ඔව්': 229, 'නේද': 230, 'අපේ': 231, 'හිටියේ': 232, 'සතුටින්': 233, 'කාලේ': 234, 'ඔලුව': 235, 'දෙන': 236, 'ආදරයක්': 237, 'ඔබට': 238, 'වචන': 239, 'පස්සෙ': 240, 'කල්': 241, 'නැද්ද': 242, 'බැහැ': 243, 'ඒකට': 244, 'හිතෙනව': 245, 'උසස්': 246, 'ගත්ත': 247, 'ආස': 248, 'හොඳ': 249, 'එය': 250, 'වැරදි': 251, 'සිතුවිලි': 252, 'කරන්නෙ': 253, 'ඉතින්': 254, 'වැටිලා': 255, 'දුක්': 256, 'රෑට': 257, 'වුනා': 258, 'කරගෙන': 259, 'ලියලා': 260, 'තමන්ට': 261, 'ගමන්': 262, 'දෙන්නේ': 263, 'දෙනවා': 264, 'උන්ට': 265, 'දුකයි': 266, 'නෙවෙයි': 267, 'ම': 268, 'හේතුවක්': 269, 'තරහ': 270, 'හිතෙන්නේ': 271, 'පාර': 272, 'කිසි': 273, 'ගෙවල්': 274, 'නමුත්': 275, 'දිහා': 276, 'දන්නවා': 277, 'එයාලට': 278, 'ආයෙත්': 279, 'හොදට': 280, 'සතුටු': 281, 'තැනකට': 282, 'විස්තර': 283, 'මටත්': 284, 'හිටපු': 285, 'අහන්න': 286, 'විය': 287, 'නතර': 288, 'පටන්': 289, 'නැත්තම්': 290, 'හරියට': 291, 'ජොබ්': 292, 'නිදහස්': 293, 'මමයි': 294, 'වැදගත්': 295, 'උනොත්': 296, 'ණය': 297, 'depressed': 298, 'ලෙස': 299, 'හොදටම': 300, 'ආදරෙයි': 301, 'ඔහු': 302, 'දවස්': 303, 'අවශ්\\u200dය': 304, 'අඩු': 305, 'බව': 306, 'අයගෙන්': 307, 'තනි': 308, 'සම්බන්දයක්': 309, 'දෙකක්': 310, 'දුකින්': 311, 'ඉදන්': 312, 'මග': 313, 'ඊට': 314, 'විදිහට': 315, 'ඔබේ': 316, 'යන්නෙ': 317, 'කරේ': 318, 'තරහා': 319, 'අමාරුම': 320, 'ගොඩ': 321, 'උපදෙසක්': 322, 'එතකොට': 323, 'උනාම': 324, 'අඩන්න': 325, 'එන': 326, 'ක්\\u200dරමයක්': 327, 'තිබ්බ': 328, 'ඉක්මනට': 329, 'වීම': 330, 'ඇවිත්': 331, 'එතනින්': 332, 'ඉවර': 333, 'මොන': 334, 'ආයෙ': 335, 'උත්සාහ': 336, 'අත': 337, 'සල්ලි': 338, 'මැරිලා': 339, 'හිතෙන': 340, 'කාටවත්': 341, 'මාස': 342, 'එකත්': 343, 'හැමෝටම': 344, 'හොඳයි': 345, 'හිතන්නේ': 346, 'අතීතයේ': 347, 'කෙනා': 348, 'වගේම': 349, 'පිස්සු': 350, 'ඉගෙනගන්න': 351, 'දකින': 352, 'දාන්න': 353, 'වයස': 354, 'මේවා': 355, 'හේතු': 356, 'පීඩනයක්': 357, 'වෙයිද': 358, 'ගෙන': 359, 'තමා': 360, 'පීඩනයක': 361, 'දවසම': 362, 'කියන්නෙ': 363, 'ඇත්ත': 364, 'සුදු': 365, 'කිව්වා': 366, 'මොකක්': 367, 'එයාගෙ': 368, 'හිතනවා': 369, 'ජීවිතය': 370, 'නෙවේ': 371, 'මමත්': 372, 'ඇබ්බැහි': 373, 'බලන්': 374, 'සතුට': 375, 'කරල': 376, 'අර': 377, 'ලබා': 378, 'නංගි': 379, 'කල': 380, 'අන්තිමට': 381, 'බෙහෙත්': 382, 'තනිවෙලා': 383, 'නිදහසක්': 384, 'නවත්ත': 385, 'කිව්වොත්': 386, 'එපාම': 387, 'නෑ…': 388, 'ලං': 389, 'දුර්වලයි': 390, 'තැන්': 391, 'වත්': 392, 'අරගෙන': 393, 'ආසාවක්': 394, 'මුලු': 395, 'ආදර': 396, 'වෙච්ච': 397, 'a': 398, 'l': 399, 'පාස්': 400, 'කෙනෙක්ට': 401, 'සද්දෙ': 402, 'ඇස්': 403, 'යද්දි': 404, 'දානවා': 405, 'දෙක': 406, 'පොඩ්ඩක්': 407, '😂': 408, 'පිට': 409, 'නසා': 410, 'යනව': 411, 'රෑ': 412, 'වන': 413, 'දරුවා': 414, 'රිදෙනවා': 415, 'වෙව්ලනවා': 416, 'හොයන්න': 417, 'මුලින්ම': 418, 'හරිම': 419, 'කොයි': 420, 'හදාගන්න': 421, 'විදියක්': 422, 'මේකෙන්': 423, 'ගැලවෙන්න': 424, 'ගිය': 425, 'ගෙදරින්': 426, 'යාලුවො': 427, 'වුන': 428, 'තනියෙන්': 429, 'ගෙදරට': 430, 'ජිවත්': 431, 'හීනෙන්': 432, 'ගතිය': 433, 'හිතාගන්න': 434, 'පත්': 435, 'කරනව': 436, 'ගියොත්': 437, 'ගමන': 438, 'රට': 439, 'හදලා': 440, 'ඇත': 441, 'හැගීමක්': 442, 'උදව්වක්': 443, 'තාම': 444, 'හුගක්': 445, 'ගැටලු': 446, 'නිදහස': 447, 'ලමයි': 448, 'සමාජයට': 449, 'එයාලා': 450, 'ඒව': 451, 'ඔක්කොම': 452, 'තරමට': 453, 'ආර්ථික': 454, 'කරලත්': 455, 'පැහැදිලි': 456, 'ගන්නවා': 457, 'මාත්': 458, 'කවදාවත්': 459, 'තියනවා': 460, 'තිබුනා': 461, 'පැත්ත': 462, 'exam': 463, 'කලකිරිලා': 464, 'වුණ': 465, 'උදවු': 466, 'පසු': 467, 'හිටියා': 468, 'උන': 469, 'අවුල්': 470, 'කමක්': 471, 'එපාවෙලා': 472, 'ලස්සන': 473, 'ගැනීමට': 474, 'ඉඳන්': 475, 'වැටෙනවා': 476, 'නැවතිලා': 477, 'අත්': 478, 'ලොක්': 479, 'නිකන්ම': 480, 'ඕනෙ': 481, 'හොයා': 482, 'හිතුනා': 483, 'එයාගේ': 484, 'වැටෙයි': 485, 'අධික': 486, 'සමහරු': 487, 'දරා': 488, 'අඩුයි': 489, 'ලමයෙක්': 490, 'සෙට්': 491, 'උබට': 492, 'ගත්තා': 493, 'ඇග': 494, 'එකකට': 495, 'හොදක්': 496, 'තම': 497, 'කළ': 498, 'අඩනවා': 499, 'සිදුවීම්': 500, 'නැත්තං': 501, 'කෙල්ලෙක්': 502, 'ප්\\u200dරේමය': 503, 'කොල්ලො': 504, 'තැන': 505, 'සාර්ථක': 506, 'මාවම': 507, 'බලන්නෙ': 508, 'ඔබගේ': 509, 'මාර': 510, 'මෙ': 511, 'වෙලාවෙ': 512, 'එ': 513, 'තියෙයි': 514, 'උත්සහ': 515, 'තරු': 516, 'කරන්': 517, 'පොඩ්ඩ': 518, 'පස්සේ': 519, 'එල්ලිලා': 520, 'හයිය': 521, 'නිර්පාක්ෂික': 522, 'නැත්තන්': 523, 'වෙනත්': 524, 'අන්තිම': 525, 'බැරිද': 526, 'ලැබෙන': 527, 'නිකන්': 528, 'කවුරු': 529, 'මොනව': 530, 'ළග': 531, 'දුර': 532, 'මෝඩ': 533, 'ඇහුනත්': 534, 'තැනම': 535, 'දන්නෙ': 536, 'ලියන': 537, 'ඔනෙ': 538, 'හැමවෙලාවෙම': 539, 'බේරෙන්න': 540, 'කේන්ති': 541, 'ප්\\u200dරතිඵල': 542, 'මොකද්ද': 543, 'හොදයි': 544, 'හැකි': 545, 'නැවත': 546, 'තද': 547, 'අතීතය': 548, 'ඉද්දී': 549, 'එකෙන්': 550, 'උන්': 551, 'දැනෙනව': 552, 'ලෝකෙ': 553, 'පිස්සුද': 554, 'නොසන්සුන්': 555, 'හිතලා': 556, 'ඉද්දි': 557, 'කටයුතු': 558, 'එක්සෑම්': 559, 'කොහොම': 560, 'හැදුවත්': 561, 'මාසේ': 562, 'කොහේ': 563, 'හොයාගන්න': 564, 'ආවෙ': 565, 'කලේ': 566, 'වැටුන': 567, 'උදේ': 568, 'වමනෙ': 569, 'කැත': 570, 'අනෙක්': 571, 'ඉතුරු': 572, 'කියා': 573, 'පාළුව': 574, 'රෝගයක්ද': 575, 'එදා': 576, 'ගියේ': 577, 'ජනතාව': 578, 'පමණක්': 579, 'කැමැත්තෙන්': 580, 'කරාම': 581, 'කරදරයක්': 582, 'පෙල': 583, 'සම්බන්ධ': 584, 'නොකරපු': 585, 'තියන්': 586, 'හිටිය': 587, 'දාල': 588, 'හොයාගෙන': 589, 'රස්සාවක්': 590, 'බිය': 591, 'අනාගතේ': 592, 'දෙයක්ම': 593, 'හීනයක්': 594, 'එකකින්': 595, 'ආගන්තුක': 596, 'මිනිසා': 597, 'වැඩත්': 598, 'ලෙඩක්ද': 599, 'ගියෙ': 600, 'මොනාද': 601, 'ගමනක්': 602, 'කල්පනා': 603, 'ඉස්සරහට': 604, 'රෝග': 605, 'ඇතිවෙලා': 606, 'අයගේ': 607, 'බැදීම්': 608, 'ඉස්සරහ': 609, 'ඔහේ': 610, 'විදින්න': 611, 'ආතල්': 612, 'ගැනම': 613, 'මීට': 614, 'යම්': 615, 'plz': 616, 'මහන්සි': 617, 'දවස': 618, 'තීරනයක්': 619, 'මොනවාද': 620, 'තියාගෙන': 621, 'අයින්': 622, 'කවුද': 623, 'මහත': 624, 'මාරම': 625, 'නැගිටින්න': 626, 'වටේ': 627, 'තේරුමක්': 628, 'මම්': 629, 'අනික්': 630, 'පාරක්': 631, 'අමුවෙන්': 632, 'හිතිලා': 633, 'යුත්තේ': 634, 'අතක්': 635, 'ආවත්': 636, 'ඔබව': 637, 'දුකට': 638, 'ඔයාලා': 639, 'තේරෙනවා': 640, 'ළමයි': 641, 'මනෝ': 642, 'මොනවද': 643, 'කළත්': 644, 'නෙමේ': 645, 'බනිනවා': 646, 'රේඩියෝශෝවිත්සැන්ඩි': 647, 'හුගාක්': 648, 'පුද්ගලයෙක්': 649, 'එකම': 650, 'මූන': 651, 'දැම්මා': 652, 'කව්රුත්': 653, 'ප්\\u200dරශ්නයක්': 654, 'වෙද්දී': 655, 'කරද්දී': 656, 'වාහන': 657, 'හයිඩ්\\u200dරජන්': 658, 'කෙල්ලෝ': 659, 'සාර්ථකත්වය': 660, 'සදහා': 661, 'ගැටලුවක්': 662, 'ආපහු': 663, 'තොරව': 664, 'විශාදය': 665, 'කිරීමට': 666, 'තේරෙන්නෙ': 667, 'වැරැද්දක්': 668, 'එලියට': 669, 'කාගෙන': 670, 'හිනා': 671, 'හිතන': 672, 'පිං': 673, 'ඈ': 674, 'ඇය': 675, 'කම්මැලි': 676, 'උනාට': 677, 'ආසාවෙන්': 678, 'කරන්නද': 679, 'ප්\\u200dරශ්ණ': 680, 'හින්දා': 681, 'චිකිත්සක': 682, 'වැඩිය': 683, 'වේදනාවක්': 684, 'කකුල්': 685, 'විනාස': 686, 'කියාගන්න': 687, 'කැමැති': 688, 'දිගට': 689, 'හොදම': 690, 'මෙතන': 691, 'දැවටී': 692, 'හිත්': 693, 'අඩෝ': 694, 'හදා': 695, 'මෙක': 696, 'එල': 697, 'හේතුව': 698, 'විතරක්': 699, 'නුඹ': 700, 'දැකලා': 701, 'කට්ටිය': 702, 'අසරණ': 703, 'කිරීම': 704, 'හය්යෙන්': 705, 'ඉතා': 706, 'කරමු': 707, 'කෑම': 708, 'ප්\\u200dරශ්නය': 709, 'වචනයක්': 710, 'ඉස්සරහා': 711, 'දුකකින්': 712, 'ඇත්තේ': 713, '😌': 714, 'හීනමානය': 715, 'වුණත්': 716, 'social': 717, 'anxiety': 718, 'ඇරලා': 719, 'වහ': 720, 'ලෝකේම': 721, 'ගිනි': 722, 'කාමරේ': 723, '2': 724, 'තුරු': 725, 'එයාගෙන්': 726, 'අහගන්න': 727, 'තැනට': 728, 'සංවර්ධනය': 729, 'කියනවද': 730, 'පේනව': 731, '😂😂😂': 732, '13': 733, 'දිගටම': 734, 'කිව්වට': 735, 'රජයේ': 736, 'විශ්වවිද්\\u200dයාලයීය': 737, 'පිනක්': 738, 'කිව්වත්': 739, 'කවුරුවත්': 740, 'එන්නෙ': 741, 'වද': 742, 'තැනක': 743, 'එයලා': 744, 'වැල': 745, 'එයාලගේ': 746, 'අන්': 747, 'බොළද': 748, 'කවි': 749, 'යන්ඩ': 750, 'ඉතිං': 751, 'වුනත්': 752, 'පහසුකමක්': 753, 'උත්තර': 754, 'තියෙන්න': 755, 'පුරා': 756, 'ආදරයේ': 757, 'එකපාරටම': 758, 'නට': 759, 'පීඩනේ': 760, 'කෙනාට': 761, 'මැද': 762, 'ලියපු': 763, 'ඒවායේ': 764, 'තත්වෙන්': 765, 'කම්': 766, 'අග': 767, 'දෙයියනේ': 768, 'බැරිම': 769, 'ප්\\u200dරශ්නෙ': 770, 'පෙළ': 771, 'තුන්': 772, 'අවදානම්': 773, 'දැනටමත්': 774, 'වරක්': 775, 'ගැනීමේ': 776, 'අපහසුතාවය': 777, 'අඩුවක්': 778, 'තදබල': 779, 'කරගත්තා': 780, 'ඔළුව': 781, 'අපහසුවක්': 782, 'මතකය': 783, 'ඔළුවෙ': 784, 'ගියත්': 785, 'ඉගෙනීම': 786, 'හිටියත්': 787, 'මුහුණ': 788, 'නහරයක්': 789, 'දෙම්ව්පියෝ': 790, 'නොදී': 791, 'positive': 792, 'thinking': 793, 'of': 794, 'හොයලා': 795, 'හැමදේටම': 796, 'දෙමව්පියෝ': 797, 'ඔන': 798, 'ගාවට': 799, 'කරගන්නෙ': 800, 'බැරුව': 801, 'ආවා': 802, 'තේරෙන්නේ': 803, 'බුදු': 804, 'ඒවගේම': 805, 'සමරිසි': 806, 'තනිකමට': 807, 'හුරු': 808, 'වයසත්': 809, 'බරක්': 810, 'හිතෙන්නෙම': 811, 'යටත්': 812, 'බිමට': 813, 'කඩන්': 814, 'හිතල': 815, 'පුලුවන්ද': 816, 'උබ': 817, 'කරයි': 818, 'හීන': 819, 'මෙන්න': 820, 'තියලා': 821, 'ජීවිතයත්': 822, 'ඌ': 823, 'උගෙ': 824, 'තිත්තයි': 825, 'මක්ක': 826, 'ලාබයි': 827, 'සීමා': 828, 'අඩුවෙන්': 829, 'තැනක්': 830, 'ඔනි': 831, 'එයත්': 832, 'යන්නවත්': 833, 'සියලු': 834, 'තනිවයි': 835, 'මැරෙන්නේ': 836, 'පිළිබඳ': 837, 'තොරතුරු': 838, 'අම්මයි': 839, 'තාත්තයි': 840, 'පිස්සෙක්': 841, 'පීඩා': 842, 'මොදිගේ': 843, 'හැකියාව': 844, 'සිස්ටම්': 845, 'මගින්': 846, 'ලගා': 847, 'දී': 848, 'srilanka': 849, 'වෙනස්කම්': 850, 'අරයා': 851, 'ඇවිල්ලා': 852, 'වෙලාවේ': 853, 'තත්ත්වය': 854, 'කරාට': 855, 'හොඳටම': 856, 'ළමයෙක්': 857, 'ඒවගේ': 858, 'දෙකම': 859, 'නැතිවෙලා': 860, 'බර': 861, 'හැමදෙයක්ම': 862, 'අතෑරල': 863, 'සිසු': 864, 'පවුල': 865, 'වන්නේ': 866, 'මනසික': 867, 'සහන': 868, 'යුතුයි': 869, 'එකෙ': 870, 'මෙි': 871, 'වෙද්දිත්': 872, 'බදින්න': 873, 'මනුස්සයා': 874, 'දන්නේ': 875, 'ඉගෙනගෙන': 876, 'ගනී': 877, 'අඩනව': 878, 'ගන්නව': 879, 'හිතෙන්නෑ': 880, 'මනස': 881, 'සුභ': 882, 'වේවා': 883, 'ලංකාවේ': 884, 'පේනවා': 885, 'හොඳම': 886, 'විදිහ': 887, 'ඉගන': 888, 'පොත්': 889, 'වැටෙන්න': 890, 'නිහඬව': 891, 'කොරෝනා': 892, 'සියලුම': 893, 'ඉන්නව': 894, 'එකක්වත්': 895, 'නෑනේ': 896, 'ඊයේ': 897, 'සින්දු': 898, 'ඇහෙනකොට': 899, 'බියක්': 900, 'ලගදි': 901, 'දැනට': 902, 'සති': 903, 'අකමැත්තෙන්': 904, 'ඒවත්': 905, 'දීලා': 906, 'ඉස්කෝලෙ': 907, 'අයියා': 908, 'සම්බන්ධයක්': 909, 'විතර': 910, 'වුණා': 911, 'හනේ': 912, 'අපහසුවෙන්': 913, 'ගත්තේ': 914, 'ගේ': 915, 'හැබයි': 916, 'හිතින්': 917, 'දේට': 918, 'ඔයාගේ': 919, 'පොඩ්': 920, 'මේකෙ': 921, 'මුසල': 922, 'ඉවසන්': 923, 'විභාග': 924, 'පෙර': 925, 'දැඩිව': 926, 'ඔයාගෙ': 927, 'යාලුවෙක්': 928, '😂💔': 929, 'කෙලින්': 930, 'අසනීප': 931, 'උනු': 932, 'අධ්\\u200dයාපන': 933, 'නොසිතූ': 934, 'දක්ශ': 935, 'ලෝකෙට': 936, 'ඇප්ලයි': 937, '❤️': 938, 'ඉෂ්ට': 939, 'නිසාම': 940, 'හදවතට': 941, 'http': 942, 'නංගී': 943, 'ඉවරයක්': 944, 'රණ්ඩු': 945, 'හයි': 946, 'බාහිර': 947, 'සමාජේ': 948, 'බලපෑම': 949, 'දුර්වල': 950, 'කලකිරීමක්': 951, 'ඇත්': 952, 'බොරුවක්': 953, 'ගනන්': 954, 'කාමරේට': 955, 'ලෙඩ': 956, 'ලගින්': 957, 'ඉඩ': 958, 'ලියන්න': 959, 'රැකියාව': 960, 'හිසරදයක්': 961, 'ගම්පහ': 962, 'ජීවිතයේ': 963, 'යාලුවනේ': 964, 'සෑහෙන්න': 965, 'හිතන්': 966, 'අතාරින්න': 967, 'අඬන්න': 968, 'ලොවම': 969, 'නිහඬයි': 970, 'කලබල': 971, 'හැඟීමක්': 972, 'තමන්ගෙ': 973, 'උඩට': 974, 'දමා': 975, 'දැන': 976, 'මොනවහරි': 977, 'බැලුවා': 978, 'අවුලන්න': 979, 'වීමෙන්': 980, 'මරු': 981, 'ලියුමක්': 982, 'හෙනම': 983, 'දෙන්නත්': 984, 'සාමාන්\\u200dය': 985, 'මස්': 986, 'කාල': 987, 'ක්\\u200dරමේකට': 988, 'පුච්චගෙන': 989, 'ගින්දර': 990, 'ජීවිතයට': 991, 'නොවන': 992, 'බැදීමක්': 993, 'අනුන්': 994, 'ප්\\u200dරශ්ණය': 995, 'විතරක්ම': 996, 'ලබන': 997, 'මගේම': 998, 'බයක්': 999, 'ආගිය': 1000, 'බත්': 1001, 'වමනෙට': 1002, 'සිංදු': 1003, 'ලියැවුණු': 1004, 'ප්\\u200dරේම': 1005, 'interview': 1006, 'අම්මට': 1007, 'එයාලගෙ': 1008, 'ලස්සනට': 1009, 'අදහසක්': 1010, 'පාලුව': 1011, 'අයව': 1012, 'ලෝකයේ': 1013, 'තේරෙන්': 1014, 'තියා': 1015, 'කියන්නකෝ': 1016, 'හිරේ': 1017, 'ජය': 1018, 'ගැනිමට': 1019, 'යුතුය': 1020, 'බැඳීම්': 1021, 'නැත්තේ': 1022, 'එහෙනම්': 1023, 'හිටින්නේ': 1024, 'සෙමින්': 1025, 'විද්\\u200dයාව': 1026, 'ඉවසන්න': 1027, 'රටට': 1028, 'ඕස්ට්\\u200dරේලියාවට': 1029, 'පීඩනය': 1030, 'කරනකොට': 1031, 'කළා': 1032, 'තිබ්බා': 1033, '😓': 1034, 'විට': 1035, 'විඳිනවා': 1036, 'රැකියාවක්': 1037, 'නිසයි': 1038, 'ආවේ': 1039, 'වෙනකන්': 1040, 'ජීවිතේම': 1041, 'මැරි': 1042, 'වෙලාවෙම': 1043, 'දන්නෙත්': 1044, 'චින්තිගෙ': 1045, 'වරකා': 1046, 'මදුල': 1047, 'සැම්ඩි': 1048, '🤨♥️🤩': 1049, 'assignments': 1050, '😫': 1051, 'නැහැනේ': 1052, 'එම': 1053, 'කරද්දි': 1054, 'මොකටද': 1055, 'බැන': 1056, 'බොන්නේ': 1057, '15ක්': 1058, 'සුදුසුකම්': 1059, 'බං': 1060, 'ඇඬෙනවා': 1061, 'රන්ජන්': 1062, 'මාධ්\\u200dය': 1063, 'ගියාම': 1064, 'ඇගේ': 1065, 'තනිවෙන්න': 1066, 'විතරද': 1067, 'ඔහොම': 1068, 'හිතනව': 1069, 'කොයිතරම්': 1070, 'මැරෙවි': 1071, 'ඈන්ගල්': 1072, 'අරම': 1073, 'පිච්චී': 1074, 'නැතිකරගන්න': 1075, 'හුඟක්': 1076, 'පෙන්නන්න': 1077, 'කියනව': 1078, 'එහාට': 1079, 'ඉන්නවද': 1080, 'හිතුනට': 1081, 'බයට': 1082, 'යාලුවෝ': 1083, 'තිබුනේ': 1084, 'බැරිව': 1085, 'තත්ත්වයක්': 1086, 'ඕක': 1087, 'දරුවට': 1088, 'ඊර්ෂ්\\u200dයාව': 1089, 'පුරුදු': 1090, 'පයින්': 1091, 'ගිහිල්ල': 1092, 'පහසුව': 1093, 'තකා': 1094, '👇': 1095, 'කිරිලා': 1096, 'මිනිස්සුන්ගේ': 1097, 'දැන්නම්': 1098, 'us3rchang3d': 1099, 'ඔහුගේ': 1100, 'සමග': 1101, 'යහපාලනය': 1102, 'අවසාන': 1103, 'යුගය': 1104, 'බඩුමිල': 1105, 'office': 1106, 'කියලවත්': 1107, 'කෙන්ති': 1108, 'දරන්': 1109, 'sadness': 1110, 'වෙලේම': 1111, 'තනිකරම': 1112, 'සුන්දර': 1113, 'ගැනවත්': 1114, 'යාළුවෝ': 1115, 'සැනසීමක්': 1116, 'අරක්කු': 1117, 'කිව්ව': 1118, 'කෙනාම': 1119, 'විශ්වාස': 1120, 'ලංකාවෙ': 1121, 'facebook': 1122, 'හුස්මක්': 1123, 'නැතිව': 1124, 'වෙන්': 1125, 'ශක්තිමත්ව': 1126, 'සමාජ': 1127, 'වීමකින්': 1128, 'ආවම': 1129, 'කරදර': 1130, 'කවුරුහරි': 1131, 'හිතන්නෙ': 1132, 'අඩුම': 1133, 'හැඟුම්': 1134, 'ඝන': 1135, 'කළුවරේ': 1136, 'කාලෙත්': 1137, 'ඉදිරියට': 1138, 'පද': 1139, 'පිරිසිදු': 1140, 'හිතක්': 1141, 'ඇඩුවා': 1142, 'හම්බෙන්න': 1143, 'ඔලුවට': 1144, 'ජීවිත': 1145, 'ඇවිල්ලත්': 1146, 'පොඩ්ඩක්වත්': 1147, 'වහල': 1148, 'බැන්නා': 1149, 'හැමවෙලේම': 1150, 'එනව': 1151, 'රෝගයක්': 1152, 'දුරකතනයකින්': 1153, 'අමතාවී': 1154, 'යනවද': 1155, 'ශක්තිමත්': 1156, 'මුහුන': 1157, 'දුන්නා': 1158, 'බැරිඋනා': 1159, 'යාවි': 1160, 'දැනෙන්නේ': 1161, 'පිස්සුවක්': 1162, 'කතාව': 1163, 'අහලා': 1164, 'මොනවා': 1165, 'බොන්න': 1166, 'දා': 1167, 'පාලනේ': 1168, 'දෙමාපියන්': 1169, 'සතුව': 1170, 'ගැලපෙන': 1171, 'දරුවන්ට': 1172, 'අකුරු': 1173, 'ක්\\u200dරම': 1174, 'ඕනී': 1175, 'පීඩනේකින්': 1176, 'විසදුමක්': 1177, 'ත්': 1178, 'යුතු': 1179, 'නැත': 1180, 'කාලයේදි': 1181, 'අයියෝ': 1182, '😬😬': 1183, 'නැගල': 1184, 'හිනාවෙලා': 1185, 'සතුටෙන්': 1186, '’': 1187, 'කෙනෙක්ගෙ': 1188, 'වෙමින්': 1189, 'දෙන්නටම': 1190, 'ලබන්න': 1191, 'විවාහය': 1192, 'මෙහෙ': 1193, 'ප්ලිස්': 1194, 'කියලත්': 1195, 'කොටසක්': 1196, 'කෝණයෙන්': 1197, 'notification': 1198, 'පිරෙනකොට': 1199, 'බනින්න': 1200, 'ඩිප්\\u200dරෙම්සම්': 1201, '🙂💔💫': 1202, 'තිබ්බත්': 1203, 'එකයි': 1204, 'හෑල්ලු': 1205, 'අහ': 1206, 'වූ': 1207, 'තරුණ': 1208, 'කොන්': 1209, 'වතේ': 1210, 'වුනාට': 1211, 'සත්\\u200dය': 1212, 'හිසට': 1213, 'අතමය': 1214, 'දකින්': 1215, 'කරා': 1216, 'කියනවා': 1217, 'ලග': 1218, 'තාමත්': 1219, 'ඉවරයි': 1220, 'හිටියෙ': 1221, 'කෙට්ටු': 1222, 'මනෝ': 1223, 'සිංහලෙන්': 1224, 'ලියවුණු': 1225, 'පොත්': 1226, 'මුකුත්': 1227, 'සොඳුරිය': 1228, 'කන්ඩ': 1229, 'අසරන': 1230, 'තේරෙන්නෑ': 1231, 'මොනා': 1232, 'මිදෙන්න': 1233, 'සර්': 1234, 'mood': 1235, 'ඉන්නකොට': 1236, 'දවසේ': 1237, 'තරහක්': 1238, 'බැලුවම': 1239, 'කතාවක්': 1240, 'බහ': 1241, 'කිව්වේ': 1242, 'අතට': 1243, 'ආබාධයක්': 1244, 'ඔයාටත්': 1245, 'ලියන්නේ': 1246, 'ඉන්දියාවට': 1247, 'කියන්නම්': 1248, 'ගන්නේ': 1249, 'අසුබවාදී': 1250, 'අභියෝග': 1251, 'අරමුණු': 1252, 'යන්නෙත්': 1253, 'ඇඟට': 1254, 'කරන්නවත්': 1255, 'මෙයා': 1256, 'ඉදන්ම': 1257, 'රවට්ටලා': 1258, 'බැදලා': 1259, 'ඉදිරියටම': 1260, 'කරපින්නා': 1261, 'ලමයී': 1262, 'දාගන්න': 1263, 'ඈත්': 1264, 'නොව': 1265, 'වෙනකොට': 1266, 'ඩාන්සින්': 1267, 'ප්\\u200dරයිවට්': 1268, 'ආසාවට': 1269, 'අනාගතය': 1270, 'දේම': 1271, 'ගන්නනේ': 1272, 'අවු': 1273, 'කාලා': 1274, 'ගමනට': 1275, 'දවස්වල': 1276, 'දෙන්නවත්': 1277, 'කටින්': 1278, 'පැනලා': 1279, 'ශක්තියක්': 1280, 'දෙස': 1281, 'කලු': 1282, 'කැවුම්': 1283, 'personality': 1284, 'හිතෙන්': 1285, 'සරලව': 1286, 'කොල්ලෙක්': 1287, 'මුණ': 1288, 'මෙකෙ': 1289, 'ලැජ්ජාශීලී': 1290, 'එකෙනෙක්': 1291, 'ගේමක්': 1292, 'හින': 1293, 'රැදි': 1294, 'සිටින්නමි': 1295, 'තුරැලු': 1296, 'තත්වෙ': 1297, 'aynagseul101': 1298, 'ෆොටෝශූට්': 1299, 'උච්චමානය': 1300, 'නෝට්': 1301, 'දෙන්නකො': 1302, 'අනතුරේ': 1303, 'දාගෙන': 1304, 'ස්ත්තුන්ගේ': 1305, 'ජිවිත': 1306, 'බෙරලා': 1307, 'අනන්තව': 1308, 'දුප්පත්': 1309, 'කැම': 1310, 'නිටර': 1311, 'ආශිර්වාදයෙන්': 1312, 'සතුටක්': 1313, 'ලබනවා': 1314, 'ගැලපෙනවා': 1315, 'ලංකරගත්ත': 1316, 'සමාජෙට': 1317, 'සමාජෙත්': 1318, 'මිනිස්සුන්ව': 1319, 'එළියක්': 1320, 'සොයනා': 1321, 'බොනවා': 1322, 'බදාගෙන': 1323, 'වැඩක': 1324, 'ඊලඟ': 1325, 'ක්ලිප්': 1326, 'කොල්ලා': 1327, 'වියෝව': 1328, 'සාමන්\\u200dයයි': 1329, 'emotional': 1330, 'එකාට': 1331, 'එවුන්': 1332, 'ඌගේ': 1333, 'ලයිෆ්': 1334, 'පැත්තෙන්': 1335, 'මෝටි\\u2063\\u2063වේට්': 1336, '4': 1337, 'නොකරනා': 1338, 'විරයා': 1339, 'නොවනා': 1340, 'යාලුවන්ගෙ': 1341, 'boyfriendsලා': 1342, 'ඒගොල්ලොන්ට': 1343, 'ආදරෙන්': 1344, 'ඇහෙද්දි': 1345, 'interest': 1346, 'bandula07160007': 1347, 'udayawickramar1': 1348, 'පගා': 1349, 'කොරපු': 1350, 'සහෝදරය': 1351, 'මහින්දගෙ': 1352, 'කියනකොට': 1353, 'පු': 1354, 'ඉත්තෑවො': 1355, 'දුවන්නෙ': 1356, 'උඹලගෙ': 1357, 'කම': 1358, 'පෙන්වන්නෙ': 1359, 'කමනම්': 1360, 'බ්\\u200dරෝ': 1361, 'එක්කො': 1362, 'සජ්ජගෙ': 1363, 'බිජ්ජෙක්': 1364, 'පොල්': 1365, 'ලෙල්ලෙක්😂😂': 1366, 'ashwarunasuriya': 1367, 'දෙනා': 1368, 'ස්ත්\\u200dරීන්ගෙන්': 1369, 'දිගින්': 1370, 'තුරුම්පුව': 1371, 'කජාර්ගෙන්': 1372, 'අහල': 1373, 'ඒකිත්': 1374, 'කරකියාගන්න': 1375, 'නසාගත්තා': 1376, '😅': 1377, 'ඩිග්රිය': 1378, 'පැන්ෂන්': 1379, 'ආයතනයක': 1380, 'ජොබක්': 1381, 'වෙන්නම්': 1382, 'යක්ක': 1383, 'දරුවනි': 1384, 'අවස්ථාව': 1385, '😶😶': 1386, 'අම්මල': 1387, 'බෙදා': 1388, 'නවතින්න': 1389, 'හදවතේ': 1390, 'හිතුමතේ': 1391, 'පාඩුවෙ': 1392, 'ඉගෙන්': 1393, 'ගත්තනම්': 1394, 'ඉන්නවනෙකියලා': 1395, 'ඉදිරියෙදිම': 1396, 'ලිලා': 1397, 'අප්පිරියයි': 1398, 'දේපල': 1399, 'අයිති': 1400, 'කරගන්නලු': 1401, 'තේරෙයි': 1402, 'වැට': 1403, 'උඩ': 1404, '2nd': 1405, 'shy': 1406, 'ඊර්ෂ්\\u200dයයා': 1407, 'නොකරන්න': 1408, 'කිවිඳියෝ': 1409, 'පපුවට': 1410, 'තුරුලු': 1411, 'උනුහුමට': 1412, 'බඩගින්නෙ': 1413, 'මැරිල': 1414, 'ආසයි': 1415, 'ගගා': 1416, 'වැලලුනාට': 1417, 'ගොනා': 1418, 'රැවටෙන්ඩ': 1419, 'ashinsap': 1420, 'අවුලක්': 1421, 'සබ්ජෙක්ට්': 1422, 'ඊළඟ': 1423, 'බයෝ': 1424, '☺️☺️☺️👊': 1425, 'දේයක්': 1426, 'සැප': 1427, 'පහසුකම්': 1428, 'වාහනයක්': 1429, 'දොරවල්': 1430, 'පවුලේ': 1431, 'ප්\\u200dරරශ්න': 1432, 'කවදාවත්ම': 1433, 'තත්ත්වයේන්': 1434, 'විදිහේ': 1435, 'ආරම්භය': 1436, 'අවසානය': 1437, 'අවස්තා': 1438, 'දෙකෙන්': 1439, 'පහසුම': 1440, 'ඇහුවොත්': 1441, 'කෙල්ලම': 1442, 'කාර්': 1443, 'හෙවුවේ': 1444, 'සසර': 1445, 'ගැලවීමට': 1446, 'මයික්': 1447, 'බිපං': 1448, 'ෆුල්': 1449, 'ආතර්': 1450, 'සින්දුවක්': 1451, 'කියාගෙන': 1452, 'ඉක්ම්නට': 1453, 'ඇඩෙනව': 1454, 'ගැටළුවක්': 1455, 'වුණේ': 1456, 'නින්දෙන්': 1457, 'ඇහැරී': 1458, 'නොයනවා': 1459, 'මල්ලිලා': 1460, 'නංගිලා': 1461, 'රිසල්ට්ස්': 1462, 'ලිව්ව': 1463, 'ලෝකය': 1464, 'ඔයාලගෙන්': 1465, 'ඉල්ලනවා': 1466, 'හිග': 1467, 'වෙනවට': 1468, 'මියදුනා': 1469, 'තුවක්කුවක්': 1470, 'පාර්ලිමේන්තුවේ': 1471, '225': 1472, 'මරන්න': 1473, 'උත්තරයක්': 1474, 'මෙවර': 1475, 'විභායට': 1476, 'වරට': 1477, 'පෙනී': 1478, 'සිටියේ': 1479, 'ssf': 1480, 'ප්\\u200dරතිඵලය': 1481, 'බේත්': 1482, 'කොහොමටත්': 1483, 'stress': 1484, 'දරන්න': 1485, 'ගර්භණී': 1486, 'සමයේ': 1487, 'ඇතිවිය': 1488, 'සංඥා”': 1489, 'උණ': 1490, 'රුධිර': 1491, 'වහනය': 1492, 'හිසරදය': 1493, 'හුස්ම': 1494, 'පෙනීමේ': 1495, 'වලිප්පුවfit': 1496, 'පපුවේ': 1497, 'උදරයේ': 1498, 'දැඟලීමේ': 1499, 'සිරුරේ': 1500, 'ඉදිමීම': 1501, 'ඕනෑම': 1502, 'අපහසුතාවක්': 1503, 'එවුං': 1504, 'දෙතුං': 1505, 'දෙනෙකුට': 1506, 'සඟවපු': 1507, 'අවුද': 1508, 'පෙන්නුවානං': 1509, 'කන්ට්\\u200dරෝල්': 1510, 'ඇඬුවේ': 1511, 'කරන්නකරන්න': 1512, 'පිරිසක්': 1513, '4න්': 1514, '4ටෝ': 1515, 'ගහන්න': 1516, 'chathu': 1517, 'raaaj': 1518, 'අක්කිඕ': 1519, 'රගනවා': 1520, 'කිව්ව්ටු': 1521, 'ලෝන්': 1522, 'ගොන්': 1523, 'අක්කි': 1524, 'හදිස්සි': 1525, 'ක්\\u200dරීම්': 1526, 'උලාගෙන': 1527, 'බැලෙන්නෙ': 1528, 'හිස්බව': 1529, 'ගැලපෙන්නෑ': 1530, 'මන්දා': 1531, 'ඕනිවට': 1532, 'වෙලේක': 1533, 'පුපුරලා': 1534, 'යයි': 1535, 'එයාල්ව': 1536, 'බලාගන්න': 1537, 'යොමුකරනනෙ': 1538, 'law': 1539, 'attraction': 1540, 'කලින්ට': 1541, 'ඉන්නෙන්නැ': 1542, 'වෙනුව්\\u200dර්න්': 1543, 'ඩොක්ට': 1544, 'තත්වෙක': 1545, 'අද්\\u200dයාපන': 1546, 'බාදා': 1547, 'වෙන්නැතුව': 1548, 'ප්ලීස්': 1549, 'පහකින්': 1550, 'තීනවා': 1551, 'හෙටට': 1552, 'දාන්නමයි': 1553, 'කොලඹ': 1554, 'බෝඩ්': 1555, 'හිතාගෙන': 1556, 'බෝඩිමක්': 1557, 'ආයේම': 1558, 'ඉංග්\\u200dරීසියෙන්': 1559, 'ලෙක්චර්ස්': 1560, 'මීදීමට': 1561, 'දහමේ': 1562, 'කිරීමක්': 1563, 'එච්චර': 1564, 'sad': 1565, 'තරුණයෙක්': 1566, 'කෙනාගෙන්': 1567, 'කලෙ': 1568, 'දැනුන': 1569, 'දැනුත්': 1570, 'එහෙමයි': 1571, 'පුරුදුයි': 1572, 'ජීවතේ': 1573, 'විඳින්න': 1574, 'ලොකෙට': 1575, 'වෙන්නෙත්': 1576, 'ඒකනිසා': 1577, 'අපට': 1578, 'අපෙ': 1579, 'දැනුනා': 1580, 'දෙයක්වත්': 1581, 'තියම්': 1582, 'හදපු': 1583, 'ටජ්': 1584, 'මහල්': 1585, 'විභාගයක්': 1586, 'දවසට': 1587, 'වමනය': 1588, 'සිහිය': 1589, 'මේම': 1590, 'ඒම': 1591, 'හිතලම': 1592, 'පෙනුමත්': 1593, \"''අතීත\": 1594, 'වර්ථමාන': 1595, 'අනාගත': 1596, 'කෝව්ඩ්': 1597, 'රැල්ල': 1598, 'හමුවේ': 1599, 'ආර්ථිකය': 1600, 'නොහැකිද': 1601, 'මෝහනය': 1602, 'තුලින්': 1603, 'අමිහිරි': 1604, 'යථා': 1605, 'තත්ත්වට': 1606, 'වන්න': 1607, 'යුතුකම': 1608, 'ජෝකර්': 1609, 'වෙල': 1610, 'මරනය': 1611, 'හමුවේවා': 1612, 'පතනවා': 1613, 'ඔන්න': 1614, 'ලෙමන්': 1615, 'වැඩිවුණු': 1616, 'බීම': 1617, 'වීදුරුවක්': 1618, 'හැදිලා': 1619, 'මකාගන්න': 1620, '💠😒': 1621, 'imvedda': 1622, 'වේග': 1623, 'දක්වලා': 1624, 'තිබ්බාත්': 1625, 'ම්නිස්සු': 1626, 'එවා': 1627, 'සැලකිල්ලට': 1628, 'ගන්නෙ': 1629, 'මෙයාට': 1630, 'වැදුනු': 1631, 'වගෙම': 1632, 'බයවෙලාත්': 1633, 'අලින්ට': 1634, 'මරැවෙන්න': 1635, 'ආරක්ශිත': 1636, 'රෝගියෙක්': 1637, 'තමන්ම': 1638, 'විසින්ම': 1639, 'සිතනවානම්': 1640, 'රැකියාවට': 1641, 'akilasilva8': 1642, 'මිහිර': 1643, 'රදවන': 1644, 'වේදනාව😂': 1645, 'අනිත්\\u200dයයි': 1646, 'රුපේ': 1647, 'නැතිවෙන්න': 1648, 'තත්පර': 1649, '30k': 1650, 'අඳුරේ': 1651, 'ඇඳේ': 1652, 'උපන්නේ': 1653, 'හැමෝමත්': 1654, 'සතුටින්ම': 1655, 'තෙළ': 1656, 'සිදින්නා': 1657, 'සිහින': 1658, 'අසපුවෙි': 1659, 'පවුල්': 1660, 'සංස්කෘතික': 1661, 'න්\\u200dයාය': 1662, 'ඇත්තම්': 1663, 'පවුලෙත්': 1664, 'divorce': 1665, 'ඒකෙන්ම': 1666, 'යනවානෙ': 1667, 'family': 1668, 'background': 1669, 'එකටත්': 1670, 'කෙලවෙලාද': 1671, 'රැවුල': 1672, 'කොන්ඩෙ': 1673, 'කපල': 1674, 'පිලිවෙලට': 1675, 'අනුකම්පා': 1676, 'දෙවියනේ': 1677, 'විඳිමින්': 1678, 'ajplus': 1679, 'covid19': 1680, 'coronavirusindia': 1681, '27': 1682, 'දි': 1683, 'පලවෙනි': 1684, 'affair': 1685, 'කලකිරිල': 1686, 'අරවා': 1687, 'කියන්ඩ': 1688, 'හිතෙයි': 1689, 'වාසනාවකට': 1690, 'ඇහුකම්': 1691, 'කවෘරුත්': 1692, 'දෙවෙනි': 1693, 'වතාවක්': 1694, 'වේදනාකාරී': 1695, 'සෙනහසක්': 1696, 'යදිනා': 1697, 'තැන්ක්ස්': 1698, 'තත්වයකට': 1699, 'නැතිකරගන්නවත්': 1700, 'මොඩ': 1701, 'තිබුන': 1702, 'විශ්වාසේ': 1703, 'විශ්වාසෙත්': 1704, 'සම්පුර්නෙන්ම': 1705, 'ගෙයක්වත්': 1706, 'පරක්කු': 1707, 'දන්නෑනෙ': 1708, 'මොකක්හරි': 1709, 'තුලයි': 1710, 'නිර්මානය': 1711, 'කියන්නැ': 1712, 'දෙමාපිද': 1713, 'ගෙන්': 1714, 'දැගත': 1715, '25ක්': 1716, 'එහෙමත්': 1717, 'මුනදිමෙ': 1718, 'nishabdawa': 1719, 'idama': 1720, 'තියනව': 1721, 'කියයි': 1722, 'කාටද': 1723, 'දේකින්ම': 1724, 'සුන්වෙලා': 1725, 'ස්ට්\\u200dරෙස්': 1726, 'ඉතාමත්': 1727, 'හදිසි': 1728, 'සැලරි': 1729, 'දුවගේ': 1730, 'හැසිරීම': 1731, 'දුව': 1732, 'සිතේ': 1733, 'ඍනාත්මක': 1734, 'සිතිවිලි': 1735, 'රජයන්න': 1736, 'වැටීමක්': 1737, 'නොගැලපීම්': 1738, 'ගලපගෙන': 1739, 'ස්ථාවරයකට': 1740, 'බ්ලොක්': 1741, 'ඇයිද': 1742, 'වදවෙන්නේ': 1743, 'මහන්සියෙන්': 1744, 'නිර්මාණයක්': 1745, 'හොරකම්': 1746, 'කළාම': 1747, 'ඒකේ': 1748, 'අපිටමයි': 1749, 'වෙනම': 1750, 'පටවා': 1751, 'ගන්ගම': 1752, 'සැමට': 1753, 'මගුල්': 1754, 'ගෙවන්න': 1755, 'ලැජ්ජ': 1756, 'මැවිලා': 1757, 'එද්දි': 1758, 'කාටත්': 1759, 'අත්\\u200dයාවශ්\\u200dය': 1760, 'වෙහෙසකර': 1761, 'අවසානයේ': 1762, 'ශරීරය': 1763, 'විවේක': 1764, 'ගන්වන්න': 1765, 'මැරෙන්නෙ': 1766, 'අහිතක්': 1767, 'කාගෙවත්': 1768, 'බොඩි': 1769, 'ලැන්වේජ්': 1770, 'සිංහල': 1771, 'hehehee': 1772, 'තනිවීලා': 1773, 'අමාරුවේ': 1774, 'නොවී': 1775, 'චාම්': 1776, 'බැණ': 1777, 'වදීවි': 1778, 'බස්': 1779, 'පස්සට': 1780, 'තිබුනත්': 1781, 'නොකර': 1782, 'ඉන්නමයි': 1783, 'පිලිතුරු': 1784, 'ලැබිලා': 1785, 'හොරුන්ට': 1786, 'අහුවෙන්න': 1787, 'හුම්': 1788, 'කොඩි': 1789, 'තරහකාරයෙක්': 1790, 'වෙඩි': 1791, 'තියලවත්': 1792, 'පියවරක්': 1793, 'යන්නයි': 1794, 'තරගය': 1795, 'තරග': 1796, 'එක්කමයි': 1797, 'ඇවිස්සෙන': 1798, 'ප්\\u200dරශ්නේ': 1799, 'තනී': 1800, 'දෙකකට': 1801, 'සැත්කමක්': 1802, 'elon': 1803, 'අයියට': 1804, 'පින්සිද්ද': 1805, \"'\": 1806, 'madushi': 1807, 'pavi': 1808, 'se': 1809, 'එකටම': 1810, 'විවිධ': 1811, 'දමනවා': 1812, 'ඉවසනවා': 1813, 'පවරලා': 1814, 'බැනුම්': 1815, 'අහන': 1816, 'වාර': 1817, 'කමරේටම': 1818, 'හැදුනෙ': 1819, '7ක්': 1820, 'දැනගත්තාම': 1821, 'සිහි': 1822, 'වෙනකල්': 1823, 'ගැහුවා': 1824, 'අයි': 1825, 'මටම': 1826, 'සිතෙන්නේ': 1827, 'අපටම': 1828, 'පමණද': 1829, 'සියයක්': 1830, 'පනා': 1831, 'පිටම': 1832, 'තිබෙද්දිත්': 1833, 'මුරන්ඩු': 1834, 'යාළුවා': 1835, 'තැංක්\\u200dයූ': 1836, '🤗💃': 1837, 'අසරනයි': 1838, 'එයගෙනුයි': 1839, 'ගෙනුයි': 1840, 'තොරගන්න': 1841, 'ol': 1842, 'හිතදුන්': 1843, 'ලිව්වා': 1844, 'රාගය': 1845, 'මෙට්ටෙ': 1846, 'පව': 1847, 'වචනෙත්': 1848, 'නොවුණු': 1849, 'ලැජ්ජායි': 1850, 'ගොඩනඟා': 1851, 'අනිවාර්යයෙන්ම': 1852, 'ලැබේවී': 1853, 'පෙන්ඩෝල්': 1854, 'පෙති': 1855, 'වගයක්': 1856, 'බිව්වා': 1857, 'මැරුන්': 1858, 'මූඩ්': 1859, 'ටක්ගාල': 1860, 'දේටත්': 1861, 'පිංසිද්ද': 1862, 'තැවෙමින්': 1863, 'අනාගතයට': 1864, 'හරි…නිතරම': 1865, 'අදුරේ': 1866, 'විදවනවා': 1867, 'බීතිකාව': 1868, 'පහකට': 1869, 'පමණ': 1870, 'ක්\\u200dරියාවකට': 1871, 'යන්නදෙන්න': 1872, 'වරද්දකින්': 1873, 'නෙවෙයිනම්': 1874, 'ගන': 1875, 'පසුතවෙන්න': 1876, 'කරපුකෙනත්': 1877, 'වරදක්': 1878, 'ගියපු': 1879, 'පසුතවේවි': 1880, 'ස්ටේටස්': 1881, 'බොරුද': 1882, 'දන්නෙනෑ': 1883, 'අදටත්': 1884, 'තැවෙනවා': 1885, 'සැහැල්ලු': 1886, 'room': 1887, 'game': 1888, 'open': 1889, 'server': 1890, 'යවන්න': 1891, 'මී': 1892, 'හරක්': 1893, 'leagueoflegends': 1894, 'ලව්': 1895, 'සීන්': 1896, 'දැකලම': 1897, 'dukethedog': 1898, 'වගෙත්': 1899, '🤭🤭❤️': 1900, 'ගානේ': 1901, 'උවමනාවකින්': 1902, 'සම්බන්ධයක්තියෙන': 1903, 'පටන්ගන්නෙපා': 1904, 'සිතළු': 1905, 'ලබ්බක්වත්': 1906, 'වහන්න': 1907, 'හිටියානං': 1908, 'cc7lscuu4z': 1909, '61yvv2qozl': 1910, 'අඩාල': 1911, 'මදි': 1912, 'විශ්ව': 1913, 'විද්\\u200dයාලයකට': 1914, 'ඇතුලත්': 1915, 'කවදා': 1916, 'එයිද': 1917, 'නැදද්': 1918, 'දන්': 1919, 'එනකම්': 1920, 'හදුනාගැනීමෙි': 1921, 'ක්රමවෙිද': 1922, 'ලෝකවල්': 1923, 'රියල්': 1924, 'දෙනාටයි': 1925, 'බොසා': 1926, 'අගයන්න': 1927, 'සලකන්න': 1928, 'මැරුනු': 1929, 'වලදමන්න😌': 1930, 'තැනටම': 1931, 'ඔබගේම': 1932, 'තාත්තාගේ': 1933, 'බූරුවා': 1934, 'නමුස්සකයකී': 1935, 'කරුනාකර': 1936, 'ඕකගෙන්': 1937, 'විනෝදෙන්': 1938, 'බීමට': 1939, 'දෙන්නගේ': 1940, 'බේරලා': 1941, 'වදදෙන': 1942, 'කර්න්නෙ': 1943, 'ආකර්ශනය': 1944, 'status': 1945, 'ගල්තලාවක': 1946, 'ලන්තෑරුම්': 1947, 'එළියෙන්': 1948, 'කන්නේ': 1949, 'අඩලා': 1950, 'දරාගන්නම': 1951, 'දැනුනාම': 1952, 'ඇඟ': 1953, 'කියන්නෙම': 1954, 'මහණ': 1955, 'අවසර': 1956, 'ඉල්ලුවත්': 1957, 'දෙන්නෙත්': 1958, 'ලිව්වොත්': 1959, 'ලියවේවි': 1960, 'තෘප්තිමත්': 1961, 'කොලබ': 1962, 'ඇතුලත': 1963, 'මනෝවෛද්\\u200dය': 1964, 'වරු': 1965, 'match': 1966, 'කාවි': 1967, 'ළඟා': 1968, 'නිරන්තරයෙන්ම': 1969, 'ලුහුබඳින්නෙකු': 1970, 'ළඟින්ම': 1971, 'ආශ්\\u200dරය': 1972, 'කාලෙක': 1973, 'වෙනස්වෙලා': 1974, 'වෙනස': 1975, 'සංසංදනය': 1976, 'වැටෙනව': 1977, 'ගැලවෙන්නෙ': 1978, 'දැක්කොත්': 1979, 'අපො': 1980, 'බැරල්': 1981, 'මනුස්සයට': 1982, 'හැගීම': 1983, 'සෙල්ෆිශ්': 1984, 'කොයිවෙලේ': 1985, 'විදියකට': 1986, 'හෙනගැහුනත්': 1987, '17යි': 1988, 'වාසනාව': 1989, 'පාවුනේ': 1990, 'උත්සහය': 1991, 'පහලටම': 1992, 'සිනා': 1993, 'තොටක්': 1994, 'පාමුල': 1995, 'ලද': 1996, 'සරදම්': 1997, 'සිදුවීමක්': 1998, 'මටනං': 1999, 'funny': 2000, 'මැකී': 2001, 'ගන්න්ව': 2002, 'ගියම': 2003, 'නිස': 2004, 'වෙන්ව': 2005, 'covid': 2006, 'අම්මත්': 2007, 'තනිකමයි': 2008, 'දිලිසෙන': 2009, 'ලුමිනස්': 2010, 'පාට': 2011, 'ඇලෙව්වා': 2012, 'ඊයෙ': 2013, 'පිරි': 2014, 'අහසක': 2015, 'නිදාගන්න': 2016, 'නොදකින': 2017, 'සැපතක්': 2018, 'විඳලා': 2019, 'සියල්ලම': 2020, 'මොහොතකින්': 2021, 'කන්දක්': 2022, 'පනින්න': 2023, 'වැරදියට': 2024, 'පාරාදීසේ': 2025, 'දොරක්': 2026, 'දෙතුන්': 2027, 'බලනව': 2028, 'දාලද': 2029, 'විශ්වවිද්\\u200dයාලයක': 2030, 'ඩිප්ලෝමා': 2031, 'හදාරන්න': 2032, 'වීම්': 2033, 'ඉවස': 2034, 'පැත්තකට': 2035, 'තියනවනම්': 2036, 'එව්ව': 2037, 'වෙද්දි': 2038, 'මහජන': 2039, 'සෞඛ්\\u200dය': 2040, 'පරීක්ෂකවරුන්ගේ': 2041, 'සංගමයේ': 2042, 'සභාපති': 2043, 'උපුල්': 2044, 'රෝහණ': 2045, 'උත්තමයාට': 2046, 'තේරුනේ': 2047, 'රාජිතගේ': 2048, 'ගෝලයෙක්': 2049, 'තුමාට': 2050, 'දෙවි': 2051, 'දේවතාවුන්ගේ': 2052, 'ශක්තිය': 2053, 'ලැබේවා': 2054, 'දුකම': 2055, 'කාලකන්නි': 2056, 'දිගු': 2057, 'කාලීනව': 2058, 'තබා': 2059, 'දුරකථනයට': 2060, 'මිදීමට': 2061, 'උපදෙස්': 2062, 'disapamok': 2063, 'ලියන්නෙත්': 2064, 'හොරෙන්': 2065, 'කට්ටක්': 2066, 'ලැබෙනකන්': 2067, 'ඉන්නත්': 2068, 'දිනවලට': 2069, 'කිසිදු': 2070, 'බලපෑමක්': 2071, 'ආකරයට': 2072, 'හැගීමකට': 2073, 'පමනක්': 2074, 'නගාගත්තොත්': 2075, 'විදවීමක': 2076, 'ආරම්භයක්': 2077, 'නොඅනුමානයි': 2078, 'පහර': 2079, 'වධ': 2080, 'අතැරලා': 2081, 'රටකට': 2082, 'හිතෙන්වා': 2083, 'නෙවෙයී': 2084, 'සිසුවියක්': 2085, 'මාසෙ': 2086, 'අවසන්': 2087, 'වසර': 2088, 'විභාගය': 2089, 'පැවැත්වෙනවා': 2090, 'සුදානමක්': 2091, 'දෙවල්': 2092, 'සැබැ': 2093, 'මාත්තයා': 2094, 'කන්ටෑක්ට්': 2095, 'ණෑ': 2096, 'කෑවම': 2097, 'අඳෝනාවක්': 2098, 'විලාපයක්': 2099, 'පදවැල්': 2100, 'යාලුවන්ට': 2101, 'සම්බන්දතා': 2102, 'ඔවුන්': 2103, 'කිව්වෙ': 2104, 'ඔයත්': 2105, 'යාලුවෙන්න': 2106, 'call': 2107, 'යාළුවෙක්ගෙන්': 2108, 'අහගෙන': 2109, 'ඒවට': 2110, 'ප්\\u200dරශ්නෙක': 2111, 'දෙමව්පියන්': 2112, 'නිසාමයි': 2113, '24': 2114, 'කාලෙකට': 2115, 'තාත්තට': 2116, 'හැසිරීම්': 2117, 'ජීවිතේත්': 2118, 'කංස': 2119, 'පානයට': 2120, 'ඇබ්බැහිවෙලා': 2121, 'කාලයයි': 2122, 'ගෙවෙන්නෙ': 2123, 'proposal': 2124, 'දැකල': 2125, 'ළමයෙකුට': 2126, 'අදහස': 2127, 'කිවුවා': 2128, 'dulakshi': 2129, 'g': 2130, 'නිවාඩු': 2131, 'වැඩිපුර': 2132, 'ලැබෙනවානෙ': 2133, 'සැමියා': 2134, 'ගෙදරම': 2135, 'මවට': 2136, 'කෙයා': 2137, 'ලැබෙනවා': 2138, 'ඇරත්': 2139, 'දරුෙවක්': 2140, 'ජෝඩු': 2141, 'ඇසුරු': 2142, 'හමුවෙන': 2143, 'පත්කරනවා': 2144, 'ඈත්වෙන්න': 2145, 'පැතූව': 2146, 'tharindudeshan': 2147, 'තොට': 2148, '😒💔': 2149, 'ලගින්ම': 2150, 'කියලානෙ': 2151, 'අහන්නෙ': 2152, 'තඩි': 2153, 'පොල්ලක්': 2154, 'ගහලා': 2155, 'පන්නන්න': 2156, 'ගහන්නෙපා': 2157, 'වෙලාවල්වලදි': 2158, 'අතදෙන': 2159, 'ළඟින්': 2160, 'නුපුරුදුම': 2161, 'ඔබවම': 2162, 'කිසියම්': 2163, 'නිශ්චිත': 2164, 'ක්\\u200dරියාවලි': 2165, 'කිහිපයක': 2166, 'දක්ෂ': 2167, 'දේවල්වත්': 2168, 'milzybud': 2169, 'වගේද': 2170, 'අක්ෂර': 2171, 'සඳහන්': 2172, 'පොඩිම': 2173, 'අරින්න': 2174, 'උං': 2175, 'මත්තේ': 2176, 'යැපෙන්න': 2177, 'උපයන්න': 2178, 'සැනසෙන්න': 2179, 'කරන්න්': 2180, 'පරන': 2181, 'තත්වෙටම': 2182, \"'ඒ\": 2183, 'ඕස්ට්\\u200dරේලියාවේ': 2184, 'ලංකාව': 2185, \"ඉන්න'\": 2186, 'නැටවෙනවා': 2187, 'අරයත්': 2188, '🙃': 2189, 'ගොත': 2190, 'ගැහෙනවා': 2191, 'මෙලොව': 2192, 'සිහියට': 2193, 'පැමිණෙන්න': 2194, 'බොහෝ': 2195, 'වටා': 2196, 'සිටි': 2197, 'ප්\\u200dර්ශ්නම': 2198, 'නෑදෑ': 2199, 'හිතවතුන්': 2200, 'ආතතිය': 2201, 'sedona': 2202, 'b': 2203, 'ගෙට්': 2204, 'ෆස්ට්': 2205, 'ඉයර්': 2206, 'උත්සවේ': 2207, 'වලියකට': 2208, 'මැදි': 2209, 'වොලිබෝල්': 2210, 'කෝට්': 2211, 'අයිනේ': 2212, 'ගැඹුරු': 2213, 'කානුවකට': 2214, 'බැහැලා': 2215, 'බේරුනේ': 2216, 'දෙපැත්තේ': 2217, 'ඉඳපු': 2218, 'කෙළගත්තා': 2219, 'කෙළගැනිල්ලක්': 2220, 'උත්සවත්': 2221, 'වෙන්නම': 2222, 'මුලින්': 2223, 'it': 2224, 'field': 2225, 'එහිදීත්': 2226, 'ගෘහ': 2227, 'නනිර්මාණකරණයට': 2228, 'තත්වයට': 2229, 'ආසන්න': 2230, '😇': 2231, 'අඳුරු': 2232, 'කරගන්නවා': 2233, '⚠️': 2234, 'නපුරු': 2235, '🙆🏻\\u200d♂️': 2236, 'දිනනවා': 2237, '💎💫': 2238, 'චුට්ටක්': 2239, 'හොදින්': 2240, 'හිතාන': 2241, 'කටහඩ': 2242, 'තියාන': 2243, 'නිසාද': 2244, 'එක්කත්': 2245, 'පැයක්': 2246, 'යනකන්': 2247, 'කෝටිපති': 2248, 'හැඟීමෙන්': 2249, 'ඉදතෑකි': 2250, 'රිජෙක්ට්': 2251, 'දිනකදි': 2252, 'ඔබහට': 2253, 'දැණේවි': 2254, 'බොරු': 2255, 'ඔයාලගේ': 2256, '2020': 2257, 'lahiru': 2258, 'shalith': 2259, 'එකෙන්ම': 2260, 'සිග්නල්': 2261, 'බන්': 2262, '2කට': 2263, 'රිදුණා': 2264, '20': 2265, 'යි': 2266, 'කාර්යක්': 2267, 'කීරීමට': 2268, 'සිතට': 2269, 'ගතියක්': 2270, 'ඉට': 2271, 'කාර්ය': 2272, 'හුරුවෙලා': 2273, 'අයෙම': 2274, 'එවුනුත්': 2275, 'තිබිලත්': 2276, 'රැකියා': 2277, 'ලැබෙන්නෙත්': 2278, '29ක්': 2279, 'සෑහෙන': 2280, 'පුකේ': 2281, 'අමාරුව': 2282, 'තරබාරු': 2283, 'සමාජයෙන්': 2284, 'කොන්වෙලා': 2285, 'එළ': 2286, 'thanks': 2287, 'හමුවේවිද': 2288, 'උත්සාහය': 2289, 'බන්ධනාර': 2290, 'ප\\u200d්\\u200dරකාශක': 2291, 'පහදයි': 2292, 'dsw41l2jhp': 2293, 'n69fdahoyf': 2294, 'පපුව': 2295, 'පිච්චෙන්න': 2296, 'බයේ': 2297, 'කලන්තෙට': 2298, 'අල්ලනවා': 2299, 'කන්නත්': 2300, 'සුසුම්': 2301, 'උණුසුම': 2302, 'පලු': 2303, 'කසන්න': 2304, 'සිතෙහි': 2305, 'වේදනාවෙන්': 2306, 'සමුගැනීමට': 2307, 'සමුදීම': 2308, 'නොකළ': 2309, 'යුත්තකි': 2310, 'wind': 2311, 'desika': 2312, 'කොරන': 2313, 'develop': 2314, 'බැඳීම්ක': 2315, 'හිරවෙලා': 2316, 'ඉන්නවට': 2317, 'එයාටත්': 2318, 'මන': 2319, 'ගමන්ම': 2320, 'ඉගෙනත්': 2321, 'අදරෙ': 2322, 'වෙන්වට': 2323, 'සිඹින්නෙ': 2324, 'සිත': 2325, 'පුතා': 2326, 'පුතේ': 2327, 'ලිව්වත්': 2328, 'මැද්දෙ': 2329, 'qajar': 2330, 'princess': 2331, 'කජාර්': 2332, 'කුමරිය': 2333, 'පර්සියාවේ': 2334, '19': 2335, 'සියවසයේ': 2336, 'අලංකාරත්වයේ': 2337, 'සලකුණ😐': 2338, 'තිස්සෙම': 2339, 'sanju': 2340, 'live': 2341, 'බලලා': 2342, '😥': 2343, 'iam': 2344, 'astr': 2345, 'කෑව': 2346, '😐💔': 2347, 'වෙනතක': 2348, 'දැවෙන්නට': 2349, 'මොහොතෙම': 2350, 'ඇතී': 2351, 'ගින්දරෙන්': 2352, 'පසුතැවෙන්න': 2353, 'බල': 2354, 'කරන්නැ': 2355, 'ඔඅස්සෙ': 2356, 'පෙන්නුවෙත්': 2357, 'දවසකින්': 2358, 'පෙන්නපු': 2359, 'ළඟ': 2360, 'තියං': 2361, 'දන්නැ': 2362, 'ඒයාගේ': 2363, 'සම්බන්ද': 2364, 'තිබිලා': 2365, 'අහුවුනාට': 2366, 'නොසිට': 2367, 'සම්බන්දය': 2368, 'අපරාදේ': 2369, 'කිය්ලා': 2370, 'සමජ': 2371, 'දැනුමක්': 2372, 'අම්මටත්': 2373, 'පිඩනයක්': 2374, 'ඇවිල්ල': 2375, 'opration': 2376, 'සිතල': 2377, 'negative': 2378, 'සංසංංන්දනය': 2379, 'රස්සාවකට': 2380, 'ජීවිතේට': 2381, 'ගත්තත්': 2382, 'එහෙමට': 2383, 'භාගෙ': 2384, 'පවුලට': 2385, 'දායකත්වය': 2386, 'දෙන්නෙ': 2387, 'කාංසාමය': 2388, 'නොතේරීම': 2389, 'ලමා': 2390, 'මනෝවිද්\\u200dයව': 2391, 'පෙන්නුව': 2392, 'addict': 2393, 'නැතිම': 2394, 'ප්\\u200dරායෝගිකව': 2395, 'එහම': 2396, 'කාටහරි': 2397, 'හදවතින්ම': 2398, 'පුරුද්දක්': 2399, 'google': 2400, 'පිලිතුරක්': 2401, 'ලින්ක්': 2402, 'හමුවුනේ': 2403, 'ඔයාලට': 2404, 'පුදුවන්ද': 2405, 'වතුර': 2406, 'වියෝජනය': 2407, 'දහනය': 2408, 'දුවන': 2409, 'ලාභදායී': 2410, 'h2o': 2411, 'වියෝජන': 2412, 'එන්තැල්පිය': 2413, 'දහන': 2414, 'ශක්තියට': 2415, 'සමානයි': 2416, 'trip': 2417, 'set': 2418, 'වෙමුද': 2419, 'සහෝ': 2420, 'තනිවම': 2421, 'තියෙන්නෙත්…': 2422, 'විදිහක්': 2423, 'යාළුවො': 2424, 'හිටියට': 2425, 'ඉරිසියා': 2426, 'cleening': 2427, 'වැඩනේ': 2428, 'හදාගෙන': 2429, 'වැඩේ': 2430, 'බලපාන': 2431, 'ප්\\u200dරධානම': 2432, 'සාධකයන්ගෙන්': 2433, 'බුද්ධිය': 2434, 'nisalipathirana': 2435, '😒': 2436, 'කතාකරන්න': 2437, 'යද්දී': 2438, 'එකනේ': 2439, 'නෙවෙයිනේ': 2440, 'කාලෙකින්': 2441, 'දැනගන්නවා': 2442, 'පෙම්වතිය': 2443, 'කලකීරීමක්': 2444, 'කියාල': 2445, 'කිසිදෙයක්': 2446, 'අහිමිවෙලා': 2447, 'පක්ෂ': 2448, 'භේදයකින්': 2449, 'කොපමණ': 2450, 'යු': 2451, 'ඇන්ඩ්': 2452, 'පි': 2453, 'සෙල්ලමක්': 2454, '\\u2063ඔබේ': 2455, 'සමීපතමයාට': 2456, 'වී': 2457, 'තිබිය': 2458, 'හැකියි': 2459, 'පුද්ගලයෙකුට': 2460, 'ආරම්භ': 2461, 'විසින්මය': 2462, 'al': 2463, 'ගමේ': 2464, 'meter': 2465, 'results': 2466, 'දාවි': 2467, 'පසතැවිමක්': 2468, 'අම්මගෙ': 2469, 'අසාව': 2470, 'ඉස්ට': 2471, 'අදරේ': 2472, 'බබාටත්': 2473, 'වැරැද්දක්ද': 2474, 'සම්බන්ධය': 2475, 'නවත්තමු': 2476, 'යැයි': 2477, 'ඔහුට': 2478, 'කීව්වත්': 2479, 'ලමයා': 2480, 'දුන්නෙ': 2481, 'යාලු': 2482, 'දැනෙන': 2483, 'කියගන්න': 2484, 'ලොකූ': 2485, 'ප්\\u200dරශ්නෙකින්': 2486, 'විදින': 2487, 'කවදම': 2488, 'ඒවිනේ': 2489, 'කොවිඩ්': 2490, 'දේහ': 2491, 'සම්බන්ධයෙන්': 2492, 'විද්වත්': 2493, 'කමිටු': 2494, 'තියනවා😐😐😐': 2495, 'පුශ්ෂවලිදි': 2496, 'ගෙදරකින්ම': 2497, 'එලෝනවා': 2498, 'දීපංකො': 2499, 'ව්භාගයට': 2500, 'කිහිපයකට': 2501, 'සමහරක්': 2502, 'කලුවරේ': 2503, 'පුටුවක': 2504, 'ඉදගෙන': 2505, 'චොකලට්': 2506, 'බිස්කට්': 2507, 'චර්\\u200dයාවක්': 2508, 'කරන්නෙනම්': 2509, 'පාලනයකින්': 2510, 'සිතුවිල්ලක්': 2511, 'වෙවී': 2512, 'ව්\\u200dයකූල': 2513, '–': 2514, 'අපූරු': 2515, 'අධිකරණ': 2516, 'තින්දුවක්': 2517, 'jjavt5ezdj': 2518, 'via': 2519, 'sri': 2520, 'lanka': 2521, 'brief': 2522, 'rdjllt7dqs': 2523, 'කියමු': 2524, 'මහින්දගේ': 2525, 'දැනුවත්ව': 2526, 'කාටවත්ම': 2527, '…': 2528, 'වැරදි…': 2529, 'ලස්සනම': 2530, 'කරගනවා': 2531, 'කරගැනීමක්': 2532, 'සුන්දරයි': 2533, 'අසරනකමක්': 2534, 'දැනෙනෙවා': 2535, 'හිතන්නැතිව': 2536, 'ඔනිම': 2537, 'වෙලවකදි': 2538, 'තනිකරනවා': 2539, 'ලෝකේ': 2540, 'කවද': 2541, 'ඇරල': 2542, 'හැරුනු': 2543, 'අතේ': 2544, 'අප්පච්චි': 2545, 'කව්රු': 2546, 'සමහරවෙලාවට': 2547, 'ඇත්තෙම': 2548, 'ස්තූතියි': 2549, 'out': 2550, 'control': 2551, 'කලබලකාරී': 2552, '24යි': 2553, 'ඉන්ටවිව්': 2554, 'පේන්නම': 2555, 'ගන්නෑ': 2556, 'හැන්දෑවට': 2557, 'බිව්වේ': 2558, 'පත': 2559, 'ගැහෙන්න': 2560, 'නියපොතු': 2561, 'හපනවා': 2562, 'අහවල්': 2563, 'පුදගලයාව': 2564, 'සංවෙිදි': 2565, 'හැමොම': 2566, 'කදුලු': 2567, 'ඇත්තන්': 2568, 'මිග්රෙන්': 2569, 'අඩුවොත්': 2570, 'උස්සන්න': 2571, 'ඇහැරුණ': 2572, 'නින්දට': 2573, 'යනකන්ම': 2574, 'කලබලයි': 2575, 'එකෙක්ට': 2576, 'ටුයිටර්': 2577, 'බ්ලූටික්': 2578, 'ආවෙකත්': 2579, 'ට්\\u200dරැක්': 2580, 'ගෝතයො': 2581, 'දන්නැතුවනෙ': 2582, 'perty': 2583, 'ඊයෙත්': 2584, 'ඇල්ලුවේ': 2585, 'හිතෙ': 2586, 'පෙරදා': 2587, 'ඇවිදින්': 2588, 'ළයේ': 2589, 'මහින්ද': 2590, 'මාතියා': 2591, 'වේදනා': 2592, 'තිළිනේ': 2593, 'පුදා': 2594, 'sasini00211': 2595, 'රසයි': 2596, 'කාලාම': 2597, 'තියෙම්නෙ': 2598, 'අවුලලෙන්': 2599, 'යලුවෙන්න': 2600, 'උතසහ': 2601, 'ගැනු': 2602, 'girl': 2603, 'සමාජෙ': 2604, 'මූනදෙන්න': 2605, 'ගැටලුවකටම': 2606, 'දුන්න': 2607, 'භීතිකාව': 2608, 'රෝගය': 2609, 'දැනුණු': 2610, 'කෙලවර': 2611, 'isura': 2612, 'pcr': 2613, 'නසාගත්': 2614, 'බහුතරයක්': 2615, '60': 2616, 'දේකට': 2617, 'බනී': 2618, 'ගහයි': 2619, 'දේවල්ම': 2620, 'අදික': 2621, 'කුඩුවලට': 2622, 'හිතිල': 2623, 'වැස්සෙ': 2624, 'තෙමිලා': 2625, 'තියෙද්දිත්': 2626, 'වෙට්ටු': 2627, 'දදා': 2628, 'බයික්වල': 2629, 'චීන': 2630, 'රොකට්': 2631, 'පැත්තට': 2632, 'කඩා': 2633, 'කලබලෙං': 2634, 'වැඩියෙ': 2635, 'යාලුකරගන්න': 2636, 'මියැදෙන': 2637, 'දිවයට': 2638, 'නිදිබර': 2639, 'දෑස': 2640, 'විඩාවෙන්': 2641, 'කෙනක්': 2642, 'sex': 2643, 'හොයනවා': 2644, 'ගෙදරකට': 2645, 'අක්කාලාගෙදරවත්': 2646, 'සිංදුව': 2647, 'දාපු': 2648, 'කාට': 2649, 'පොඩී': 2650, 'වියදම්': 2651, 'කියවලා': 2652, 'ඉදලාම': 2653, 'කව්දෝ': 2654, 'හදේ': 2655, 'වශී': 2656, 'රජයන': 2657, 'ව්\\u200dයාවසයෙක්': 2658, 'මොකෙක්': 2659, 'දිනන්නෙත්': 2660, 'බනින': 2661, 'ඇනුම්': 2662, 'පියවි': 2663, 'ලොවෙි': 2664, 'හමුවන්නමි': 2665, '🎧': 2666, 'රැඳෙන්නට': 2667, 'සොයයි': 2668, 'පසුතැවීමක්': 2669, 'වීමට': 2670, 'ඕනවට': 2671, 'හෙල්ප්': 2672, 'හිතෙනවටවත්': 2673, 'චිත්තරූපත්': 2674, 'පෙනව': 2675, 'සින්ද': 2676, 'කෑගහල': 2677, 'වලත්': 2678, 'අසනීපයකට': 2679, 'දීර්ඝකාලීනව': 2680, 'පූජකරනවා': 2681, 'ලෙඩේ': 2682, 'කරලම': 2683, 'සල්ලිත්': 2684, 'ranindu': 2685, 'විරහ': 2686, 'ගත්': 2687, 'දුක්වින්දා': 2688, 'ඒනිසා': 2689, 'එකතැන': 2690, 'තිබ්බ්\\u200dර්\\u200dර්': 2691, 'රෑකම': 2692, 'ඩොක්ටර්': 2693, 'විදියකුත්': 2694, 'කෙනෙකුත්': 2695, 'ඩවුන්': 2696, 'විකාර': 2697, 'තේරුනාද': 2698, 'දන්නෑ': 2699, 'පුළුවන්නම්': 2700, 'මාත්තයාට': 2701, 'මගෑරලා': 2702, 'නොයන්න': 2703, 'අවසානයේදී': 2704, 'ගත': 2705, 'මෙනෙහි': 2706, 'සකස්': 2707, 'බොහොම': 2708, 'අම්මේ': 2709, '❤️🙏': 2710, 'දුශ්කර': 2711, 'පසලකට': 2712, 'අකමැත්තක්': 2713, 'ඇතිව': 2714, 'දික්කසාදය': 2715, 'මිලින': 2716, 'මල්': 2717, 'කැකුලු': 2718, 'හැරයන්නට': 2719, 'වෙන්නෙපා': 2720, 'stable': 2721, 'කව්රුවත්': 2722, 'යාලුවායි': 2723, 'මායි': 2724, 'පටන්ගන්නවලු': 2725, 'දුකමයි': 2726, 'උණු': 2727, 'කඳුලැලි': 2728, 'රූරා': 2729, 'අමිත්': 2730, 'කොල්ලෝ': 2731, 'ළමයින්ගේ': 2732, 'අධි': 2733, 'ක්\\u200dරියාකාරීත්වය': 2734, 'ඊටපස්සෙ': 2735, 'හිතද්දී': 2736, 'හේතු…': 2737, 'නොගිය': 2738, 'යාලුවොත්': 2739, 'පල්': 2740, 'තත්වෙත්': 2741, 'පින්': 2742, 'ඉකිබින්ද': 2743, 'නොවි': 2744, 'කරගැනීමට': 2745, 'සංශෝධනය': 2746, 'akilasr': 2747, 'සැපද': 2748, '😬😬😬': 2749, 'ගෙවන': 2750, 'පට්ටයි': 2751, '💔❤️\\u200d🔥කියලා': 2752, '😌😌😌😌😌😌😌😌': 2753, 'කොහොමහරි': 2754, 'විභාගයට': 2755, 'අවුරුද්දෙ': 2756, 'විභාගෙ': 2757, 'මේපාරත්': 2758, 'නෑදෑයො': 2759, 'එක්ල': 2760, 'සන්සන්දනය': 2761, 'ගත්\\u200dතා': 2762, 'වැඩෙට්': 2763, 'යොමු': 2764, 'වෙන්නේම': 2765, 'වෙලෙත්': 2766, 'ලොක': 2767, 'වලමයි': 2768, 'සමූහයේ': 2769, 'ඉල්ලන්නේ': 2770, 'පිරිමියා': 2771, 'ජොබ්1': 2772, 'එයි': 2773, 'මට්ටම': 2774, 'දැනෙන්නේ…': 2775, 'හසරැල්': 2776, 'සලා': 2777, 'මිදීල': 2778, 'කිහිප': 2779, 'දෙනෙකුටම': 2780, 'ගගිය': 2781, 'කලේම': 2782, 'රිදිල': 2783, 'දැනීමක්': 2784, 'ලෝකෙම': 2785, 'හොඳට': 2786, 'උපාධියක්': 2787, 'ක්\\u200dරමය': 2788, 'marry': 2789, 'photo': 2790, 'දකිද්දී': 2791, 'තරහයි': 2792, 'මැරුණ': 2793, 'බෙල්ලෙ': 2794, 'හිගමනට': 2795, 'වැටෙන්නම': 2796, 'කව්ද': 2797, 'අදුන': 2798, 'දරුවාට': 2799, 'දෙන්නෙම': 2800, 'අතරේ': 2801, 'කොට්ටාශය': 2802, 'ඒයා': 2803, 'ඉලක්කයක්': 2804, 'අරමුණක්': 2805, 'තිබු': 2806, 'පමණින්': 2807, 'නොහැකිය': 2808, 'නියමිත': 2809, 'සහිත': 2810, 'සැලසුමක්': 2811, 'තිබිම': 2812, 'අනිවාර්ය': 2813, 'වේ': 2814, 'ඇරුනා': 2815, 'ඉවසගන්න': 2816, 'නරකයි': 2817, 'දුකෙන්': 2818, 'තරහෙන්': 2819, 'කම්පා': 2820, 'විරුද්ධව': 2821, 'අරගල': 2822, 'දිනන්න': 2823, 'හදන': 2824, 'ඉදිරියේ': 2825, 'හඬා': 2826, 'හමුවෙනවා': 2827, 'ලොවේ': 2828, 'සොබාව': 2829, 'රිද්දනවා': 2830, 'සේරම': 2831, 'ලැජ්ජාවක්': 2832, 'ඔටිසම්': 2833, 'තත්වයේ': 2834, 'උගන්වන්න': 2835, 'භාවිතා': 2836, 'විකල්ප': 2837, 'නොගැලපෙන': 2838, 'හොයන්නතුව': 2839, 'එකට…': 2840, 'සාර්ථකව': 2841, 'යාමට': 2842, 'ශාරීරික': 2843, 'මෙන්ම': 2844, 'බවද': 2845, 'බෙහෙවින්': 2846, 'ඉගෙනීමෙ': 2847, 'වතුරට': 2848, 'වැවකට': 2849, 'මුහුදකට': 2850, 'බැස්සම': 2851, 'ගිලිල': 2852, 'නව': 2853, 'යොවුන්': 2854, 'ප්\\u200dරතිකාර': 2855, 'මනො': 2856, 'වරයෙක්': 2857, 'ආදිව': 2858, 'කැමතී': 2859, 'නිදා': 2860, 'අලස': 2861, 'දැමීම': 2862, 'මෙය': 2863, 'සමත්': 2864, 'වෙය්': 2865, 'හොයන්නෙ': 2866, 'උගත්කම': 2867, 'හැදෙන්න': 2868, 'ආශ්\\u200dරයට': 2869, 'එකියන්නේ': 2870, 'පාලනය': 2871, 'වීඩියෝ': 2872, 'කෝල්': 2873, 'නොගෙන': 2874, 'ඇඳට': 2875, 'ෆෝන්': 2876, 'සෑම': 2877, 'කෙනෙක්ම': 2878, 'තේරෙන': 2879, 'සමලිංගික': 2880, 'මුල්': 2881, 'ප්\\u200dරතිශේප': 2882, 'පසුකාලීනව': 2883, 'පිලිගත්තා0': 2884, 'sampathruwanpa4': 2885, 'එහා': 2886, 'ගම': 2887, 'lock': 2888, 'down': 2889, 'ලු': 2890, 'මුන්': 2891, 'border': 2892, 'itsdonpeter': 2893, 'වෙනකොටනම්': 2894, '🙄': 2895, 'උස්': 2896, 'ස්ථානයකට': 2897, 'බිම': 2898, 'පය': 2899, 'යටි': 2900, 'පතුල්': 2901, 'දාහඩිය': 2902, 'මහත්තයා': 2903, 'හායි': 2904, 'සර්පයෝ': 2905, 'දකිද්දි': 2906, 'අප්පිරියාවක්': 2907, 'අහු': 2908, 'ඔවට': 2909, 'ප්\\u200dරියමනාප': 2910, 'වටින්නේ': 2911, 'ගැගීම': 2912, 'ආදරේදි': 2913, 'අවන්කයි': 2914, 'rasthiyaduwa': 2915, 'යකෝ': 2916, 'කොලොප්පන්': 2917, '😐': 2918, '‘තමුන්': 2919, 'තමුන්': 2920, 'හැටි': 2921, 'දැක්ක': 2922, 'ජාලා': 2923, 'හිතෙද්දි': 2924, 'වෙදනාවක්': 2925, 'බලගෙන': 2926, 'කිසිදේකට': 2927, 'අවදානය': 2928, 'අපහසුතාවට': 2929, 'හීනයක්මයි': 2930, 'සැබෑ': 2931, 'නොවෙන': 2932, 'සිතමින්': 2933, 'ඉන්නෙමි': 2934, 'ලොකයේ': 2935, 'එක්තරා': 2936, 'විභාගයකට': 2937, 'ලෑස්ති': 2938, 'papers': 2939, 'එන්නම': 2940, 'ලකුනු': 2941, 'මාසයක්': 2942, 'එයාටයි': 2943, 'අරයටයි': 2944, 'මැරිච්ච': 2945, 'පොලියට': 2946, 'අරං': 2947, 'කකා': 2948, 'බිබී': 2949, 'කාඹරෙට': 2950, 'විවාහ': 2951, 'යනකේට': 2952, 'එපාවුනා': 2953, 'හදාගනන්': 2954, 'එයහෙ': 2955, 'මතකයන්': 2956, 'අබ්බැහි': 2957, 'please': 2958, 'දෙන්නනකෝ': 2959, 'යනකම': 2960, 'government': 2961, 'campus': 2962, 'ගිහිල්ලා': 2963, 'එකෙයි': 2964, 'හැමතැනම': 2965, 'දාර්ශනිකයො': 2966, 'shortcut': 2967, 'විස්වාස': 2968, 'ලක්ෂනයක්ද': 2969, 'ලිස්': 2970, 'වෙදනාවෙන්': 2971, 'දෙයක්ද': 2972, 'හිතලයි': 2973, 'තියනයක්': 2974, 'ගත්තෙත්': 2975, 'ජිවිතයක්': 2976, 'එහෙ': 2977, 'උසස්පෙළ': 2978, 'නිකුත්': 2979, 'මෙහෙමයි': 2980, 'මල්ලි': 2981, 'අද්\\u200dයාපනික': 2982, 'පුලුවන්නම්': 2983, 'බෝවෙන': 2984, 'සිහිනයක්': 2985, 'පමණයි': 2986, 'නැතත්': 2987, 'අතහැරලා': 2988, 'ඒකාකාර': 2989, 'ගන්මංන': 2990, 'පොත': 2991, 'පතේම': 2992, 'අහලම': 2993, 'මහෙ': 2994, 'ආසව': 2995, 'වැඩකරන්වත්': 2996, 'මගෙත්': 2997, 'නෙහ්': 2998, 'දැනේන': 2999, 'එවගේ': 3000, 'කෙහෙම්මලක්': 3001, 'තියේනකන්': 3002, 'විතරයි…': 3003, 'දේවල්මයි…': 3004, 'ඒ්': 3005, 'ඕස්ට්\\u200dරේලියාවනේ': 3006, 'ලංකාවනේ': 3007, '‘තමුන්ට': 3008, 'ස්ථානෝචිත': 3009, 'ප්රඥාව': 3010, 'දවස්ද': 3011, 'ගෙවෙන්නේ': 3012, 'සංසුන්': 3013, 'ආත්ම': 3014, 'විශ්වාසය': 3015, 'තමන්ව': 3016, 'shine': 3017, 'හාරවුස්සන්නට': 3018, 'නොයයි': 3019, 'පාඩමක්': 3020, 'මූලධර්මයක්': 3021, 'න්\\u200dයායක්': 3022, 'තියාගන්නේ': 3023, 'තනියට': 3024, 'ගානක්': 3025, 'ඔහුගෙන්': 3026, 'පස්සෙන්': 3027, 'heartofmonkeys': 3028, 'අපෝ': 3029, 'ඔවුන්ව': 3030, 'කිසිවෙක්': 3031, 'නොමැති': 3032, 'වීමයි': 3033, '🤞😊': 3034, 'පාසලේ': 3035, 'ගුරුවරියන්': 3036, 'වයසෙම': 3037, 'කරන්නත්': 3038, 'අපහසුතා': 3039, 'රිසාල්ට්': 3040, 'එකවත්': 3041, 'එන්නැති': 3042, 'බදු': 3043, 'වෙත': 3044, 'ලැබුණු': 3045, 'භාණ්ඩ': 3046, 'වෙලාවල්': 3047, 'තුවාල': 3048, 'ප්\\u200dර්ශ්නෙක': 3049, 'ගැහැනියක්': 3050, 'රිදවනවා': 3051, 'ගනන': 3052, 'බෑ…': 3053, 'අවබෝධ': 3054, \"'තමාගේ\": 3055, \"සෙවනැල්ල'\": 3056, 'මාත්තියා': 3057, 'වෙනෝ': 3058, 'තල්මස්': 3059, 'කිලෝ': 3060, 'එකෙක්ව': 3061, 'අල්ලලා': 3062, 'නේහ්': 3063, 'මුහුදෙ': 3064, 'පාවෙන': 3065, 'එකිනෙකා': 3066, 'තමන්ගේ': 3067, 'හෘද': 3068, 'සාක්ෂියට': 3069, 'එකඟව': 3070, 'නිවැරදි': 3071, 'පවුලෙ': 3072, 'ලැබෙන්': 3073, 'කියවන': 3074, 'රන්ජා': 3075, 'ඇතුලේ': 3076, 'නසාගන්න': 3077, '😶✌️': 3078, 'අමාරුයි…කාවවත්': 3079, 'පේන්න': 3080, 'වෙලාවලුත්': 3081, 'එනවා…': 3082, 'play': 3083, 'boy': 3084, 'ලට': 3085, 'හිතයි': 3086, 'නිව්වේ': 3087, 'නිකොටින්': 3088, '🚶🎀': 3089, 'වස්සැපුත්': 3090, 'ඉන්ස්ටත්': 3091, 'සුදුමහත්ත්\\u200dයා': 3092, 'තරම්වත්': 3093, 'කන්නෑ': 3094, 'බැදීම': 3095, 'දැනෙන්නෙ': 3096, 'nsadisha': 3097, 'tikirimaarie': 3098, 'senarashavi': 3099, 'vidubhashini': 3100, 'සසිඳු': 3101, 'මහතයි': 3102, 'කියලනෙ': 3103, 'උඹ': 3104, 'කොල්ලයි': 3105, 'කෙල්ලයිත්': 3106, 'ලස්සනයි': 3107, '33': 3108, 'කාන්තා': 3109, 'පාර්ශවයට': 3110, 'ශාන්ති': 3111, 'කර්ම': 3112, 'යොදා': 3113, 'අැති': 3114, 'අාකාරය': 3115, 'ගක්න': 3116, 'මොනනද': 3117, 'අනුන්ට': 3118, 'මෙලෝ': 3119, 'රහක්': 3120, 'කාලයට': 3121, 'නොකලොත්': 3122, 'සුවපත්': 3123, 'වීමේ': 3124, 'යතුර': 3125, 'නින්දෙදි': 3126, 'මුත්\\u200dරා': 3127, 'පොදු': 3128, 'කොටස': 3129, 'ගන්නවලු': 3130, 'පෙබරවාරියේ': 3131, 'සිහිවෙයීද': 3132, 'බිඳුවක්': 3133, 'යලී': 3134, 'තත්වේ': 3135, 'දෑසේ': 3136, 'ලියා': 3137, 'බොන්ඩ': 3138, 'දීල': 3139, 'නිදාගන්ඩ': 3140, 'දියන්': 3141, 'එකෙකුටවත්': 3142, 'එන්නත්': 3143, 'අවුරුද්දකට': 3144, 'තත්වෙට': 3145, 'කරගනීද': 3146, 'හැසිරෙන්නෙ': 3147, 'positiv': 3148, 'pages': 3149, 'ලිපි': 3150, 'ආසාවෙ': 3151, 'ඒවයෙ': 3152, 'ක්\\u200dරියාත්මක': 3153, '\\u2063දෙයක්': 3154, 'කරනවාට': 3155, 'තුල': 3156, 'පෙරටත්': 3157, 'අත්විඳල': 3158, 'තියෙනවද': 3159, 'පුපුරයි': 3160, 'තරමටම': 3161, 'ලෙඩෙක්වගේ': 3162, 'තෙරෙන්': 3163, 'පිල්ස්': 3164, 'මේව': 3165, 'ඔයාගෙන්': 3166, 'හිටින්නෑ': 3167, 'phone': 3168, 'පුලුවනද්': 3169, 'වැරදුනා': 3170, 'පැරදුනා': 3171, 'ගන්නට': 3172, 'හදවතකට': 3173, 'දෙපාරක්': 3174, 'ටියූෂන්': 3175, 'පන්ති': 3176, 'කලාට': 3177, 'ග්\\u200dරේරු': 3178, 'නූගේගොඩ': 3179, 'රොටරියෙන්': 3180, 'කේසිරි': 3181, 'සමාධියෙන්': 3182, 'හෙන': 3183, 'කාගෙන්': 3184, 'දෙන්නෑ': 3185, 'සිද්දියම': 3186, 'වේදනාවත්': 3187, 'කේනතියක්': 3188, 'කැමැත්ත': 3189, 'නොදුන්': 3190, 'පිරිමින්': 3191, 'දෙනෙකු': 3192, 'නසාගෙන': 3193, 'මුස්ලිම්': 3194, 'ජාතියත්': 3195, 'එන්නේ': 3196, 'පිටින්': 3197, 'ආධ්\\u200dයාත්මිකව': 3198, 'මර': 3199, 'විලාප': 3200, 'නගනා': 3201, 'හඩ': 3202, 'ඕනෑවට': 3203, 'nadun': 3204, 'don': 3205, 'lovely': 3206, 'paba': 3207, 'ඉදිකටුවක්': 3208, 'ගද්දී': 3209, 'බනිනනවනෙ': 3210, 'හවස්': 3211, 'මහන්න': 3212, 'ඉදිකටු': 3213, 'සෙවනැල්ල': 3214, 'රිදෙනව': 3215, 'මැරිලවත්': 3216, '5ක': 3217, 'බිද': 3218, 'වැටුනා': 3219, 'හිතපු': 3220, 'මගෙන්': 3221, 'ඈත්ම': 3222, 'වැඳ': 3223, 'හරින්න': 3224, 'හැරෙන': 3225, 'දැනගෙන': 3226, 'සංචරණ': 3227, 'නීති': 3228, 'මාතලේ': 3229, 'පලාපත්වලට': 3230, 'අදට': 3231, 'සතියක්': 3232, 'තීරණයක්': 3233, 'ආකාරයක': 3234, 'අත්\\u200dයවශ්\\u200dය': 3235, 'දෑ': 3236, 'සපයන': 3237, 'හැඳුනුම්පත්': 3238, 'අංකය': 3239, 'බඩු': 3240, 'gotabayar': 3241, 'lka': 3242, 'තවමත්': 3243, 'covid19lk': 3244, 'නීතියට': 3245, 'අවනතව': 3246, 'sewwand8272671': 3247, 'හොදා': 3248, '😌🐒': 3249, 'රඳා': 3250, 'පවතින්නේ': 3251, 'තුළම': 3252, 'හඳුනා': 3253, 'වේවි': 3254, 'අවුරුද්දේ': 3255, 'තියන්වා': 3256, 'පාරට': 3257, 'කෙනව': 3258, 'කරන්නකෝ': 3259, 'මිදෙන්නෙ': 3260, 'අම්මටයි': 3261, 'තාත්තටයි': 3262, 'වයසයි': 3263, 'ආසාව': 3264, 'හම්බ': 3265, 'දෙයින්': 3266, 'සලකන': 3267, 'නිසසල': 3268, 'හදවත': 3269, 'සිසිලසින්': 3270, 'තැවෙනා': 3271, 'කන්නවත්': 3272, '🇮🇹ඉතාලියේ': 3273, 'ඔක්සිජන්': 3274, 'නිශ්පාදන': 3275, 'යන්ත්\\u200dරය': 3276, '❤️🙏❤️': 3277, 'ආර්තිකේ': 3278, 'වැටිල': 3279, 'වැඩකරන්න': 3280, 'තියාගන්න': 3281, 'විධියට': 3282, 'අවස්ථා': 3283, 'නැතිකරගෙන': 3284, 'විදිහනවට': 3285, '🖤': 3286, 'එතකම්': 3287, 'බැඳලා': 3288, 'නොමිලේ': 3289, 'උපදේශන': 3290, 'සේවා': 3291, 'කොළඹ': 3292, 'අවට': 3293, 'දිග': 3294, 'ජේද': 3295, 'අත්හරින්න': 3296, 'කාවුවොත්': 3297, 'සංසාරේ': 3298, 'මේතරම්': 3299, 'කටුක': 3300, 'සැන': 3301, 'සීමක්': 3302, 'ගෙවුන': 3303, 'වැඩිමලා': 3304, 'වගකීමක්': 3305, 'ඇත්තෙන්ම': 3306, 'පමණට': 3307, 'විඩිහට': 3308, 'හිතිලාඅ': 3309, 'අපාගත': 3310, 'නිසා…': 3311, 'වේදනාවටත්': 3312, 'සැනසෙන්නේ': 3313, 'දවසකට': 3314, 'ishankajayasin1': 3315, 'ඉලක්ක': 3316, 'උත්සාහයක්ම': 3317, 'අසාර්ථක': 3318, 'z8p7srzj4e': 3319, '1qmygxnond': 3320, 'ඉන්ස්ටා': 3321, 'ස්ටෝරි': 3322, 'බලන්නේ': 3323, 'වාරයක්': 3324, 'පාසා': 3325, 'හිතෙනවා…': 3326, 'ගැලපෙන්නේ': 3327, 'කවුරැත්': 3328, 'වෙිනවා': 3329, 'වැරදිකාරයා': 3330, 'අපිව': 3331, 'කල්හීම': 3332, 'වෙලාවකින්': 3333, 'ඇහැරෙනවා': 3334, 'වෙලාව': 3335, 'එහෙමවත්': 3336, 'ඇහුවාම': 3337, 'නැලු': 3338, 'නොතේරුණාට': 3339, 'අබ්බානකට': 3340, 'සිටීමේ': 3341, 'රහස': 3342, 'හූ': 3343, 'counselor': 3344, 'ඔනේ': 3345, 'okvtz3njse': 3346, 'nsopmw4ocr': 3347, 'ගෙවල්වල': 3348, 'අස්සේ': 3349, 'ලැබුණේ': 3350, 'කිව්වම': 3351, 'ආත්මාර්ථකාමී': 3352, 'නිසාලු': 3353, 'result': 3354, 'අධ්\\u200dයාපනේට': 3355, 'යොමුවෙන්න': 3356, 'ඒවි': 3357, 'යස': 3358, 'අගේට': 3359, \"උනේ'\": 3360, 'කනස්සල්ලෙන්': 3361, 'මහත්': 3362, 'ගොඩක්මානසික': 3363, 'අතින්ම': 3364, 'ප්\\u200dර්ශ්න': 3365, 'බීලා': 3366, 'වෙරිවෙන': 3367, 'umaadias': 3368, 'කොල්ලව': 3369, 'ජිවිතෙත්': 3370, 'කරවලා': 3371, 'වැලපෙනවා': 3372, 'කසාද': 3373, 'දෙන්නෙක්': 3374, 'ඩිවෝස්': 3375, 'අංකල්': 3376, 'දෙන්නද': 3377, 'ලමයින්ගෙන්': 3378, 'දෙන්නම': 3379, 'යාලුවෙක්වත්': 3380, 'විහිලුවක්': 3381, 'ෆේස්බුක්': 3382, 'විචාරකයන්ගෙ': 3383, 'රැවටිලා': 3384, 'හීනය': 3385, 'තිබ්බෙ': 3386, 'doctor': 3387, 'අංශයෙන්': 3388, 'පුහු': 3389, 'මාණ්\\u200dයය': 3390, 'kaviyabanis': 3391, 'යාළුවෙක්': 3392, 'වකුගඩුවලට': 3393, 'විෂබීජයක්': 3394, 'නිවන්සුව': 3395, 'නංගියෝ': 3396, 'විදවන්නෙ': 3397, 'තිබුනු': 3398, 'සම්බන්ධතා': 3399, 'පුද්ගලයා': 3400, 'පරක්කුවෙන්න': 3401, 'අක්කා': 3402, 'මෝල්': 3403, 'කොහෙද': 3404, '😌🥲': 3405, 'ex': 3406, 'පිනිස': 3407, 'ට්විට්': 3408, '🥴': 3409, 'බුද්ධාගම': 3410, 'ටෝක්': 3411, 'දාන': 3412, 'ඉස්කෝලවලට': 3413, 'බෞතීස්ම': 3414, 'පල්ලි': 3415, 'යවන': 3416, 'ඉන්න\\xa0': 3417, 'අවුල': 3418, 'කරන්න…': 3419, 'අවිදින්න': 3420, 'සරලවම': 3421, 'කිව්වෝත්': 3422, 'පීඩනයකට': 3423, 'අඬනව': 3424, 'විදින්නේ': 3425, 'අන්නේකයි': 3426, 'කෙල්ලෙක්ට': 3427, 'කොන්ද': 3428, 'ජීවත්වෙන්න': 3429, 'අරයගෙන්': 3430, 'jude': 3431, 'h': 3432, 'fernando': 3433, 'මූ': 3434, 'හානි': 3435, 'කරගත්තොත්': 3436, '😐😐': 3437, 'සැන්ඩි': 3438, 'අභිශේකගේ': 3439, 'මටක': 3440, 'හිටින්': 3441, 'නැහැනෙ': 3442, 'ආදරේට': 3443, 'පිරිමියෙක්': 3444, 'ගැහැනියෙක්ගෙන්': 3445, 'support': 3446, 'සැබෑවටම': 3447, 'ජංගම': 3448, 'දුරකථන': 3449, 'රූපවාහිනිය': 3450, 'ආදියෙන්': 3451, 'ඉස්කෝල': 3452, 'ලගයි': 3453, 'එකපාරට': 3454, 'ඇහැරුනත්': 3455, 'ඉස්කෝලේ': 3456, 'නිවලා': 3457, 'කියවන්න': 3458, 'හොද': 3459, 'මොනවද': 3460, 'පීඩනෙන්': 3461, 'ස්ක්\\u200dරීන්': 3462, 'දිගා': 3463, 'ඔලුවෙ': 3464, 'කැක්කුමක්': 3465, 'රොගය': 3466, 'ජිවිතය': 3467, 'පුරවගෙන': 3468, 'අයෙකු': 3469, 'මත': 3470, 'යැපෙමින්': 3471, 'ඔවුන්ට': 3472, 'විදියටයි': 3473, 'itsmekande': 3474, 'රැවටුනේ': 3475, 'පැරදුනේ': 3476, 'වින්ද': 3477, 'දෙයියො': 3478, 'විතරමයි😒': 3479, 'විඳවද්දි': 3480, '✨️': 3481, 'නෙත්': 3482, 'මානේ': 3483, 'ගතවෙන': 3484, 'තප්පරයක්ම': 3485, 'කීව': 3486, 'කීවෙ': 3487, 'ඊරිසියාව': 3488, 'හම්බුනාම': 3489, 'ඇරිලායයි': 3490, 'පේරන්ට්ස්ල': 3491, 'ක්ලාස්': 3492, 'කරන්නකො': 3493, 'ලමය': 3494, 'එවුවම': 3495, 'ස්කුල්': 3496, 'ඉවෙන්ට්ස්': 3497, 'වලදි': 3498, 'ලමයිට': 3499, 'ෆේවරේෂන්': 3500, 'ලමයව': 3501, 'ඩාන්ස්': 3502, 'සෙන්ටර්': 3503, 'උවමනාවට': 3504, 'දවල්ට': 3505, 'තිබුනෙ': 3506, 'සද්ද': 3507, 'මුදවල': 3508, 'පසුපසින්': 3509, 'හිටි': 3510, 'අබිබවා': 3511, 'අවිනිශ්චිතයි': 3512, 'වෙලවක්ට': 3513, 'මෙයාගෙ': 3514, 'පොටෝ': 3515, 'යූස්': 3516, 'ඇඬුවා': 3517, 'කෙනාටම': 3518, 'ඉල්ලුවා': 3519, 'ගැළපෙන්': 3520, 'ප්\\u200dරශ්නයකට': 3521, 'මූණ': 3522, 'පරිපූර්ණ': 3523, 'නොවුනත්': 3524, 'යුතුමයි': 3525, 'පණ': 3526, 'jayanifdo': 3527, 'උන්දලා': 3528, 'සවිමත්': 3529, 'කාර්\\u200dයක්': 3530, 'දැනගත': 3531, 'කැමැතියි': 3532, 'ඩිග්\\u200dරී': 3533, 'අව්ල්': 3534, 'ක්ශේත්\\u200dරයෙන්': 3535, 'ඇබ්බැහිවීමකින්': 3536, 'බේරෙන්නේ': 3537, 'මකා': 3538, 'බියකුත්': 3539, 'පාසල්': 3540, 'හම්බුනා': 3541, 'දෙමාපියො': 3542, 'සහෝදර': 3543, 'සහෝදරියො': 3544, 'බැඳල': 3545, '30': 3546, '35': 3547, 'කසාදයක්': 3548, 'බැඳගන්න': 3549, 'දැනෙන්න': 3550, 'මොක්ද්ද': 3551, 'ගැහැනු': 3552, 'ලැජ්ජාව': 3553, 'මිසක්': 3554, 'වැරැද්ද': 3555, 'මගෙනෙ': 3556, 'ඊළග': 3557, 'ඉඳලා': 3558, 'ගරු': 3559, 'පේපර්': 3560, 'කට': 3561, 'ලියද්දී': 3562, 'අවතක්සේරු': 3563, 'කළකිරුණා': 3564, 'හැදුනා': 3565, 'තීන්නෙ': 3566, 'වගේ…': 3567, 'පාලු': 3568, 'ගතියක්…': 3569, 'එලියටවත්': 3570, 'කොට්ටෙ': 3571, 'කරගන්නව': 3572, 'සද්දයක්වත්': 3573, 'වත්ත': 3574, 'පහලට': 3575, 'සැහැල්ලුවෙන්': 3576, 'සංගීතේ': 3577, 'කතාවෙ': 3578, 'අංචි': 3579, 'අදින': 3580, 'ගැනනේ': 3581, 'කවද්ද': 3582, 'කෙටි': 3583, 'ඇ\\u200bඳලා': 3584, 'ජීවිතයක්': 3585, 'ගතකරන්න': 3586, 'අකමැති': 3587, 'මොකුත්': 3588, '\\u200bකරන්න': 3589, 'බෑනේ': 3590, 'ශාරීරිකව': 3591, 'ජවසම්පන්න': 3592, 'වුවත්': 3593, 'ඉදිරි': 3594, 'තත්වයක්': 3595, 'පිළිබඳව': 3596, 'කෙනෙකුට': 3597, 'සම්බන්ධව': 3598, 'පාඨමාලා': 3599, 'කියන්නකො': 3600, 'කරොත්': 3601, 'වියපත්': 3602, 'කාන්තාවන්': 3603, 'අනවශ්\\u200dය': 3604, 'වෙන්නට': 3605, 'යාම': 3606, 'නැගිට්ට': 3607, 'මිනිස්': 3608, 'වාසයෙන්': 3609, 'වනගත': 3610, 'ජිව්තේ': 3611, 'දුකකි': 3612, 'අහිමි': 3613, 'වේයැයි': 3614, 'දවසගානේ': 3615, 'එවනකොට': 3616, 'දකින්නෙත්': 3617, 'ගාණක්': 3618, 'ෆොටෝ': 3619, 'ගත්තු': 3620, 'විමසුවම': 3621, 'උත්තරත්': 3622, '🥴🥴': 3623, 'colombo': 3624, 'ladyy': 3625, 'ඇදලත්': 3626, 'හම්මේ': 3627, 'කී': 3628, 'සෙනේ': 3629, 'අයිඩියා': 3630, 'දෙන්නකෝ': 3631, 'excuzemiii': 3632, 'udara': 3633, 'grero': 3634, 'ජොලි': 3635, 'ගෑණු': 3636, 'ප්\\u200dරස්න': 3637, 'වෙලා😒🤧💔': 3638, 'උනනේ': 3639, 'සහමහරු': 3640, 'රිද්දන': 3641, 'පලිගන්න': 3642, 'එයට': 3643, 'මානසිකත්වයක්': 3644, 'අරයට': 3645, 'උස': 3646, 'දැක්කහම': 3647, 'නගින්න': 3648, 'දාඩිය': 3649, 'පන': 3650, 'හිරි': 3651, 'දෙනෙත': 3652, 'මොනවත්': 3653, 'කොය්': 3654, 'විදිහටද': 3655, 'djharristhecook': 3656, 'පොඩිඩට': 3657, 'මිනිස්සුන්ට': 3658, 'දේශපාලනේ': 3659, 'දේශපාලනය': 3660, 'විසඳන්න': 3661, 'ඕනෙත්': 3662, 'දේශපාලනෙන්ම': 3663, '10': 3664, 'දඩුවම්': 3665, 'අනුමත': 3666, 'කරනවාද': 3667, 'ආදරයක': 3668, 'දැනෙනා': 3669, 'දාක': 3670, 'තියනකොට': 3671, 'hutto': 3672, 'suutikka': 3673, 'ඇතිනේ': 3674, 'සම්බන්දව': 3675, 'නසාගැනීම්': 3676, 'වැඩියි': 3677, 'වෙලෙම': 3678, 'අම්මාට': 3679, 'මොනාහරි': 3680, 'මැරෙයි': 3681, 'හැදෙයි': 3682, 'දාරගන්න': 3683, 'මෙකට': 3684, 'ගන්නයි': 3685, 'දාන්නේ': 3686, 'දෙනන': 3687, 'පරෂ': 3688, 'පිටවෙනවා': 3689, 'ගන්නත්': 3690, 'දක්ෂයෝ': 3691, 'නිකමෙක්': 3692, 'ඉඳලම': 3693, 'ජිවිතෙන්': 3694, 'හැංගෙන්න': 3695, 'damruwanikosala': 3696, 'හොඳින්': 3697, 'හඳුනන': 3698, 'ඉතාලි': 3699, 'ජාතිකයෝ': 3700, 'මහපොළවට': 3701, 'නිකාන්': 3702, 'බොරුවට': 3703, 'ගෑනුන්ගෙන්': 3704, 'ගුටි': 3705, 'සිද්ධ': 3706, 'අනාගතයත්': 3707, 'පටලගන්නෙපා': 3708, 'අවමගුල්': 3709, 'සිතක්': 3710, 'හ්ම්ම්': 3711, 'බලන': 3712, 'ආකාරය': 3713, 'සැමවිටම': 3714, 'දීප්තිමත්': 3715, 'නරකට': 3716, 'සිද්ධවෙන': 3717, 'තුලත්': 3718, 'පුංචිම': 3719, 'හොඳක්': 3720, '💥🍃': 3721, 'කෙල්ලට': 3722, 'රෑපය': 3723, 'නිවැරැදියි': 3724, 'ලස්සනයිලු': 3725, 'කුස': 3726, 'රජ්ජුරුවන්ට': 3727, 'නහයක්': 3728, 'බකල්': 3729, 'ලැබුනේ': 3730, 'පාලුවක්': 3731, 'කිරෙනවා': 3732, 'මුලාවක්': 3733, 'ශරීරයට': 3734, 'උද්\\u200dයෝගී': 3735, 'කෙනෙක්ගේ': 3736, 'අඩංගු': 3737, 'කරැණු': 3738, 'අම්මලගේ': 3739, 'තාත්තලගේ': 3740, 'gay': 3741, 'හැටියට': 3742, 'මනසක්': 3743, 'හැරිලා': 3744, 'බලනවා': 3745, 'ඉපදුනේ': 3746, 'කරුමෙටලු': 3747, 'එයාලව': 3748, 'කරන්නලු': 3749, 'අදත්': 3750, 'වරදකුත්': 3751, 'යාගෙන': 3752, 'එනකොට': 3753, 'ඇතුලෙන්': 3754, 'ගැහිල': 3755, 'නැගිටෙනවා': 3756, 'කරගන්නත්': 3757, 'වසංගත': 3758, 'ඉක්මනටම': 3759, 'කෙනාව': 3760, 'සිප': 3761, 'වැළඳ': 3762, 'ලැබේවි': 3763, 'චූටි': 3764, 'දෝනිද': 3765, 'කිවේ': 3766, 'ගැහැණිය': 3767, 'බවට': 3768, 'පළවූ': 3769, 'වාර්තාව': 3770, 'බන්ධනාගාරයෙන්': 3771, 'ප්\\u200dරකාශයක්': 3772, 'ලොන්': 3773, 'ගෙවාගන්න': 3774, '‘පොර': 3775, 'හදන්න': 3776, 'එපා…': 3777, 'පිස්සො': 3778, 'හැසිරෙනවා’': 3779, 'කලෙක': 3780, 'ලමෙක්': 3781, 'යෝජනාවක්': 3782, 'ගෙනාවා': 3783, 'පැහැදීමක්': 3784, 'එතනත්': 3785, 'අවසානෙදි': 3786, 'ඉතිරි': 3787, 'මිනිසුන්': 3788, 'හිතන්නෙත්': 3789, 'එයාලාගේ': 3790, 'ඕපදූප': 3791, 'හොයන්නෙත්': 3792, 'දීපියව්': 3793, 'ඉන්නම්': 3794, 'ඉස්සෙල්ල': 3795, 'ඔයාව': 3796, 'ගොඩදාගෙන': 3797, 'තැනින්': 3798, 'page': 3799, 'group': 3800, 'හැදිල්ල': 3801, 'upload': 3802, 'සැනින්': 3803, 'උස්සලා': 3804, 'දාන්නෙත්': 3805, 'watermark': 3806, 'මදිවට': 3807, 'වෙනදේ': 3808, 'හැදුවා': 3809, 'විස්තරත්': 3810, 'කියනඑක': 3811, '1': 3812, '5': 3813, 'ඇදට': 3814, 'නිදිමත': 3815, 'වර්තමානයේ': 3816, 'මොහොතේ': 3817, 'සමීප': 3818, 'විදුහල්පති': 3819, 'deshanlasitha7': 3820, 'සමතැනට': 3821, 'නිසිතැන': 3822, 'ලැබීම': 3823, 'ප්\\u200dරමාණවත්': 3824, 'දහිරිය': 3825, 'ඉවසිම': 3826, 'ගැහැනුන්ට': 3827, 'අව': 3828, 'දරුණුතම': 3829, 'උසුලන': 3830, 'ඇයට': 3831, 'ඉවසිය': 3832, 'නොහැකි': 3833, 'සමාජය': 3834, 'ටිකෙන්': 3835, 'කාලයත්': 3836, 'කුහක': 3837, 'ඉර්ශියා': 3838, 'අමන': 3839, 'අසූචි': 3840, 'පොන්නකම්': 3841, 'ගතිලක්ෂණ': 3842, 'එතුල': 3843, 'සිදුවිය': 3844, 'හැකිදේ': 3845, 'namila007': 3846, 'ගීත': 3847, 'වක්\\u200dරෝක්තියෙන්': 3848, 'වැල්': 3849, 'තිබුණු': 3850, 'මහන': 3851, 'සුළු': 3852, 'කිසිවක්': 3853, 'ඉතාම': 3854, 'වටිනවා': 3855, 'සමාවෙන්න': 3856, 'ආයි': 3857, 'කිනවා': 3858, 'strees': 3859, 'නැතිකරගන්නේ': 3860, 'අසීමිතව': 3861, 'බයවෙලා': 3862, 'කොස්': 3863, 'කාලම': 3864, '😖': 3865, 'පැය': 3866, '2ක්': 3867, '3ක්': 3868, 'නැගිටිනවා': 3869, 'පියතුම': 3870, 'සහනය': 3871, 'සම්බන්ධතාවයක්': 3872, 'හැරීම': 3873, 'අනුමත්': 3874, 'හැකිද': 3875, 'පව්': 3876, 'මැරියන්': 3877, 'වචනෙ': 3878, 'සල්ලිම': 3879, 'නැතිකම': 3880, 'ලොකුම': 3881, 'කූඹි': 3882, 'මැරෙන්න😁🌸': 3883, 'පූරුවෙ': 3884, 'කසාදෙට': 3885, 'ගත්තෙ': 3886, 'නුඹට': 3887, '❤😘': 3888, 'දැකපු': 3889, 'වෙලාම': 3890, 'ලැබුනත්': 3891, 'time': 3892, 'passing': 3893, 'තේ': 3894, 'විරාහ': 3895, 'වුනේ': 3896, 'ලේසි': 3897, 'අම්මාගෙ': 3898, 'ස්වයං': 3899, 'self': 3900, 'studies': 3901, 'උපාධිය': 3902, 'වේවිද': 3903, 'ප්\\u200dරවේශමෙන්': 3904, 'කොට්ට': 3905, 'විදිහටම': 3906, 'සැකෙන්': 3907, 'අතිතේ': 3908, 'වැරද්දක්': 3909, 'අල්ලන්': 3910, 'කියවනවා': 3911, 'තිත්තයා': 3912, 'පරාදයි': 3913, 'තිත්ත': 3914, 'ප්\\u200dරජාව': 3915, 'දිනුම්': 3916, '🥲🤣': 3917, 'මැරෙන': 3918, 'විසිපහක්': 3919, 'ප්\\u200dරෝපෝසල්': 3920, 'අකැමැති': 3921, 'මහා': 3922, 'පව්කාරියක්': 3923, 'ආසාවල්': 3924, 'තිබ්බනම්': 3925, 'පෞද්ගලික': 3926, 'කීපයක්': 3927, 'නැතිකර': 3928, 'මෙම': 3929, 'පැටියෝ': 3930, 'හැමතිස්සෙම': 3931, 'අඩන්නැති': 3932, 'තරන්': 3933, 'අරිමග': 3934, 'නොදැක': 3935, 'නොදැන': 3936, 'පවිටු': 3937, 'කමින්': 3938, 'වස්සා': 3939, 'ඉදලත්': 3940, 'එයාල': 3941, 'කරන්ම': 3942, 'තැවීම': 3943, 'බෙහෙතක්': 3944, 'මරෙනකම්': 3945, 'තේරේවි': 3946, 'මොනතරම්': 3947, 'හොදද': 3948, 'අනිවාර්යෙන්ම': 3949, 'වෙස්වලාගත්ත': 3950, 'ආශිර්වාදයක්': 3951, 'ඉක්මණට': 3952, 'සැහැල්ලුව': 3953, 'ලැබෙනවමයි': 3954, 'අන්තෙටම': 3955, 'කැක්කුම': 3956, 'රෑපයට': 3957, 'කළේ': 3958, 'ආත්මයට': 3959, 'nayanatharaj': 3960, 'වෙලාවටම': 3961, 'නෙමෙයිනෙ': 3962, 'වෙලාවටත්': 3963, 'කොහෙ': 3964, 'ට්\\u200dරිප්': 3965, 'යනකොටත්': 3966, 'අපිම': 3967, 'දකිනවනෙ': 3968, 'කපල්': 3969, 'ඩෙට්': 3970, 'පොන්': 3971, 'යවාගන්න': 3972, 'නෙමෙ': 3973, 'එක්': 3974, 'මොලෙට': 3975, 'stimulation': 3976, 'එපිසොඩ්': 3977, 'දානව': 3978, 'අදහස්': 3979, 'එකතුවෙන්න': 3980, 'යනකොට': 3981}\n"
     ]
    }
   ],
   "source": [
    "tokenizer = Tokenizer(num_words=vocab_size, oov_token=oov_tok)\n",
    "tokenizer.fit_on_texts(training_sentences)\n",
    "\n",
    "word_index = tokenizer.word_index\n",
    "vocab_size = len(word_index)\n",
    "print(len(word_index))\n",
    "\n",
    "print(word_index)\n",
    "\n",
    "training_sequences = tokenizer.texts_to_sequences(training_sentences)\n",
    "training_padded = pad_sequences(training_sequences, maxlen=max_length, padding=padding_type, truncating=trunc_type)\n",
    "\n",
    "testing_sequences = tokenizer.texts_to_sequences(testing_sentences)\n",
    "testing_padded = pad_sequences(testing_sequences, maxlen=max_length, padding=padding_type, truncating=trunc_type)"
   ]
  },
  {
   "cell_type": "code",
   "execution_count": 208,
   "metadata": {
    "id": "c2urRUCZDUUy",
    "ExecuteTime": {
     "start_time": "2023-04-21T22:11:10.084178Z",
     "end_time": "2023-04-21T22:11:10.084710Z"
    }
   },
   "outputs": [],
   "source": [
    "training_padded = np.array(training_padded)\n",
    "training_labels = np.array(training_labels)\n",
    "testing_padded = np.array(testing_padded)\n",
    "testing_labels = np.array(testing_labels)"
   ]
  },
  {
   "cell_type": "code",
   "source": [
    "import fasttext.util\n",
    "\n",
    "# Load FastText model\n",
    "ft = fasttext.load_model(\"cc.si.300.bin\")\n",
    "\n",
    "# Get embedding dimensions\n",
    "embedding_dim = ft.get_dimension()\n",
    "\n",
    "# Mapping FastText word vectors with word in the dataset\n",
    "embeddings_matrix = np.zeros((vocab_size+1, embedding_dim))\n",
    "\n",
    "for word, i in word_index.items():\n",
    "    embedding_vector = ft.get_word_vector(word)\n",
    "    if embedding_vector is not None:\n",
    "        embeddings_matrix[i] = embedding_vector"
   ],
   "metadata": {
    "colab": {
     "base_uri": "https://localhost:8080/",
     "height": 0
    },
    "id": "SqC2RxLwR00Y",
    "outputId": "376aa073-eb4b-45dd-8f7a-eb1dbf1d01bb",
    "ExecuteTime": {
     "start_time": "2023-04-21T22:11:20.785854Z",
     "end_time": "2023-04-21T22:11:22.414994Z"
    }
   },
   "execution_count": 209,
   "outputs": [
    {
     "name": "stderr",
     "output_type": "stream",
     "text": [
      "Warning : `load_model` does not return WordVectorModel or SupervisedModel any more, but a `FastText` object which is very similar.\n"
     ]
    }
   ]
  },
  {
   "cell_type": "code",
   "execution_count": 210,
   "metadata": {
    "colab": {
     "base_uri": "https://localhost:8080/",
     "height": 0
    },
    "id": "fWt8hpjQDbrV",
    "outputId": "174905c7-fd56-494f-a756-2a9181f89f4a",
    "ExecuteTime": {
     "start_time": "2023-04-21T22:11:21.223933Z",
     "end_time": "2023-04-21T22:11:24.290945Z"
    }
   },
   "outputs": [
    {
     "name": "stdout",
     "output_type": "stream",
     "text": [
      "Model: \"sequential_12\"\n",
      "_________________________________________________________________\n",
      " Layer (type)                Output Shape              Param #   \n",
      "=================================================================\n",
      " embedding_12 (Embedding)    (None, 20, 300)           1194600   \n",
      "                                                                 \n",
      " lstm_12 (LSTM)              (None, 128)               219648    \n",
      "                                                                 \n",
      " dense_12 (Dense)            (None, 1)                 129       \n",
      "                                                                 \n",
      "=================================================================\n",
      "Total params: 1,414,377\n",
      "Trainable params: 219,777\n",
      "Non-trainable params: 1,194,600\n",
      "_________________________________________________________________\n"
     ]
    }
   ],
   "source": [
    "model = tf.keras.Sequential([\n",
    "    tf.keras.layers.Embedding(vocab_size+1, embedding_dim, input_length=max_length, weights=[embeddings_matrix], trainable=False),\n",
    "    tf.keras.layers.LSTM(128, dropout=0.2),\n",
    "    tf.keras.layers.Dense(1, activation='sigmoid')\n",
    "])\n",
    "model.compile(loss='binary_crossentropy',optimizer='adam',metrics=['accuracy'])\n",
    "model.summary()"
   ]
  },
  {
   "cell_type": "code",
   "execution_count": 211,
   "metadata": {
    "colab": {
     "base_uri": "https://localhost:8080/",
     "height": 0
    },
    "id": "fC8dmLHZDhKZ",
    "outputId": "ced6c306-7190-46d0-8eaa-4dd24d3e638f",
    "ExecuteTime": {
     "start_time": "2023-04-21T22:11:24.294661Z",
     "end_time": "2023-04-21T22:11:35.187640Z"
    }
   },
   "outputs": [
    {
     "name": "stdout",
     "output_type": "stream",
     "text": [
      "Epoch 1/20\n",
      "29/29 - 2s - loss: 0.6474 - accuracy: 0.6489 - val_loss: 0.6041 - val_accuracy: 0.6699 - 2s/epoch - 86ms/step\n",
      "Epoch 2/20\n",
      "29/29 - 0s - loss: 0.5607 - accuracy: 0.6889 - val_loss: 0.5393 - val_accuracy: 0.7282 - 474ms/epoch - 16ms/step\n",
      "Epoch 3/20\n",
      "29/29 - 0s - loss: 0.5039 - accuracy: 0.7533 - val_loss: 0.5521 - val_accuracy: 0.7573 - 463ms/epoch - 16ms/step\n",
      "Epoch 4/20\n",
      "29/29 - 0s - loss: 0.4712 - accuracy: 0.7644 - val_loss: 0.5491 - val_accuracy: 0.7379 - 419ms/epoch - 14ms/step\n",
      "Epoch 5/20\n",
      "29/29 - 0s - loss: 0.4544 - accuracy: 0.7900 - val_loss: 0.5215 - val_accuracy: 0.7524 - 427ms/epoch - 15ms/step\n",
      "Epoch 6/20\n",
      "29/29 - 0s - loss: 0.4236 - accuracy: 0.8189 - val_loss: 0.6215 - val_accuracy: 0.7233 - 433ms/epoch - 15ms/step\n",
      "Epoch 7/20\n",
      "29/29 - 0s - loss: 0.4582 - accuracy: 0.7911 - val_loss: 0.5406 - val_accuracy: 0.7427 - 412ms/epoch - 14ms/step\n",
      "Epoch 8/20\n",
      "29/29 - 0s - loss: 0.4003 - accuracy: 0.8267 - val_loss: 0.6155 - val_accuracy: 0.7330 - 401ms/epoch - 14ms/step\n",
      "Epoch 9/20\n",
      "29/29 - 0s - loss: 0.4037 - accuracy: 0.8156 - val_loss: 0.5759 - val_accuracy: 0.7524 - 409ms/epoch - 14ms/step\n",
      "Epoch 10/20\n",
      "29/29 - 0s - loss: 0.4027 - accuracy: 0.8078 - val_loss: 0.5422 - val_accuracy: 0.7379 - 418ms/epoch - 14ms/step\n",
      "Epoch 11/20\n",
      "29/29 - 0s - loss: 0.3722 - accuracy: 0.8256 - val_loss: 0.6696 - val_accuracy: 0.7524 - 455ms/epoch - 16ms/step\n",
      "Epoch 12/20\n",
      "29/29 - 0s - loss: 0.3498 - accuracy: 0.8411 - val_loss: 0.6010 - val_accuracy: 0.7184 - 432ms/epoch - 15ms/step\n",
      "Epoch 13/20\n",
      "29/29 - 0s - loss: 0.3706 - accuracy: 0.8300 - val_loss: 0.6097 - val_accuracy: 0.7427 - 428ms/epoch - 15ms/step\n",
      "Epoch 14/20\n",
      "29/29 - 0s - loss: 0.3457 - accuracy: 0.8478 - val_loss: 0.6369 - val_accuracy: 0.7476 - 409ms/epoch - 14ms/step\n",
      "Epoch 15/20\n",
      "29/29 - 0s - loss: 0.3617 - accuracy: 0.8344 - val_loss: 0.5502 - val_accuracy: 0.7330 - 416ms/epoch - 14ms/step\n",
      "Epoch 16/20\n",
      "29/29 - 0s - loss: 0.3313 - accuracy: 0.8600 - val_loss: 0.6262 - val_accuracy: 0.7233 - 474ms/epoch - 16ms/step\n",
      "Epoch 17/20\n",
      "29/29 - 0s - loss: 0.3178 - accuracy: 0.8767 - val_loss: 0.6436 - val_accuracy: 0.7233 - 413ms/epoch - 14ms/step\n",
      "Epoch 18/20\n",
      "29/29 - 0s - loss: 0.3208 - accuracy: 0.8600 - val_loss: 0.6186 - val_accuracy: 0.7233 - 416ms/epoch - 14ms/step\n",
      "Epoch 19/20\n",
      "29/29 - 0s - loss: 0.3066 - accuracy: 0.8667 - val_loss: 0.7637 - val_accuracy: 0.7330 - 421ms/epoch - 15ms/step\n",
      "Epoch 20/20\n",
      "29/29 - 0s - loss: 0.3141 - accuracy: 0.8722 - val_loss: 0.6364 - val_accuracy: 0.7330 - 408ms/epoch - 14ms/step\n"
     ]
    }
   ],
   "source": [
    "from keras.callbacks import ModelCheckpoint\n",
    "\n",
    "# define the checkpoint to save the best model during training\n",
    "checkpoint = ModelCheckpoint('best_model.h5', monitor='val_accuracy', save_best_only=True, mode='max')\n",
    "\n",
    "history = model.fit(training_padded, training_labels, epochs=num_epochs, batch_size=32, validation_data=(testing_padded, testing_labels), verbose=2, callbacks=[checkpoint])"
   ]
  },
  {
   "cell_type": "code",
   "execution_count": 212,
   "metadata": {
    "colab": {
     "base_uri": "https://localhost:8080/",
     "height": 881
    },
    "id": "QJBx95cdDpHh",
    "outputId": "a4153a1f-960c-4843-d329-bd0484b2d636",
    "ExecuteTime": {
     "start_time": "2023-04-21T22:11:35.218093Z",
     "end_time": "2023-04-21T22:11:35.737467Z"
    }
   },
   "outputs": [
    {
     "data": {
      "text/plain": "<Figure size 640x480 with 1 Axes>",
      "image/png": "[encoded data removed]"
     },
     "metadata": {},
     "output_type": "display_data"
    },
    {
     "data": {
      "text/plain": "<Figure size 640x480 with 1 Axes>",
      "image/png": "[encoded data removed]"
     },
     "metadata": {},
     "output_type": "display_data"
    }
   ],
   "source": [
    "def plot_graphs(history, string):\n",
    "  plt.plot(history.history[string])\n",
    "  plt.plot(history.history['val_'+string])\n",
    "  plt.xlabel(\"Epochs\")\n",
    "  plt.ylabel(string)\n",
    "  plt.legend([string, 'val_'+string])\n",
    "  plt.show()\n",
    "  \n",
    "plot_graphs(history, \"accuracy\")\n",
    "plot_graphs(history, \"loss\")"
   ]
  },
  {
   "cell_type": "code",
   "source": [
    "# Model Evaluation\n",
    "eval_sequences = tokenizer.texts_to_sequences(testing_sentences)\n",
    "eval_padded = pad_sequences(eval_sequences, maxlen=max_length, padding=padding_type, truncating=trunc_type)\n",
    "pred = model.predict(eval_padded)\n",
    "predicted_labels = []\n",
    "for x in pred:\n",
    "  predicted_labels.append(int(x.round().item()))\n",
    "\n",
    "predicted_labels = tf.convert_to_tensor(predicted_labels)\n",
    "print(classification_report(testing_labels, predicted_labels))"
   ],
   "metadata": {
    "colab": {
     "base_uri": "https://localhost:8080/",
     "height": 0
    },
    "id": "hPj4Tk58Vq5t",
    "outputId": "ff034ca4-f1b3-4d5f-d967-d7b921336a36",
    "ExecuteTime": {
     "start_time": "2023-04-21T22:11:35.587544Z",
     "end_time": "2023-04-21T22:11:36.140463Z"
    }
   },
   "execution_count": 213,
   "outputs": [
    {
     "name": "stdout",
     "output_type": "stream",
     "text": [
      "7/7 [==============================] - 0s 13ms/step\n",
      "              precision    recall  f1-score   support\n",
      "\n",
      "           0       0.82      0.68      0.74       117\n",
      "           1       0.65      0.81      0.72        89\n",
      "\n",
      "    accuracy                           0.73       206\n",
      "   macro avg       0.74      0.74      0.73       206\n",
      "weighted avg       0.75      0.73      0.73       206\n",
      "\n"
     ]
    }
   ]
  },
  {
   "cell_type": "code",
   "execution_count": 214,
   "metadata": {
    "colab": {
     "base_uri": "https://localhost:8080/",
     "height": 0
    },
    "id": "Ynoe9i43Dsud",
    "outputId": "5872f63d-4930-47ae-bab4-d6437a397d18",
    "ExecuteTime": {
     "start_time": "2023-04-21T22:11:36.130868Z",
     "end_time": "2023-04-21T22:11:36.141602Z"
    }
   },
   "outputs": [
    {
     "name": "stdout",
     "output_type": "stream",
     "text": [
      "මම ගොඩාක් ලැජ්ජාශීලී කෙනෙක් උනා මිනිස්සු එක්ක වචනයක් වත් කතා කරන්නේ නැති එකෙනෙක් උනා ? ? ? ? ? ?\n",
      "රැදි සිටින්නමි තුරැලු වෙලා\n",
      "0\n"
     ]
    }
   ],
   "source": [
    "reverse_word_index = dict([(value, key) for (key, value) in word_index.items()])\n",
    "\n",
    "def decode_sentence(text):\n",
    "    return ' '.join([reverse_word_index.get(i, '?') for i in text])\n",
    "\n",
    "print(decode_sentence(training_padded[0]))\n",
    "print(training_sentences[2])\n",
    "print(labels[2])"
   ]
  },
  {
   "cell_type": "code",
   "execution_count": 215,
   "metadata": {
    "colab": {
     "base_uri": "https://localhost:8080/",
     "height": 0
    },
    "id": "YXAnfVYdDuyg",
    "outputId": "7ae7423e-7054-4949-a9c2-f7a5fec55226",
    "ExecuteTime": {
     "start_time": "2023-04-21T22:11:36.137203Z",
     "end_time": "2023-04-21T22:11:36.148229Z"
    }
   },
   "outputs": [
    {
     "name": "stdout",
     "output_type": "stream",
     "text": [
      "(3982, 300)\n"
     ]
    }
   ],
   "source": [
    "e = model.layers[0]\n",
    "weights = e.get_weights()[0]\n",
    "print(weights.shape) # shape: (vocab_size, embedding_dim)"
   ]
  },
  {
   "cell_type": "code",
   "execution_count": 216,
   "metadata": {
    "id": "gZost6BTDw5X",
    "ExecuteTime": {
     "start_time": "2023-04-21T22:11:36.153036Z",
     "end_time": "2023-04-21T22:11:37.171247Z"
    }
   },
   "outputs": [],
   "source": [
    "out_v = io.open('vecs.tsv', 'w', encoding='utf-8')\n",
    "out_m = io.open('meta.tsv', 'w', encoding='utf-8')\n",
    "for word_num in range(1, vocab_size):\n",
    "  word = reverse_word_index[word_num]\n",
    "  embeddings = weights[word_num]\n",
    "  out_m.write(word + \"\\n\")\n",
    "  out_v.write('\\t'.join([str(x) for x in embeddings]) + \"\\n\")\n",
    "out_v.close()\n",
    "out_m.close()"
   ]
  },
  {
   "cell_type": "code",
   "source": [
    "!mkdir -p saved_model\n",
    "model.save('depflow_trained_model.h5')"
   ],
   "metadata": {
    "colab": {
     "base_uri": "https://localhost:8080/",
     "height": 0
    },
    "id": "Iu2b0LxhZtQm",
    "outputId": "89283301-6dff-481a-9aa2-e43596072bd1",
    "ExecuteTime": {
     "start_time": "2023-04-21T22:11:37.173780Z",
     "end_time": "2023-04-21T22:11:38.026142Z"
    }
   },
   "execution_count": 217,
   "outputs": []
  },
  {
   "cell_type": "code",
   "execution_count": 218,
   "metadata": {
    "colab": {
     "base_uri": "https://localhost:8080/",
     "height": 0
    },
    "id": "795Kb4N-D3Qa",
    "outputId": "9048d010-b07a-41f7-8e97-e01bc954b416",
    "ExecuteTime": {
     "start_time": "2023-04-21T22:11:38.025759Z",
     "end_time": "2023-04-21T22:11:38.094467Z"
    }
   },
   "outputs": [
    {
     "name": "stdout",
     "output_type": "stream",
     "text": [
      "1/1 [==============================] - 0s 28ms/step\n",
      "[[0.92764485]\n",
      " [0.4639599 ]]\n"
     ]
    }
   ],
   "source": [
    "sentence = [\"මට ඇති මේ දුක දරන් හිටියා.\", \"මට සතුටුයි හොදටම\"]\n",
    "sequences = tokenizer.texts_to_sequences(sentence)\n",
    "padded = pad_sequences(sequences, maxlen=max_length, padding=padding_type, truncating=trunc_type)\n",
    "print(model.predict(padded))"
   ]
  },
  {
   "cell_type": "code",
   "execution_count": 219,
   "metadata": {
    "colab": {
     "base_uri": "https://localhost:8080/",
     "height": 0
    },
    "id": "ItmrbW56JTQJ",
    "outputId": "a1592393-ee9b-4468-85a6-f577b154772f",
    "ExecuteTime": {
     "start_time": "2023-04-21T22:11:38.099106Z",
     "end_time": "2023-04-21T22:11:38.565540Z"
    }
   },
   "outputs": [
    {
     "name": "stdout",
     "output_type": "stream",
     "text": [
      "1/1 [==============================] - 0s 23ms/step\n",
      "මට ඇති මේ දුක දරන් හිටියා.  : is a depressive post -  [[0.92764485]]\n",
      "1/1 [==============================] - 0s 21ms/step\n",
      "මම මැරිලා ම යන්නම්  : is a depressive post -  [[0.80653155]]\n",
      "1/1 [==============================] - 0s 15ms/step\n",
      "මම මරිලා ගියාම හැමොටම හොදයි.  : is not a depressive post -  [[0.45952427]]\n",
      "1/1 [==============================] - 0s 21ms/step\n",
      "දුක කියන්නෙ හෙට වැඩට යන්න තිබීමයි  : is a depressive post -  [[0.69695413]]\n",
      "1/1 [==============================] - 0s 18ms/step\n",
      "අපි හෙට උදේට මොනවද කන්නේ?  : is not a depressive post -  [[0.0021362]]\n",
      "1/1 [==============================] - 0s 25ms/step\n",
      "ඇයි මට මෙච්චර දුකක් දෙන්නේ දෙවියනේ  : is a depressive post -  [[0.96090555]]\n",
      "1/1 [==============================] - 0s 16ms/step\n",
      "ඔයාටනම් ඉතින් හිනා  : is not a depressive post -  [[0.20739579]]\n",
      "1/1 [==============================] - 0s 16ms/step\n",
      "මම හිතන්නේ මට තනිකම දැනෙනවා වැඩී  : is a depressive post -  [[0.9458526]]\n",
      "1/1 [==============================] - 0s 18ms/step\n",
      "මට හොදටම depression  : is a depressive post -  [[0.6339633]]\n",
      "1/1 [==============================] - 0s 22ms/step\n",
      "I feel like I want to cry  : is not a depressive post -  [[0.02477591]]\n",
      "1/1 [==============================] - 0s 18ms/step\n",
      "මම මේ දවස් ටිකේම දුක දරාගන්න බැරුව හොදටම ඇඩුවා  : is a depressive post -  [[0.96066093]]\n"
     ]
    },
    {
     "data": {
      "text/plain": "True"
     },
     "execution_count": 219,
     "metadata": {},
     "output_type": "execute_result"
    }
   ],
   "source": [
    "def check_depressive(post: str):\n",
    "  sentence = [post]\n",
    "  sequences = tokenizer.texts_to_sequences(sentence)\n",
    "  padded = pad_sequences(sequences, maxlen=max_length, padding=padding_type, truncating=trunc_type)\n",
    "  post_prediction = model.predict(padded)\n",
    "  label = post_prediction.round().item()\n",
    "  if label >= 1 :\n",
    "    print(post, \" : is a depressive post - \", post_prediction)\n",
    "  else:\n",
    "    print(post, \" : is not a depressive post - \", post_prediction)\n",
    "  return label >= 1\n",
    "\n",
    "check_depressive(\"මට ඇති මේ දුක දරන් හිටියා.\")\n",
    "check_depressive(\"මම මැරිලා ම යන්නම්\")\n",
    "check_depressive(\"මම මරිලා ගියාම හැමොටම හොදයි.\")\n",
    "check_depressive(\"දුක කියන්නෙ හෙට වැඩට යන්න තිබීමයි\")\n",
    "check_depressive(\"අපි හෙට උදේට මොනවද කන්නේ?\")\n",
    "check_depressive('ඇයි මට මෙච්චර දුකක් දෙන්නේ දෙවියනේ')\n",
    "check_depressive('ඔයාටනම් ඉතින් හිනා')\n",
    "check_depressive('මම හිතන්නේ මට තනිකම දැනෙනවා වැඩී')\n",
    "check_depressive('මට හොදටම depression')\n",
    "check_depressive('I feel like I want to cry')\n",
    "check_depressive('මම මේ දවස් ටිකේම දුක දරාගන්න බැරුව හොදටම ඇඩුවා')"
   ]
  },
  {
   "cell_type": "code",
   "source": [
    "app = Flask(__name__)\n",
    "\n",
    "@app.route(\"/\")\n",
    "def hello_world():\n",
    "    return \"<p>Hello, World!</p>\"\n",
    "\n",
    "@app.route(\"/predict\", methods=['POST'])\n",
    "def predict():\n",
    "    data = request.json\n",
    "    userid = data['user']['userid']\n",
    "    posts = data['posts']\n",
    "\n",
    "    if len(posts) == 0:\n",
    "        return jsonify([])\n",
    "    else:\n",
    "        if userid != '':\n",
    "            post_ids = [id['post_id'] for id in posts]\n",
    "            sentences = [post['post_value'] for post in posts]\n",
    "\n",
    "            result_set = []\n",
    "\n",
    "            for i in range(len(sentences)):\n",
    "                label = check_depressive(sentences[i])\n",
    "\n",
    "                if label == True:\n",
    "                    result_set.append({\n",
    "                        'post_id': post_ids[i],\n",
    "                        'label': 'depressive'\n",
    "                    })\n",
    "                else:\n",
    "                    result_set.append({\n",
    "                        'post_id': post_ids[i],\n",
    "                        'label': 'natural'\n",
    "                    })\n",
    "\n",
    "            return jsonify(result_set)\n",
    "        else:\n",
    "            return jsonify([])\n",
    "\n",
    "app.run()"
   ],
   "metadata": {
    "colab": {
     "base_uri": "https://localhost:8080/",
     "height": 0
    },
    "id": "cqY1Uv-x3q7U",
    "outputId": "96f71b7b-228e-4ef6-a1d2-30535e7b8ce3",
    "ExecuteTime": {
     "start_time": "2023-04-21T22:11:38.577811Z",
     "end_time": "2023-04-22T09:35:44.281231Z"
    }
   },
   "execution_count": 220,
   "outputs": [
    {
     "name": "stdout",
     "output_type": "stream",
     "text": [
      " * Serving Flask app '__main__'\n",
      " * Debug mode: off\n"
     ]
    },
    {
     "name": "stderr",
     "output_type": "stream",
     "text": [
      "\u001B[31m\u001B[1mWARNING: This is a development server. Do not use it in a production deployment. Use a production WSGI server instead.\u001B[0m\n",
      " * Running on http://127.0.0.1:5000\n",
      "\u001B[33mPress CTRL+C to quit\u001B[0m\n"
     ]
    },
    {
     "name": "stdout",
     "output_type": "stream",
     "text": [
      "1/1 [==============================] - 0s 39ms/step\n",
      "Elon musk is working on “EQUALITY” \n",
      " We all are same on Twitter at least .. \n",
      "what’s wrong with that :relieved::relieved::relieved:  : is not a depressive post -  [[0.01897246]]\n",
      "1/1 [==============================] - 0s 30ms/step\n",
      "අර සංගීතේ කියන කතාවෙ යන්නේ අනික් උන්ට අංචි අදින එක ගැනනේ ................. :face_palm::face_palm::face_palm::face_palm: මොනාද දෙවියනේ මේ කතා  : is not a depressive post -  [[0.0034148]]\n",
      "1/1 [==============================] - 0s 27ms/step\n",
      "#TweepsIftar is the annual Ramadan community event organized by the tweeps, for the tweeps, to join together and celebrate the diversity and harmony of our community. It's a gathering of all ethnicities over food. Dialog is glad to be part of #TweepsIftar for the 5th year  : is not a depressive post -  [[0.01569174]]\n",
      "1/1 [==============================] - 0s 26ms/step\n",
      "Dharshana Handungoda is really one of the most unreliable journalists in the country.  : is not a depressive post -  [[0.01200381]]\n",
      "1/1 [==============================] - 0s 21ms/step\n",
      "ලොකු ලොකු ආසාවල් නෑ. @dul_nayanathara වගෙයි @unknown_lankan වගෙයි ලස්සන වෙන්න තිබ්බනම් ඇති :sneezing_face:  : is not a depressive post -  [[0.09724536]]\n",
      "1/1 [==============================] - 0s 18ms/step\n",
      "ඉස්කෝලෙ පේරන්ට්ස්ල මට ඩාන්සින් ප්‍රයිවට් ක්ලාස් කරන්නකො කියල කියන්නෙ ලමය ඩාන්සින් ඉගෙනගන්න තියෙන ආසාවට නෙමෙයි ඇත්තටම. එහෙම ප්‍රයිවට් එවුවම ස්කුල් එකේ තියෙන ඉවෙන්ට්ස් වලදි ඒ ලමයිට ෆේවරේෂන් කරල ලමයව ඩාන්ස් එකේ ඉස්සරහට, සෙන්ටර් එකට දාගන්න තියෙන උවමනාවට ..!! :sneezing_face:  : is not a depressive post -  [[0.23100652]]\n",
      "1/1 [==============================] - 0s 24ms/step\n",
      "හැම කෙල්ලම කාර් හෙවුවේ නෑ:see_no_evil:\n",
      "\n",
      "හයර් යන්න :grin:  : is not a depressive post -  [[0.00595684]]\n",
      "1/1 [==============================] - 0s 20ms/step\n",
      "ආයෙ මන් මෙයාගෙ පොටෝ යූස් කරන්නෙ නෑ අයියෝ, කට්ටිය හිතන් ඇත්තේ මං මෙයා වගේ කියලා :sleepy::sleepy::sleepy::sleepy::sleepy::sleepy::sleepy::sleepy::sleepy::sleepy::sleepy: මට බෑ ..............:sob::sob::sob::sob::sob::sob: ඒ උනාට මං මෙයාට හෙන කැමතී ............. :sob::sob::sob::sob::sob:\n",
      ".\n",
      ".\n",
      ".\n",
      ".\n",
      ".  : is a depressive post -  [[0.5480392]]\n",
      "1/1 [==============================] - 0s 25ms/step\n",
      "ඕන එකෙක්ට ටුයිටර් බ්ලූටික් කියලා එකක් ආවෙකත් හොඳයි හැබැයි. නැත්තං ඔය තරම් ට්‍රැක් ගෝතයො ටිකක් ලංකාවෙ ඉන්නවා කියලා දන්නැතුවනෙ දෙයියනේ අපිට මැරිලා යන්න වෙන්නෙ...  : is not a depressive post -  [[0.00176757]]\n",
      "1/1 [==============================] - 0s 21ms/step\n",
      "මම google කරත් මට පැහැදිලි පිලිතුරක් තියෙන ලින්ක් එකක් හමුවුනේ නෑ\n",
      "\n",
      "ඔයාලට පුදුවන්ද මට පැහැදිලි කරන්න, වතුර වියෝජනය කරලා හයිඩ්‍රජන් අරන්, ඒ හයිඩ්‍රජන් ආයේ දහනය කරලා දුවන වාහන ලාභදායී වෙන්නේ කොහොමද?\n",
      "\n",
      "H2O වියෝජන එන්තැල්පිය, හයිඩ්‍රජන් දහන ශක්තියට සමානයි නේද?  : is a depressive post -  [[0.5122687]]\n",
      "1/1 [==============================] - 0s 19ms/step\n",
      "තල්මස් වමනෙ කිලෝ 15ක් එක්ක එකෙක්ව අල්ලලා නේහ්...මුහුදෙ පාවෙන එකක්වත් අරන් එන්න බැරිද ලංකාවෙ?  : is not a depressive post -  [[0.05805339]]\n",
      "1/1 [==============================] - 0s 18ms/step\n",
      "ආයෙ මං එයාගෙ ඉන්ස්ටා ස්ටෝරි බලන්නේ නෑ :triumph::triumph::pleading_face::pleading_face: දකින දකින වාරයක් පාසා දුක හිතෙනවා .......... :sleepy::sleepy:  : is not a depressive post -  [[0.10145614]]\n",
      "1/1 [==============================] - 0s 31ms/step\n",
      "හුරේ මෙහෙට වහිනවා\n",
      "සිංදුව දාපු කාට හරි පිං :black_heart:  : is not a depressive post -  [[0.00076837]]\n",
      "1/1 [==============================] - 0s 19ms/step\n",
      "සින්දු කියන සුදු මහත්තයා :pleading_face::pleading_face::pleading_face::pleading_face::pleading_face: නලුවෙක් වගේ  : is not a depressive post -  [[0.0006282]]\n",
      "1/1 [==============================] - 0s 17ms/step\n",
      "Quote with celebs you’ve been told u look like.  : is not a depressive post -  [[0.02063942]]\n",
      "1/1 [==============================] - 0s 31ms/step\n",
      "ඒ හිනාව තමා ලස්සන, වොයිස් එකත් ලස්සනයි , සින්දු කියද්දි මාර ලස්සනයි :pleading_face::pleading_face::pleading_face::pleading_face::pleading_face::pleading_face::pleading_face: සුදු මහත්තයා  : is not a depressive post -  [[0.10320206]]\n",
      "1/1 [==============================] - 0s 17ms/step\n",
      "වස්සැපුත් නෑ, ඉන්ස්ටත් නෑ, සුදුමහත්ත්‍යා ආගිය අතක් නෑ ........... :triumph::triumph::triumph::triumph:  : is not a depressive post -  [[0.06164991]]\n",
      "1/1 [==============================] - 0s 18ms/step\n",
      "සුදු මාත්තයා ආගිය අතක් නෑ. ගිය අතක් හොයන්න කන්ටෑක්ට් ණෑ ............. :neutral_face::neutral_face::neutral_face::neutral_face::neutral_face:  : is not a depressive post -  [[0.00112658]]\n",
      "1/1 [==============================] - 0s 18ms/step\n"
     ]
    },
    {
     "name": "stderr",
     "output_type": "stream",
     "text": [
      "127.0.0.1 - - [21/Apr/2023 22:12:06] \"POST /predict HTTP/1.1\" 200 -\n"
     ]
    },
    {
     "name": "stdout",
     "output_type": "stream",
     "text": [
      "සුදු මාත්තියා මතක් වෙනෝ .......... :weary::weary::weary::weary:  : is not a depressive post -  [[0.00707591]]\n",
      "1/1 [==============================] - 0s 28ms/step\n",
      "අපි හෙට උදේට මොනවද කන්නේ? :stuck_out_tongue_closed_eyes:\n",
      "\n",
      "(OnlyForResearch)  : is not a depressive post -  [[0.00160482]]\n",
      "1/1 [==============================] - 0s 30ms/step\n",
      "මම මේ දවස් ටිකේම දුක දරාගන්න බැරුව හොදටම ඇඩුවා :frowning:\n",
      "\n",
      "(OnlyForResearch)  : is a depressive post -  [[0.96003693]]\n",
      "1/1 [==============================] - 0s 20ms/step\n",
      "ඔයාටනම් ඉතින් හිනා\n",
      "\n",
      "(OnlyForResearch)  : is not a depressive post -  [[0.1899816]]\n",
      "1/1 [==============================] - 0s 19ms/step\n",
      "දුක කියන්නෙ හෙට වැඩට යන්න තිබීමයි\n",
      "\n",
      "(OnlyForResearch)  : is a depressive post -  [[0.68978405]]\n",
      "1/1 [==============================] - 0s 22ms/step\n",
      "මම මරිලා ගියාම හැමොටම හොදයි.\n",
      "\n",
      "(OnlyForResearch)  : is not a depressive post -  [[0.44541103]]\n",
      "1/1 [==============================] - 0s 27ms/step\n",
      "මම මැරිලම යන්නම්\n",
      "\n",
      "(OnlyForResearch)  : is not a depressive post -  [[0.4114489]]\n",
      "1/1 [==============================] - 0s 18ms/step\n"
     ]
    },
    {
     "name": "stderr",
     "output_type": "stream",
     "text": [
      "127.0.0.1 - - [21/Apr/2023 22:12:24] \"POST /predict HTTP/1.1\" 200 -\n"
     ]
    },
    {
     "name": "stdout",
     "output_type": "stream",
     "text": [
      "මට ඇති මේ දුක දරන් හිටියා.\n",
      "\n",
      "(OnlyForResearch)  : is a depressive post -  [[0.9262271]]\n",
      "1/1 [==============================] - 0s 170ms/step\n",
      "මම මැරිල ම යන්නම්  (OnlyForResearch)  : is a depressive post -  [[0.61440945]]\n",
      "1/1 [==============================] - 0s 22ms/step\n",
      "අපි හෙට උදේට මොනවද කන්නේ? :stuck_out_tongue_closed_eyes:\n",
      "\n",
      "(OnlyForResearch)  : is not a depressive post -  [[0.00160482]]\n",
      "1/1 [==============================] - 0s 24ms/step\n",
      "මම මේ දවස් ටිකේම දුක දරාගන්න බැරුව හොදටම ඇඩුවා :frowning:\n",
      "\n",
      "(OnlyForResearch)  : is a depressive post -  [[0.96003693]]\n",
      "1/1 [==============================] - 0s 17ms/step\n",
      "ඔයාටනම් ඉතින් හිනා\n",
      "\n",
      "(OnlyForResearch)  : is not a depressive post -  [[0.1899816]]\n",
      "1/1 [==============================] - 0s 22ms/step\n",
      "දුක කියන්නෙ හෙට වැඩට යන්න තිබීමයි\n",
      "\n",
      "(OnlyForResearch)  : is a depressive post -  [[0.68978405]]\n",
      "1/1 [==============================] - 0s 16ms/step\n",
      "මම මරිලා ගියාම හැමොටම හොදයි.\n",
      "\n",
      "(OnlyForResearch)  : is not a depressive post -  [[0.44541103]]\n",
      "1/1 [==============================] - 0s 16ms/step\n"
     ]
    },
    {
     "name": "stderr",
     "output_type": "stream",
     "text": [
      "127.0.0.1 - - [21/Apr/2023 22:14:04] \"POST /predict HTTP/1.1\" 200 -\n"
     ]
    },
    {
     "name": "stdout",
     "output_type": "stream",
     "text": [
      "මට ඇති මේ දුක දරන් හිටියා.\n",
      "\n",
      "(OnlyForResearch)  : is a depressive post -  [[0.9262271]]\n",
      "1/1 [==============================] - 0s 30ms/step\n",
      "මම මැරිල ම යන්නම්  (OnlyForResearch)  : is a depressive post -  [[0.61440945]]\n",
      "1/1 [==============================] - 0s 27ms/step\n",
      "අපි හෙට උදේට මොනවද කන්නේ? :stuck_out_tongue_closed_eyes:\n",
      "\n",
      "(OnlyForResearch)  : is not a depressive post -  [[0.00160482]]\n",
      "1/1 [==============================] - 0s 24ms/step\n",
      "මම මේ දවස් ටිකේම දුක දරාගන්න බැරුව හොදටම ඇඩුවා :frowning:\n",
      "\n",
      "(OnlyForResearch)  : is a depressive post -  [[0.96003693]]\n",
      "1/1 [==============================] - 0s 24ms/step\n",
      "ඔයාටනම් ඉතින් හිනා\n",
      "\n",
      "(OnlyForResearch)  : is not a depressive post -  [[0.1899816]]\n",
      "1/1 [==============================] - 0s 29ms/step\n",
      "දුක කියන්නෙ හෙට වැඩට යන්න තිබීමයි\n",
      "\n",
      "(OnlyForResearch)  : is a depressive post -  [[0.68978405]]\n",
      "1/1 [==============================] - 0s 24ms/step\n",
      "මම මරිලා ගියාම හැමොටම හොදයි.\n",
      "\n",
      "(OnlyForResearch)  : is not a depressive post -  [[0.44541103]]\n",
      "1/1 [==============================] - 0s 33ms/step\n"
     ]
    },
    {
     "name": "stderr",
     "output_type": "stream",
     "text": [
      "127.0.0.1 - - [21/Apr/2023 22:15:05] \"POST /predict HTTP/1.1\" 200 -\n"
     ]
    },
    {
     "name": "stdout",
     "output_type": "stream",
     "text": [
      "මට ඇති මේ දුක දරන් හිටියා.\n",
      "\n",
      "(OnlyForResearch)  : is a depressive post -  [[0.9262271]]\n",
      "1/1 [==============================] - 0s 45ms/step\n",
      "Lorem ipsum dolor sit amet, consectetur adipiscing elit. Mauris mattis ut ipsum sollicitudin efficitur. Nulla pellentesque molestie commodo. Sed sollicitudin.  : is not a depressive post -  [[0.01569174]]\n",
      "1/1 [==============================] - 0s 33ms/step\n",
      "මම මැරිල ම යන්නම්  (OnlyForResearch)  : is a depressive post -  [[0.61440945]]\n",
      "1/1 [==============================] - 0s 19ms/step\n",
      "අපි හෙට උදේට මොනවද කන්නේ? :stuck_out_tongue_closed_eyes:\n",
      "\n",
      "(OnlyForResearch)  : is not a depressive post -  [[0.00160482]]\n",
      "1/1 [==============================] - 0s 32ms/step\n",
      "මම මේ දවස් ටිකේම දුක දරාගන්න බැරුව හොදටම ඇඩුවා :frowning:\n",
      "\n",
      "(OnlyForResearch)  : is a depressive post -  [[0.96003693]]\n",
      "1/1 [==============================] - 0s 23ms/step\n",
      "ඔයාටනම් ඉතින් හිනා\n",
      "\n",
      "(OnlyForResearch)  : is not a depressive post -  [[0.1899816]]\n",
      "1/1 [==============================] - 0s 25ms/step\n",
      "දුක කියන්නෙ හෙට වැඩට යන්න තිබීමයි\n",
      "\n",
      "(OnlyForResearch)  : is a depressive post -  [[0.68978405]]\n",
      "1/1 [==============================] - 0s 22ms/step\n",
      "මම මරිලා ගියාම හැමොටම හොදයි.\n",
      "\n",
      "(OnlyForResearch)  : is not a depressive post -  [[0.44541103]]\n",
      "1/1 [==============================] - 0s 19ms/step\n"
     ]
    },
    {
     "name": "stderr",
     "output_type": "stream",
     "text": [
      "127.0.0.1 - - [21/Apr/2023 22:15:16] \"POST /predict HTTP/1.1\" 200 -\n"
     ]
    },
    {
     "name": "stdout",
     "output_type": "stream",
     "text": [
      "මට ඇති මේ දුක දරන් හිටියා.\n",
      "\n",
      "(OnlyForResearch)  : is a depressive post -  [[0.9262271]]\n"
     ]
    }
   ]
  }
 ],
 "metadata": {
  "colab": {
   "provenance": [],
   "gpuType": "T4"
  },
  "kernelspec": {
   "name": "python3",
   "language": "python",
   "display_name": "Python 3 (ipykernel)"
  },
  "language_info": {
   "name": "python"
  },
  "accelerator": "GPU",
  "gpuClass": "standard"
 },
 "nbformat": 4,
 "nbformat_minor": 0
}
